{
 "cells": [
  {
   "cell_type": "code",
   "execution_count": 1,
   "metadata": {},
   "outputs": [],
   "source": [
    "import pandas as pd"
   ]
  },
  {
   "cell_type": "markdown",
   "metadata": {},
   "source": [
    "# white 합치기"
   ]
  },
  {
   "cell_type": "code",
   "execution_count": 238,
   "metadata": {},
   "outputs": [],
   "source": [
    "wine_review_0_2000 = pd.read_csv(\"data/white_review_0_2000.csv\", encoding=\"utf-8\",index_col=[0])"
   ]
  },
  {
   "cell_type": "code",
   "execution_count": 239,
   "metadata": {},
   "outputs": [],
   "source": [
    "wine_review_2000_3000 = pd.read_csv(\"data/white_review_2000_3000.csv\", encoding=\"utf-8\",index_col=[0])"
   ]
  },
  {
   "cell_type": "code",
   "execution_count": 240,
   "metadata": {},
   "outputs": [],
   "source": [
    "wine_review_3000_fin = pd.read_csv(\"data/white_review_3000_fin.csv\", encoding=\"utf-8\",index_col=[0])"
   ]
  },
  {
   "cell_type": "code",
   "execution_count": 241,
   "metadata": {},
   "outputs": [],
   "source": [
    "white_review = pd.concat([wine_review_0_2000,wine_review_2000_3000,wine_review_3000_fin])"
   ]
  },
  {
   "cell_type": "code",
   "execution_count": 242,
   "metadata": {},
   "outputs": [],
   "source": [
    "# id => wine_id\n",
    "white_review .rename({'id':'wine_id'},axis=1,inplace=True)"
   ]
  },
  {
   "cell_type": "code",
   "execution_count": 243,
   "metadata": {
    "scrolled": true
   },
   "outputs": [
    {
     "name": "stdout",
     "output_type": "stream",
     "text": [
      "<class 'pandas.core.frame.DataFrame'>\n",
      "Int64Index: 5805 entries, 0 to 2806\n",
      "Data columns (total 2 columns):\n",
      " #   Column   Non-Null Count  Dtype \n",
      "---  ------   --------------  ----- \n",
      " 0   wine_id  5805 non-null   int64 \n",
      " 1   re       5805 non-null   object\n",
      "dtypes: int64(1), object(1)\n",
      "memory usage: 136.1+ KB\n"
     ]
    }
   ],
   "source": [
    "white_review.info()"
   ]
  },
  {
   "cell_type": "code",
   "execution_count": 244,
   "metadata": {
    "scrolled": false
   },
   "outputs": [],
   "source": [
    "white_info = pd.read_csv('data/white_wine_info.csv',index_col=[0])"
   ]
  },
  {
   "cell_type": "code",
   "execution_count": 245,
   "metadata": {
    "scrolled": true
   },
   "outputs": [
    {
     "name": "stdout",
     "output_type": "stream",
     "text": [
      "<class 'pandas.core.frame.DataFrame'>\n",
      "Int64Index: 5769 entries, 0 to 5768\n",
      "Data columns (total 10 columns):\n",
      " #   Column   Non-Null Count  Dtype  \n",
      "---  ------   --------------  -----  \n",
      " 0   name     5769 non-null   object \n",
      " 1   price    5710 non-null   float64\n",
      " 2   score    5769 non-null   float64\n",
      " 3   winery   5769 non-null   object \n",
      " 4   grapes   5743 non-null   object \n",
      " 5   country  5766 non-null   object \n",
      " 6   region   5766 non-null   object \n",
      " 7   alcohol  3463 non-null   float64\n",
      " 8   foods    5545 non-null   object \n",
      " 9   wine_id  5769 non-null   int64  \n",
      "dtypes: float64(3), int64(1), object(6)\n",
      "memory usage: 495.8+ KB\n"
     ]
    }
   ],
   "source": [
    "white_info.info()"
   ]
  },
  {
   "cell_type": "code",
   "execution_count": 246,
   "metadata": {},
   "outputs": [],
   "source": [
    "white = pd.merge(white_wine_info,white_wine_review ,on='wine_id')"
   ]
  },
  {
   "cell_type": "code",
   "execution_count": 247,
   "metadata": {},
   "outputs": [
    {
     "name": "stdout",
     "output_type": "stream",
     "text": [
      "<class 'pandas.core.frame.DataFrame'>\n",
      "Int64Index: 5766 entries, 0 to 5765\n",
      "Data columns (total 10 columns):\n",
      " #   Column   Non-Null Count  Dtype  \n",
      "---  ------   --------------  -----  \n",
      " 0   name     5766 non-null   object \n",
      " 1   price    5708 non-null   float64\n",
      " 2   score    5766 non-null   float64\n",
      " 3   winery   5766 non-null   object \n",
      " 4   country  5763 non-null   object \n",
      " 5   region   5763 non-null   object \n",
      " 6   alcohol  3462 non-null   float64\n",
      " 7   foods    5542 non-null   object \n",
      " 8   wine_id  5766 non-null   int64  \n",
      " 9   re       5766 non-null   object \n",
      "dtypes: float64(3), int64(1), object(6)\n",
      "memory usage: 495.5+ KB\n"
     ]
    }
   ],
   "source": [
    "white.info()"
   ]
  },
  {
   "cell_type": "code",
   "execution_count": 248,
   "metadata": {},
   "outputs": [
    {
     "data": {
      "text/plain": [
       "14713468    1\n",
       "16206311    1\n",
       "1131906     1\n",
       "24509825    1\n",
       "25610170    1\n",
       "           ..\n",
       "198749      1\n",
       "19706563    1\n",
       "23446012    1\n",
       "17984192    1\n",
       "21366783    1\n",
       "Name: wine_id, Length: 5766, dtype: int64"
      ]
     },
     "execution_count": 248,
     "metadata": {},
     "output_type": "execute_result"
    }
   ],
   "source": [
    "white['wine_id'].value_counts()"
   ]
  },
  {
   "cell_type": "code",
   "execution_count": null,
   "metadata": {},
   "outputs": [],
   "source": []
  },
  {
   "cell_type": "markdown",
   "metadata": {},
   "source": [
    "# red_tail 합치기"
   ]
  },
  {
   "cell_type": "code",
   "execution_count": 250,
   "metadata": {},
   "outputs": [],
   "source": [
    "red_tail_review_0_1000 = pd.read_csv(\"data/red_tail_review_0_1000.csv\", encoding=\"utf-8\",index_col=[0])"
   ]
  },
  {
   "cell_type": "code",
   "execution_count": 251,
   "metadata": {},
   "outputs": [],
   "source": [
    "red_tail_1000_2000 = pd.read_csv(\"data/red_tail_review_1000_2000.csv\", encoding=\"utf-8\",index_col=[0])"
   ]
  },
  {
   "cell_type": "code",
   "execution_count": 252,
   "metadata": {},
   "outputs": [],
   "source": [
    "red_tail_review_2000_4000 = pd.read_csv(\"data/red_tail_review_2000_4000.csv\", encoding=\"utf-8\",index_col=[0])"
   ]
  },
  {
   "cell_type": "code",
   "execution_count": 253,
   "metadata": {},
   "outputs": [],
   "source": [
    "red_tail_review_4000_6000 = pd.read_csv(\"data/red_tail_review_4000_6000.csv\", encoding=\"utf-8\",index_col=[0])"
   ]
  },
  {
   "cell_type": "code",
   "execution_count": 254,
   "metadata": {},
   "outputs": [],
   "source": [
    "red_tail_review_6000_ = pd.read_csv(\"data/red_tail_review_6000_.csv\", encoding=\"utf-8\",index_col=[0])"
   ]
  },
  {
   "cell_type": "code",
   "execution_count": 255,
   "metadata": {},
   "outputs": [],
   "source": [
    "red_tail_review = pd.concat([red_tail_review_0_1000,red_tail_1000_2000,red_tail_review_2000_4000,red_tail_review_4000_6000,red_tail_review_6000_])"
   ]
  },
  {
   "cell_type": "code",
   "execution_count": 256,
   "metadata": {},
   "outputs": [],
   "source": [
    "# id => wine_id\n",
    "red_tail_review.rename({'id':'wine_id'},axis=1,inplace=True)"
   ]
  },
  {
   "cell_type": "code",
   "execution_count": 257,
   "metadata": {},
   "outputs": [],
   "source": [
    "red_tail_info = pd.read_csv(\"data/red_wine_info(tail).csv\",encoding=\"utf-8\",index_col=[0])"
   ]
  },
  {
   "cell_type": "code",
   "execution_count": 258,
   "metadata": {},
   "outputs": [],
   "source": [
    "red_tail = pd.merge(red_tail_info,red_tail_review,on='wine_id')"
   ]
  },
  {
   "cell_type": "code",
   "execution_count": 259,
   "metadata": {
    "scrolled": true
   },
   "outputs": [
    {
     "name": "stdout",
     "output_type": "stream",
     "text": [
      "<class 'pandas.core.frame.DataFrame'>\n",
      "Int64Index: 8333 entries, 0 to 8332\n",
      "Data columns (total 11 columns):\n",
      " #   Column   Non-Null Count  Dtype  \n",
      "---  ------   --------------  -----  \n",
      " 0   name     8333 non-null   object \n",
      " 1   price    8323 non-null   float64\n",
      " 2   score    8333 non-null   float64\n",
      " 3   winery   8333 non-null   object \n",
      " 4   grapes   8324 non-null   object \n",
      " 5   country  8332 non-null   object \n",
      " 6   region   8332 non-null   object \n",
      " 7   alcohol  5135 non-null   float64\n",
      " 8   foods    8329 non-null   object \n",
      " 9   wine_id  8333 non-null   int64  \n",
      " 10  re       8333 non-null   object \n",
      "dtypes: float64(3), int64(1), object(7)\n",
      "memory usage: 781.2+ KB\n"
     ]
    }
   ],
   "source": [
    "red_tail.info()"
   ]
  },
  {
   "cell_type": "code",
   "execution_count": 260,
   "metadata": {},
   "outputs": [],
   "source": [
    "#red_tail = pd.merge(red_tail_info,red_tail_review,on='wine_id',how='left')"
   ]
  },
  {
   "cell_type": "code",
   "execution_count": 261,
   "metadata": {},
   "outputs": [],
   "source": [
    "#red_tail.info()"
   ]
  },
  {
   "cell_type": "code",
   "execution_count": 281,
   "metadata": {},
   "outputs": [
    {
     "data": {
      "text/html": [
       "<div>\n",
       "<style scoped>\n",
       "    .dataframe tbody tr th:only-of-type {\n",
       "        vertical-align: middle;\n",
       "    }\n",
       "\n",
       "    .dataframe tbody tr th {\n",
       "        vertical-align: top;\n",
       "    }\n",
       "\n",
       "    .dataframe thead th {\n",
       "        text-align: right;\n",
       "    }\n",
       "</style>\n",
       "<table border=\"1\" class=\"dataframe\">\n",
       "  <thead>\n",
       "    <tr style=\"text-align: right;\">\n",
       "      <th></th>\n",
       "      <th>name</th>\n",
       "      <th>price</th>\n",
       "      <th>score</th>\n",
       "      <th>winery</th>\n",
       "      <th>grapes</th>\n",
       "      <th>country</th>\n",
       "      <th>region</th>\n",
       "      <th>alcohol</th>\n",
       "      <th>foods</th>\n",
       "      <th>wine_id</th>\n",
       "      <th>re</th>\n",
       "    </tr>\n",
       "  </thead>\n",
       "  <tbody>\n",
       "    <tr>\n",
       "      <th>15</th>\n",
       "      <td>Napa Valley Cabernet Sauvignon  1987</td>\n",
       "      <td>64.97</td>\n",
       "      <td>4.4</td>\n",
       "      <td>Chateau Montelena</td>\n",
       "      <td>Cabernet Sauvignon</td>\n",
       "      <td>United States</td>\n",
       "      <td>Napa Valley</td>\n",
       "      <td>NaN</td>\n",
       "      <td>['Beef', 'Lamb', 'Game (deer, venison)', 'Matu...</td>\n",
       "      <td>10953643</td>\n",
       "      <td>['Seamless fresh coffee grind with dark black ...</td>\n",
       "    </tr>\n",
       "    <tr>\n",
       "      <th>19</th>\n",
       "      <td>San Mateo County Pinot Noir  2013</td>\n",
       "      <td>79.95</td>\n",
       "      <td>4.3</td>\n",
       "      <td>Rhys Vineyards</td>\n",
       "      <td>Pinot Noir</td>\n",
       "      <td>United States</td>\n",
       "      <td>California</td>\n",
       "      <td>NaN</td>\n",
       "      <td>['Beef', 'Veal', 'Game (deer, venison)', 'Poul...</td>\n",
       "      <td>24540684</td>\n",
       "      <td>['Great nose and mouthfeel\\nTannins softening ...</td>\n",
       "    </tr>\n",
       "    <tr>\n",
       "      <th>25</th>\n",
       "      <td>Reserve Pinot Noir  2016</td>\n",
       "      <td>84.99</td>\n",
       "      <td>4.4</td>\n",
       "      <td>Hirsch Vineyards</td>\n",
       "      <td>Pinot Noir</td>\n",
       "      <td>United States</td>\n",
       "      <td>Sonoma Coast</td>\n",
       "      <td>13.0</td>\n",
       "      <td>['Beef', 'Veal', 'Game (deer, venison)', 'Poul...</td>\n",
       "      <td>22687888</td>\n",
       "      <td>['Rubber, raspberry, cherry. Juicy, rich. Grap...</td>\n",
       "    </tr>\n",
       "    <tr>\n",
       "      <th>29</th>\n",
       "      <td>Chante Le Merle Vieilles Vignes Châteauneuf-du...</td>\n",
       "      <td>89.99</td>\n",
       "      <td>4.4</td>\n",
       "      <td>Bosquet des Papes</td>\n",
       "      <td>Grenache</td>\n",
       "      <td>France</td>\n",
       "      <td>Châteauneuf-du-Pape</td>\n",
       "      <td>NaN</td>\n",
       "      <td>['Lamb', 'Pork', 'Poultry']</td>\n",
       "      <td>23443515</td>\n",
       "      <td>[\"Can't be beat! Excellent mouthfeel, bouquet ...</td>\n",
       "    </tr>\n",
       "    <tr>\n",
       "      <th>34</th>\n",
       "      <td>La Dame de Montrose Saint-Estèphe  1990</td>\n",
       "      <td>52.99</td>\n",
       "      <td>4.7</td>\n",
       "      <td>Château Montrose</td>\n",
       "      <td>Cabernet Sauvignon</td>\n",
       "      <td>France</td>\n",
       "      <td>Saint-Estèphe</td>\n",
       "      <td>NaN</td>\n",
       "      <td>['Beef', 'Lamb', 'Game (deer, venison)', 'Poul...</td>\n",
       "      <td>15271918</td>\n",
       "      <td>['Forest fruits and leather ', 'Smooth light f...</td>\n",
       "    </tr>\n",
       "    <tr>\n",
       "      <th>...</th>\n",
       "      <td>...</td>\n",
       "      <td>...</td>\n",
       "      <td>...</td>\n",
       "      <td>...</td>\n",
       "      <td>...</td>\n",
       "      <td>...</td>\n",
       "      <td>...</td>\n",
       "      <td>...</td>\n",
       "      <td>...</td>\n",
       "      <td>...</td>\n",
       "      <td>...</td>\n",
       "    </tr>\n",
       "    <tr>\n",
       "      <th>8154</th>\n",
       "      <td>Saint-Émilion Grand Cru  2011</td>\n",
       "      <td>99.99</td>\n",
       "      <td>4.5</td>\n",
       "      <td>Gracia</td>\n",
       "      <td>Cabernet Sauvignon</td>\n",
       "      <td>France</td>\n",
       "      <td>Saint-Émilion Grand Cru</td>\n",
       "      <td>14.5</td>\n",
       "      <td>['Beef', 'Lamb', 'Game (deer, venison)', 'Poul...</td>\n",
       "      <td>22981907</td>\n",
       "      <td>['Improved from a 4⭐️ to a solid 4.5⭐️ since m...</td>\n",
       "    </tr>\n",
       "    <tr>\n",
       "      <th>8159</th>\n",
       "      <td>Pinot Noir  2013</td>\n",
       "      <td>74.99</td>\n",
       "      <td>4.4</td>\n",
       "      <td>Aston Estate</td>\n",
       "      <td>Pinot Noir</td>\n",
       "      <td>United States</td>\n",
       "      <td>Sonoma Coast</td>\n",
       "      <td>NaN</td>\n",
       "      <td>['Beef', 'Veal', 'Game (deer, venison)', 'Poul...</td>\n",
       "      <td>10758540</td>\n",
       "      <td>['Always the best. More acidic. Strawberry and...</td>\n",
       "    </tr>\n",
       "    <tr>\n",
       "      <th>8218</th>\n",
       "      <td>Napa Valley Cabernet Sauvignon  2006</td>\n",
       "      <td>64.97</td>\n",
       "      <td>4.4</td>\n",
       "      <td>Chateau Montelena</td>\n",
       "      <td>Cabernet Sauvignon</td>\n",
       "      <td>United States</td>\n",
       "      <td>Napa Valley</td>\n",
       "      <td>14.5</td>\n",
       "      <td>['Beef', 'Lamb', 'Game (deer, venison)', 'Matu...</td>\n",
       "      <td>17488228</td>\n",
       "      <td>['Velvet with smooth flavor.\\nA true treat.\\nP...</td>\n",
       "    </tr>\n",
       "    <tr>\n",
       "      <th>8242</th>\n",
       "      <td>Pomerol  2010</td>\n",
       "      <td>89.00</td>\n",
       "      <td>4.3</td>\n",
       "      <td>Château Feytit-Clinet</td>\n",
       "      <td>Merlot</td>\n",
       "      <td>France</td>\n",
       "      <td>Pomerol</td>\n",
       "      <td>NaN</td>\n",
       "      <td>['Beef', 'Lamb', 'Game (deer, venison)', 'Poul...</td>\n",
       "      <td>26504109</td>\n",
       "      <td>['Medium body, purple flowers, smooth，soft tan...</td>\n",
       "    </tr>\n",
       "    <tr>\n",
       "      <th>8298</th>\n",
       "      <td>Pauillac (Grand Cru Classé)  2005</td>\n",
       "      <td>89.99</td>\n",
       "      <td>4.2</td>\n",
       "      <td>Château Haut-Bages Libéral</td>\n",
       "      <td>Merlot</td>\n",
       "      <td>France</td>\n",
       "      <td>Pauillac</td>\n",
       "      <td>12.5</td>\n",
       "      <td>['Beef', 'Lamb', 'Game (deer, venison)', 'Poul...</td>\n",
       "      <td>25029004</td>\n",
       "      <td>['Classic nose here, with already some pencil-...</td>\n",
       "    </tr>\n",
       "  </tbody>\n",
       "</table>\n",
       "<p>580 rows × 11 columns</p>\n",
       "</div>"
      ],
      "text/plain": [
       "                                                   name  price  score  \\\n",
       "15                 Napa Valley Cabernet Sauvignon  1987  64.97    4.4   \n",
       "19                    San Mateo County Pinot Noir  2013  79.95    4.3   \n",
       "25                             Reserve Pinot Noir  2016  84.99    4.4   \n",
       "29    Chante Le Merle Vieilles Vignes Châteauneuf-du...  89.99    4.4   \n",
       "34              La Dame de Montrose Saint-Estèphe  1990  52.99    4.7   \n",
       "...                                                 ...    ...    ...   \n",
       "8154                      Saint-Émilion Grand Cru  2011  99.99    4.5   \n",
       "8159                                   Pinot Noir  2013  74.99    4.4   \n",
       "8218               Napa Valley Cabernet Sauvignon  2006  64.97    4.4   \n",
       "8242                                      Pomerol  2010  89.00    4.3   \n",
       "8298                  Pauillac (Grand Cru Classé)  2005  89.99    4.2   \n",
       "\n",
       "                          winery              grapes        country  \\\n",
       "15             Chateau Montelena  Cabernet Sauvignon  United States   \n",
       "19                Rhys Vineyards          Pinot Noir  United States   \n",
       "25              Hirsch Vineyards          Pinot Noir  United States   \n",
       "29             Bosquet des Papes            Grenache         France   \n",
       "34              Château Montrose  Cabernet Sauvignon         France   \n",
       "...                          ...                 ...            ...   \n",
       "8154                      Gracia  Cabernet Sauvignon         France   \n",
       "8159                Aston Estate          Pinot Noir  United States   \n",
       "8218           Chateau Montelena  Cabernet Sauvignon  United States   \n",
       "8242       Château Feytit-Clinet              Merlot         France   \n",
       "8298  Château Haut-Bages Libéral              Merlot         France   \n",
       "\n",
       "                       region  alcohol  \\\n",
       "15                Napa Valley      NaN   \n",
       "19                 California      NaN   \n",
       "25               Sonoma Coast     13.0   \n",
       "29        Châteauneuf-du-Pape      NaN   \n",
       "34              Saint-Estèphe      NaN   \n",
       "...                       ...      ...   \n",
       "8154  Saint-Émilion Grand Cru     14.5   \n",
       "8159             Sonoma Coast      NaN   \n",
       "8218              Napa Valley     14.5   \n",
       "8242                  Pomerol      NaN   \n",
       "8298                 Pauillac     12.5   \n",
       "\n",
       "                                                  foods   wine_id  \\\n",
       "15    ['Beef', 'Lamb', 'Game (deer, venison)', 'Matu...  10953643   \n",
       "19    ['Beef', 'Veal', 'Game (deer, venison)', 'Poul...  24540684   \n",
       "25    ['Beef', 'Veal', 'Game (deer, venison)', 'Poul...  22687888   \n",
       "29                          ['Lamb', 'Pork', 'Poultry']  23443515   \n",
       "34    ['Beef', 'Lamb', 'Game (deer, venison)', 'Poul...  15271918   \n",
       "...                                                 ...       ...   \n",
       "8154  ['Beef', 'Lamb', 'Game (deer, venison)', 'Poul...  22981907   \n",
       "8159  ['Beef', 'Veal', 'Game (deer, venison)', 'Poul...  10758540   \n",
       "8218  ['Beef', 'Lamb', 'Game (deer, venison)', 'Matu...  17488228   \n",
       "8242  ['Beef', 'Lamb', 'Game (deer, venison)', 'Poul...  26504109   \n",
       "8298  ['Beef', 'Lamb', 'Game (deer, venison)', 'Poul...  25029004   \n",
       "\n",
       "                                                     re  \n",
       "15    ['Seamless fresh coffee grind with dark black ...  \n",
       "19    ['Great nose and mouthfeel\\nTannins softening ...  \n",
       "25    ['Rubber, raspberry, cherry. Juicy, rich. Grap...  \n",
       "29    [\"Can't be beat! Excellent mouthfeel, bouquet ...  \n",
       "34    ['Forest fruits and leather ', 'Smooth light f...  \n",
       "...                                                 ...  \n",
       "8154  ['Improved from a 4⭐️ to a solid 4.5⭐️ since m...  \n",
       "8159  ['Always the best. More acidic. Strawberry and...  \n",
       "8218  ['Velvet with smooth flavor.\\nA true treat.\\nP...  \n",
       "8242  ['Medium body, purple flowers, smooth，soft tan...  \n",
       "8298  ['Classic nose here, with already some pencil-...  \n",
       "\n",
       "[580 rows x 11 columns]"
      ]
     },
     "execution_count": 281,
     "metadata": {},
     "output_type": "execute_result"
    }
   ],
   "source": []
  },
  {
   "cell_type": "code",
   "execution_count": 262,
   "metadata": {},
   "outputs": [
    {
     "data": {
      "text/plain": [
       "22594310    1\n",
       "23849736    1\n",
       "24840468    1\n",
       "2541136     1\n",
       "24273665    1\n",
       "           ..\n",
       "26260892    1\n",
       "21581211    1\n",
       "25060696    1\n",
       "26172825    1\n",
       "7704574     1\n",
       "Name: wine_id, Length: 8333, dtype: int64"
      ]
     },
     "execution_count": 262,
     "metadata": {},
     "output_type": "execute_result"
    }
   ],
   "source": [
    "red_tail['wine_id'].value_counts()"
   ]
  },
  {
   "cell_type": "code",
   "execution_count": 264,
   "metadata": {},
   "outputs": [
    {
     "data": {
      "text/html": [
       "<div>\n",
       "<style scoped>\n",
       "    .dataframe tbody tr th:only-of-type {\n",
       "        vertical-align: middle;\n",
       "    }\n",
       "\n",
       "    .dataframe tbody tr th {\n",
       "        vertical-align: top;\n",
       "    }\n",
       "\n",
       "    .dataframe thead th {\n",
       "        text-align: right;\n",
       "    }\n",
       "</style>\n",
       "<table border=\"1\" class=\"dataframe\">\n",
       "  <thead>\n",
       "    <tr style=\"text-align: right;\">\n",
       "      <th></th>\n",
       "      <th>name</th>\n",
       "      <th>price</th>\n",
       "      <th>score</th>\n",
       "      <th>winery</th>\n",
       "      <th>grapes</th>\n",
       "      <th>country</th>\n",
       "      <th>region</th>\n",
       "      <th>alcohol</th>\n",
       "      <th>foods</th>\n",
       "      <th>wine_id</th>\n",
       "      <th>re</th>\n",
       "    </tr>\n",
       "  </thead>\n",
       "  <tbody>\n",
       "    <tr>\n",
       "      <th>4509</th>\n",
       "      <td>Châteauneuf-du-Pape (Cuvée Tradition)  2012</td>\n",
       "      <td>44.99</td>\n",
       "      <td>4.2</td>\n",
       "      <td>Bosquet des Papes</td>\n",
       "      <td>Mourvedre</td>\n",
       "      <td>France</td>\n",
       "      <td>Châteauneuf-du-Pape</td>\n",
       "      <td>15.0</td>\n",
       "      <td>['Lamb', 'Pork', 'Poultry']</td>\n",
       "      <td>23443777</td>\n",
       "      <td>['Very elegant and persistent', 'Well balanced...</td>\n",
       "    </tr>\n",
       "  </tbody>\n",
       "</table>\n",
       "</div>"
      ],
      "text/plain": [
       "                                             name  price  score  \\\n",
       "4509  Châteauneuf-du-Pape (Cuvée Tradition)  2012  44.99    4.2   \n",
       "\n",
       "                 winery     grapes country               region  alcohol  \\\n",
       "4509  Bosquet des Papes  Mourvedre  France  Châteauneuf-du-Pape     15.0   \n",
       "\n",
       "                            foods   wine_id  \\\n",
       "4509  ['Lamb', 'Pork', 'Poultry']  23443777   \n",
       "\n",
       "                                                     re  \n",
       "4509  ['Very elegant and persistent', 'Well balanced...  "
      ]
     },
     "execution_count": 264,
     "metadata": {},
     "output_type": "execute_result"
    }
   ],
   "source": [
    "red_tail[red_tail['wine_id']==23443777 ]"
   ]
  },
  {
   "cell_type": "code",
   "execution_count": null,
   "metadata": {},
   "outputs": [],
   "source": []
  },
  {
   "cell_type": "markdown",
   "metadata": {},
   "source": [
    "# red_mid 합치기"
   ]
  },
  {
   "cell_type": "code",
   "execution_count": 295,
   "metadata": {},
   "outputs": [],
   "source": [
    "red_mid_info_1 = pd.read_csv(\"data/red_wine_mid_info_0_2000.csv\",encoding=\"utf-8\",index_col=[0])"
   ]
  },
  {
   "cell_type": "code",
   "execution_count": 296,
   "metadata": {},
   "outputs": [],
   "source": [
    "red_mid_info_2 = pd.read_csv(\"data/red_wine_mid_info_2000_fin.csv\",encoding=\"utf-8\",index_col=[0])"
   ]
  },
  {
   "cell_type": "code",
   "execution_count": 297,
   "metadata": {},
   "outputs": [],
   "source": [
    "red_mid_info =  pd.concat([red_mid_info_1,red_mid_info_2])"
   ]
  },
  {
   "cell_type": "code",
   "execution_count": 298,
   "metadata": {},
   "outputs": [
    {
     "name": "stdout",
     "output_type": "stream",
     "text": [
      "<class 'pandas.core.frame.DataFrame'>\n",
      "Int64Index: 4608 entries, 0 to 2626\n",
      "Data columns (total 10 columns):\n",
      " #   Column   Non-Null Count  Dtype  \n",
      "---  ------   --------------  -----  \n",
      " 0   name     4608 non-null   object \n",
      " 1   price    4608 non-null   float64\n",
      " 2   score    4608 non-null   float64\n",
      " 3   winery   4608 non-null   object \n",
      " 4   grapes   4600 non-null   object \n",
      " 5   country  4608 non-null   object \n",
      " 6   region   4608 non-null   object \n",
      " 7   alcohol  2772 non-null   float64\n",
      " 8   foods    4600 non-null   object \n",
      " 9   wine_id  4608 non-null   int64  \n",
      "dtypes: float64(3), int64(1), object(6)\n",
      "memory usage: 396.0+ KB\n"
     ]
    }
   ],
   "source": [
    "red_mid_info.info()"
   ]
  },
  {
   "cell_type": "code",
   "execution_count": 299,
   "metadata": {},
   "outputs": [],
   "source": [
    "red_mid_review = pd.read_csv(\"data/red_mid_review.csv\",encoding=\"utf-8\",index_col=[0])"
   ]
  },
  {
   "cell_type": "code",
   "execution_count": 300,
   "metadata": {},
   "outputs": [],
   "source": [
    "red_mid_review.rename({'id':'wine_id'},axis=1,inplace=True)"
   ]
  },
  {
   "cell_type": "code",
   "execution_count": 301,
   "metadata": {},
   "outputs": [
    {
     "name": "stdout",
     "output_type": "stream",
     "text": [
      "<class 'pandas.core.frame.DataFrame'>\n",
      "Int64Index: 4651 entries, 0 to 4650\n",
      "Data columns (total 2 columns):\n",
      " #   Column   Non-Null Count  Dtype \n",
      "---  ------   --------------  ----- \n",
      " 0   wine_id  4651 non-null   int64 \n",
      " 1   re       4651 non-null   object\n",
      "dtypes: int64(1), object(1)\n",
      "memory usage: 109.0+ KB\n"
     ]
    }
   ],
   "source": [
    "red_mid_review.info()"
   ]
  },
  {
   "cell_type": "code",
   "execution_count": 304,
   "metadata": {},
   "outputs": [],
   "source": [
    "red_mid = pd.merge(red_mid_info,red_mid_review,on='wine_id')"
   ]
  },
  {
   "cell_type": "code",
   "execution_count": 305,
   "metadata": {},
   "outputs": [
    {
     "name": "stdout",
     "output_type": "stream",
     "text": [
      "<class 'pandas.core.frame.DataFrame'>\n",
      "Int64Index: 4605 entries, 0 to 4604\n",
      "Data columns (total 11 columns):\n",
      " #   Column   Non-Null Count  Dtype  \n",
      "---  ------   --------------  -----  \n",
      " 0   name     4605 non-null   object \n",
      " 1   price    4605 non-null   float64\n",
      " 2   score    4605 non-null   float64\n",
      " 3   winery   4605 non-null   object \n",
      " 4   grapes   4597 non-null   object \n",
      " 5   country  4605 non-null   object \n",
      " 6   region   4605 non-null   object \n",
      " 7   alcohol  2772 non-null   float64\n",
      " 8   foods    4597 non-null   object \n",
      " 9   wine_id  4605 non-null   int64  \n",
      " 10  re       4605 non-null   object \n",
      "dtypes: float64(3), int64(1), object(7)\n",
      "memory usage: 431.7+ KB\n"
     ]
    }
   ],
   "source": [
    "red_mid.info()"
   ]
  },
  {
   "cell_type": "code",
   "execution_count": 306,
   "metadata": {},
   "outputs": [
    {
     "data": {
      "text/plain": [
       "20441089    1\n",
       "2200880     1\n",
       "21512904    1\n",
       "21034065    1\n",
       "14386034    1\n",
       "           ..\n",
       "23179927    1\n",
       "17164952    1\n",
       "26190489    1\n",
       "24184558    1\n",
       "16140287    1\n",
       "Name: wine_id, Length: 4605, dtype: int64"
      ]
     },
     "execution_count": 306,
     "metadata": {},
     "output_type": "execute_result"
    }
   ],
   "source": [
    "red_mid['wine_id'].value_counts()"
   ]
  },
  {
   "cell_type": "code",
   "execution_count": null,
   "metadata": {},
   "outputs": [],
   "source": []
  },
  {
   "cell_type": "markdown",
   "metadata": {},
   "source": [
    "# red_head 합치기"
   ]
  },
  {
   "cell_type": "code",
   "execution_count": 310,
   "metadata": {},
   "outputs": [],
   "source": [
    "red_head_info = pd.read_csv(\"data/red_head_wine_info.csv\",encoding=\"utf-8\",index_col=[0])"
   ]
  },
  {
   "cell_type": "code",
   "execution_count": 311,
   "metadata": {},
   "outputs": [
    {
     "name": "stdout",
     "output_type": "stream",
     "text": [
      "<class 'pandas.core.frame.DataFrame'>\n",
      "Int64Index: 5080 entries, 0 to 5079\n",
      "Data columns (total 10 columns):\n",
      " #   Column   Non-Null Count  Dtype  \n",
      "---  ------   --------------  -----  \n",
      " 0   name     5080 non-null   object \n",
      " 1   price    5080 non-null   float64\n",
      " 2   score    5080 non-null   float64\n",
      " 3   winery   5080 non-null   object \n",
      " 4   grapes   5063 non-null   object \n",
      " 5   country  5077 non-null   object \n",
      " 6   region   5077 non-null   object \n",
      " 7   alcohol  3156 non-null   float64\n",
      " 8   foods    5035 non-null   object \n",
      " 9   wine_id  5080 non-null   int64  \n",
      "dtypes: float64(3), int64(1), object(6)\n",
      "memory usage: 436.6+ KB\n"
     ]
    }
   ],
   "source": [
    "red_head_info.info()"
   ]
  },
  {
   "cell_type": "code",
   "execution_count": 312,
   "metadata": {},
   "outputs": [],
   "source": [
    "red_head_review = pd.read_csv(\"data/red_head_review.csv\",encoding=\"utf-8\",index_col=[0])"
   ]
  },
  {
   "cell_type": "code",
   "execution_count": 313,
   "metadata": {},
   "outputs": [],
   "source": [
    "red_head_review.rename({'id':'wine_id'},axis=1,inplace=True)"
   ]
  },
  {
   "cell_type": "code",
   "execution_count": 314,
   "metadata": {},
   "outputs": [
    {
     "name": "stdout",
     "output_type": "stream",
     "text": [
      "<class 'pandas.core.frame.DataFrame'>\n",
      "Int64Index: 5221 entries, 0 to 5220\n",
      "Data columns (total 2 columns):\n",
      " #   Column   Non-Null Count  Dtype \n",
      "---  ------   --------------  ----- \n",
      " 0   wine_id  5221 non-null   int64 \n",
      " 1   re       5221 non-null   object\n",
      "dtypes: int64(1), object(1)\n",
      "memory usage: 122.4+ KB\n"
     ]
    }
   ],
   "source": [
    "red_head_review.info()"
   ]
  },
  {
   "cell_type": "code",
   "execution_count": 315,
   "metadata": {},
   "outputs": [],
   "source": [
    "red_head = pd.merge(red_head_info ,red_head_review,on='wine_id')"
   ]
  },
  {
   "cell_type": "code",
   "execution_count": 316,
   "metadata": {},
   "outputs": [
    {
     "data": {
      "text/plain": [
       "23060480    1\n",
       "23086382    1\n",
       "18371900    1\n",
       "23837249    1\n",
       "24225082    1\n",
       "           ..\n",
       "26536600    1\n",
       "25629335    1\n",
       "24361622    1\n",
       "19621118    1\n",
       "20621311    1\n",
       "Name: wine_id, Length: 5079, dtype: int64"
      ]
     },
     "execution_count": 316,
     "metadata": {},
     "output_type": "execute_result"
    }
   ],
   "source": [
    "red_head['wine_id'].value_counts()"
   ]
  },
  {
   "cell_type": "code",
   "execution_count": 317,
   "metadata": {},
   "outputs": [
    {
     "name": "stdout",
     "output_type": "stream",
     "text": [
      "<class 'pandas.core.frame.DataFrame'>\n",
      "Int64Index: 5079 entries, 0 to 5078\n",
      "Data columns (total 11 columns):\n",
      " #   Column   Non-Null Count  Dtype  \n",
      "---  ------   --------------  -----  \n",
      " 0   name     5079 non-null   object \n",
      " 1   price    5079 non-null   float64\n",
      " 2   score    5079 non-null   float64\n",
      " 3   winery   5079 non-null   object \n",
      " 4   grapes   5062 non-null   object \n",
      " 5   country  5076 non-null   object \n",
      " 6   region   5076 non-null   object \n",
      " 7   alcohol  3155 non-null   float64\n",
      " 8   foods    5034 non-null   object \n",
      " 9   wine_id  5079 non-null   int64  \n",
      " 10  re       5079 non-null   object \n",
      "dtypes: float64(3), int64(1), object(7)\n",
      "memory usage: 476.2+ KB\n"
     ]
    }
   ],
   "source": [
    "red_head.info()"
   ]
  },
  {
   "cell_type": "code",
   "execution_count": 318,
   "metadata": {},
   "outputs": [],
   "source": [
    "#red_head[red_head['wine_id']==23443777 ]"
   ]
  },
  {
   "cell_type": "code",
   "execution_count": null,
   "metadata": {},
   "outputs": [],
   "source": []
  },
  {
   "cell_type": "code",
   "execution_count": 327,
   "metadata": {},
   "outputs": [
    {
     "data": {
      "text/html": [
       "<div>\n",
       "<style scoped>\n",
       "    .dataframe tbody tr th:only-of-type {\n",
       "        vertical-align: middle;\n",
       "    }\n",
       "\n",
       "    .dataframe tbody tr th {\n",
       "        vertical-align: top;\n",
       "    }\n",
       "\n",
       "    .dataframe thead th {\n",
       "        text-align: right;\n",
       "    }\n",
       "</style>\n",
       "<table border=\"1\" class=\"dataframe\">\n",
       "  <thead>\n",
       "    <tr style=\"text-align: right;\">\n",
       "      <th></th>\n",
       "      <th>name</th>\n",
       "      <th>price</th>\n",
       "      <th>score</th>\n",
       "      <th>winery</th>\n",
       "      <th>grapes</th>\n",
       "      <th>country</th>\n",
       "      <th>region</th>\n",
       "      <th>alcohol</th>\n",
       "      <th>foods</th>\n",
       "      <th>wine_id</th>\n",
       "      <th>re</th>\n",
       "    </tr>\n",
       "  </thead>\n",
       "  <tbody>\n",
       "    <tr>\n",
       "      <th>0</th>\n",
       "      <td>Bearwallow Vineyard Pinot Noir  2017</td>\n",
       "      <td>60.0</td>\n",
       "      <td>4.2</td>\n",
       "      <td>Rivers-Marie</td>\n",
       "      <td>Pinot Noir</td>\n",
       "      <td>United States</td>\n",
       "      <td>Anderson Valley</td>\n",
       "      <td>14.2</td>\n",
       "      <td>['Beef', 'Veal', 'Game (deer, venison)', 'Poul...</td>\n",
       "      <td>18614396</td>\n",
       "      <td>['Classic AV notes. Big body for a PN. Cherry ...</td>\n",
       "    </tr>\n",
       "    <tr>\n",
       "      <th>1</th>\n",
       "      <td>Bordeaux  2016</td>\n",
       "      <td>60.0</td>\n",
       "      <td>4.3</td>\n",
       "      <td>Ormiale</td>\n",
       "      <td>Cabernet Sauvignon</td>\n",
       "      <td>France</td>\n",
       "      <td>Bordeaux Supérieur</td>\n",
       "      <td>NaN</td>\n",
       "      <td>['Beef', 'Veal', 'Game (deer, venison)', 'Poul...</td>\n",
       "      <td>25147631</td>\n",
       "      <td>['Lovely for an evening with friends. Black fr...</td>\n",
       "    </tr>\n",
       "    <tr>\n",
       "      <th>2</th>\n",
       "      <td>Vosne-Romanée  2018</td>\n",
       "      <td>60.0</td>\n",
       "      <td>4.2</td>\n",
       "      <td>Hudelot-Noëllat</td>\n",
       "      <td>Pinot Noir</td>\n",
       "      <td>France</td>\n",
       "      <td>Vosne-Romanée</td>\n",
       "      <td>13.0</td>\n",
       "      <td>['Beef', 'Veal', 'Game (deer, venison)', 'Poul...</td>\n",
       "      <td>21510594</td>\n",
       "      <td>[\"The flavors of this wine change dramatically...</td>\n",
       "    </tr>\n",
       "    <tr>\n",
       "      <th>3</th>\n",
       "      <td>Santa Lucia Highlands Pinot Noir  2011</td>\n",
       "      <td>60.0</td>\n",
       "      <td>4.3</td>\n",
       "      <td>Kosta Browne</td>\n",
       "      <td>Pinot Noir</td>\n",
       "      <td>United States</td>\n",
       "      <td>Santa Lucia Highlands</td>\n",
       "      <td>14.5</td>\n",
       "      <td>['Beef', 'Veal', 'Game (deer, venison)', 'Poul...</td>\n",
       "      <td>726661</td>\n",
       "      <td>['I recently went to a Private Equity Wine Tas...</td>\n",
       "    </tr>\n",
       "    <tr>\n",
       "      <th>4</th>\n",
       "      <td>Gevrey-Chambertin  2018</td>\n",
       "      <td>60.0</td>\n",
       "      <td>4.2</td>\n",
       "      <td>Domaine Duroché</td>\n",
       "      <td>Pinot Noir</td>\n",
       "      <td>France</td>\n",
       "      <td>Gevrey-Chambertin</td>\n",
       "      <td>13.0</td>\n",
       "      <td>['Beef', 'Veal', 'Game (deer, venison)', 'Poul...</td>\n",
       "      <td>24228572</td>\n",
       "      <td>['Lots of red-berries with almost no oak. I lo...</td>\n",
       "    </tr>\n",
       "    <tr>\n",
       "      <th>...</th>\n",
       "      <td>...</td>\n",
       "      <td>...</td>\n",
       "      <td>...</td>\n",
       "      <td>...</td>\n",
       "      <td>...</td>\n",
       "      <td>...</td>\n",
       "      <td>...</td>\n",
       "      <td>...</td>\n",
       "      <td>...</td>\n",
       "      <td>...</td>\n",
       "      <td>...</td>\n",
       "    </tr>\n",
       "    <tr>\n",
       "      <th>63</th>\n",
       "      <td>Cabernet Sauvignon  2016</td>\n",
       "      <td>60.0</td>\n",
       "      <td>4.3</td>\n",
       "      <td>Obelisco Estate</td>\n",
       "      <td>Cabernet Sauvignon</td>\n",
       "      <td>United States</td>\n",
       "      <td>Red Mountain</td>\n",
       "      <td>NaN</td>\n",
       "      <td>['Beef', 'Lamb', 'Game (deer, venison)', 'Poul...</td>\n",
       "      <td>21491637</td>\n",
       "      <td>['4.2 - Such a smooth cab. Considering joining...</td>\n",
       "    </tr>\n",
       "    <tr>\n",
       "      <th>64</th>\n",
       "      <td>Scherrer Vineyard Cabernet Sauvignon  2007</td>\n",
       "      <td>60.0</td>\n",
       "      <td>4.4</td>\n",
       "      <td>Scherrer</td>\n",
       "      <td>Cabernet Sauvignon</td>\n",
       "      <td>United States</td>\n",
       "      <td>Alexander Valley</td>\n",
       "      <td>NaN</td>\n",
       "      <td>['Beef', 'Lamb', 'Game (deer, venison)', 'Poul...</td>\n",
       "      <td>4132851</td>\n",
       "      <td>['Full flavored cab with fruit but subtle, not...</td>\n",
       "    </tr>\n",
       "    <tr>\n",
       "      <th>65</th>\n",
       "      <td>Barbera d'Alba  2017</td>\n",
       "      <td>60.0</td>\n",
       "      <td>4.2</td>\n",
       "      <td>Bartolo Mascarello</td>\n",
       "      <td>Barbera</td>\n",
       "      <td>Italy</td>\n",
       "      <td>Barbera d'Alba</td>\n",
       "      <td>15.0</td>\n",
       "      <td>['Pasta', 'Veal', 'Pork', 'Game (deer, venison...</td>\n",
       "      <td>20219768</td>\n",
       "      <td>['cherry, raspberry, blackberry then oak, vani...</td>\n",
       "    </tr>\n",
       "    <tr>\n",
       "      <th>66</th>\n",
       "      <td>Les Baux-de-Provence Rouge  2014</td>\n",
       "      <td>60.0</td>\n",
       "      <td>4.2</td>\n",
       "      <td>Hauvette</td>\n",
       "      <td>Shiraz/Syrah</td>\n",
       "      <td>France</td>\n",
       "      <td>Les Baux-de-Provence</td>\n",
       "      <td>NaN</td>\n",
       "      <td>['Beef', 'Lamb', 'Spicy food', 'Mature and har...</td>\n",
       "      <td>22819998</td>\n",
       "      <td>['Still a great beauty. South of France and st...</td>\n",
       "    </tr>\n",
       "    <tr>\n",
       "      <th>67</th>\n",
       "      <td>Cabernet Sauvignon  2014</td>\n",
       "      <td>60.0</td>\n",
       "      <td>4.2</td>\n",
       "      <td>Obelisco Estate</td>\n",
       "      <td>Cabernet Sauvignon</td>\n",
       "      <td>United States</td>\n",
       "      <td>Red Mountain</td>\n",
       "      <td>NaN</td>\n",
       "      <td>['Beef', 'Lamb', 'Game (deer, venison)', 'Poul...</td>\n",
       "      <td>14919761</td>\n",
       "      <td>['Cigar box,  oak, plum, wet leaves, hint of s...</td>\n",
       "    </tr>\n",
       "  </tbody>\n",
       "</table>\n",
       "<p>68 rows × 11 columns</p>\n",
       "</div>"
      ],
      "text/plain": [
       "                                          name  price  score  \\\n",
       "0         Bearwallow Vineyard Pinot Noir  2017   60.0    4.2   \n",
       "1                               Bordeaux  2016   60.0    4.3   \n",
       "2                          Vosne-Romanée  2018   60.0    4.2   \n",
       "3       Santa Lucia Highlands Pinot Noir  2011   60.0    4.3   \n",
       "4                      Gevrey-Chambertin  2018   60.0    4.2   \n",
       "..                                         ...    ...    ...   \n",
       "63                    Cabernet Sauvignon  2016   60.0    4.3   \n",
       "64  Scherrer Vineyard Cabernet Sauvignon  2007   60.0    4.4   \n",
       "65                        Barbera d'Alba  2017   60.0    4.2   \n",
       "66            Les Baux-de-Provence Rouge  2014   60.0    4.2   \n",
       "67                    Cabernet Sauvignon  2014   60.0    4.2   \n",
       "\n",
       "                winery              grapes        country  \\\n",
       "0         Rivers-Marie          Pinot Noir  United States   \n",
       "1              Ormiale  Cabernet Sauvignon         France   \n",
       "2      Hudelot-Noëllat          Pinot Noir         France   \n",
       "3         Kosta Browne          Pinot Noir  United States   \n",
       "4      Domaine Duroché          Pinot Noir         France   \n",
       "..                 ...                 ...            ...   \n",
       "63     Obelisco Estate  Cabernet Sauvignon  United States   \n",
       "64            Scherrer  Cabernet Sauvignon  United States   \n",
       "65  Bartolo Mascarello             Barbera          Italy   \n",
       "66            Hauvette        Shiraz/Syrah         France   \n",
       "67     Obelisco Estate  Cabernet Sauvignon  United States   \n",
       "\n",
       "                   region  alcohol  \\\n",
       "0         Anderson Valley     14.2   \n",
       "1      Bordeaux Supérieur      NaN   \n",
       "2           Vosne-Romanée     13.0   \n",
       "3   Santa Lucia Highlands     14.5   \n",
       "4       Gevrey-Chambertin     13.0   \n",
       "..                    ...      ...   \n",
       "63           Red Mountain      NaN   \n",
       "64       Alexander Valley      NaN   \n",
       "65         Barbera d'Alba     15.0   \n",
       "66   Les Baux-de-Provence      NaN   \n",
       "67           Red Mountain      NaN   \n",
       "\n",
       "                                                foods   wine_id  \\\n",
       "0   ['Beef', 'Veal', 'Game (deer, venison)', 'Poul...  18614396   \n",
       "1   ['Beef', 'Veal', 'Game (deer, venison)', 'Poul...  25147631   \n",
       "2   ['Beef', 'Veal', 'Game (deer, venison)', 'Poul...  21510594   \n",
       "3   ['Beef', 'Veal', 'Game (deer, venison)', 'Poul...    726661   \n",
       "4   ['Beef', 'Veal', 'Game (deer, venison)', 'Poul...  24228572   \n",
       "..                                                ...       ...   \n",
       "63  ['Beef', 'Lamb', 'Game (deer, venison)', 'Poul...  21491637   \n",
       "64  ['Beef', 'Lamb', 'Game (deer, venison)', 'Poul...   4132851   \n",
       "65  ['Pasta', 'Veal', 'Pork', 'Game (deer, venison...  20219768   \n",
       "66  ['Beef', 'Lamb', 'Spicy food', 'Mature and har...  22819998   \n",
       "67  ['Beef', 'Lamb', 'Game (deer, venison)', 'Poul...  14919761   \n",
       "\n",
       "                                                   re  \n",
       "0   ['Classic AV notes. Big body for a PN. Cherry ...  \n",
       "1   ['Lovely for an evening with friends. Black fr...  \n",
       "2   [\"The flavors of this wine change dramatically...  \n",
       "3   ['I recently went to a Private Equity Wine Tas...  \n",
       "4   ['Lots of red-berries with almost no oak. I lo...  \n",
       "..                                                ...  \n",
       "63  ['4.2 - Such a smooth cab. Considering joining...  \n",
       "64  ['Full flavored cab with fruit but subtle, not...  \n",
       "65  ['cherry, raspberry, blackberry then oak, vani...  \n",
       "66  ['Still a great beauty. South of France and st...  \n",
       "67  ['Cigar box,  oak, plum, wet leaves, hint of s...  \n",
       "\n",
       "[68 rows x 11 columns]"
      ]
     },
     "execution_count": 327,
     "metadata": {},
     "output_type": "execute_result"
    }
   ],
   "source": [
    "pd.merge(red_mid,red_head)"
   ]
  },
  {
   "cell_type": "markdown",
   "metadata": {},
   "source": [
    "# 전체 합치기"
   ]
  },
  {
   "cell_type": "code",
   "execution_count": 319,
   "metadata": {},
   "outputs": [],
   "source": [
    "wine_all = pd.concat([red_head,red_mid,red_tail,white])"
   ]
  },
  {
   "cell_type": "code",
   "execution_count": 320,
   "metadata": {},
   "outputs": [
    {
     "name": "stdout",
     "output_type": "stream",
     "text": [
      "<class 'pandas.core.frame.DataFrame'>\n",
      "Int64Index: 23783 entries, 0 to 5765\n",
      "Data columns (total 11 columns):\n",
      " #   Column   Non-Null Count  Dtype  \n",
      "---  ------   --------------  -----  \n",
      " 0   name     23783 non-null  object \n",
      " 1   price    23715 non-null  float64\n",
      " 2   score    23783 non-null  float64\n",
      " 3   winery   23783 non-null  object \n",
      " 4   grapes   17983 non-null  object \n",
      " 5   country  23776 non-null  object \n",
      " 6   region   23776 non-null  object \n",
      " 7   alcohol  14524 non-null  float64\n",
      " 8   foods    23502 non-null  object \n",
      " 9   wine_id  23783 non-null  int64  \n",
      " 10  re       23783 non-null  object \n",
      "dtypes: float64(3), int64(1), object(7)\n",
      "memory usage: 2.2+ MB\n"
     ]
    }
   ],
   "source": [
    "wine_all.info()"
   ]
  },
  {
   "cell_type": "code",
   "execution_count": 329,
   "metadata": {},
   "outputs": [],
   "source": [
    "wine_all.to_csv(\"wine_all.csv\",index=False)"
   ]
  },
  {
   "cell_type": "code",
   "execution_count": 328,
   "metadata": {},
   "outputs": [
    {
     "data": {
      "text/plain": [
       "21215468    2\n",
       "25865863    2\n",
       "24541364    2\n",
       "25199482    2\n",
       "3267125     2\n",
       "           ..\n",
       "24156022    1\n",
       "25394138    1\n",
       "1306055     1\n",
       "21331397    1\n",
       "11312569    1\n",
       "Name: wine_id, Length: 200, dtype: int64"
      ]
     },
     "execution_count": 328,
     "metadata": {},
     "output_type": "execute_result"
    }
   ],
   "source": [
    "wine_all['wine_id'].value_counts()[:200]"
   ]
  },
  {
   "cell_type": "code",
   "execution_count": 330,
   "metadata": {},
   "outputs": [
    {
     "data": {
      "text/html": [
       "<div>\n",
       "<style scoped>\n",
       "    .dataframe tbody tr th:only-of-type {\n",
       "        vertical-align: middle;\n",
       "    }\n",
       "\n",
       "    .dataframe tbody tr th {\n",
       "        vertical-align: top;\n",
       "    }\n",
       "\n",
       "    .dataframe thead th {\n",
       "        text-align: right;\n",
       "    }\n",
       "</style>\n",
       "<table border=\"1\" class=\"dataframe\">\n",
       "  <thead>\n",
       "    <tr style=\"text-align: right;\">\n",
       "      <th></th>\n",
       "      <th>name</th>\n",
       "      <th>price</th>\n",
       "      <th>score</th>\n",
       "      <th>winery</th>\n",
       "      <th>grapes</th>\n",
       "      <th>country</th>\n",
       "      <th>region</th>\n",
       "      <th>alcohol</th>\n",
       "      <th>foods</th>\n",
       "      <th>wine_id</th>\n",
       "      <th>re</th>\n",
       "    </tr>\n",
       "  </thead>\n",
       "  <tbody>\n",
       "    <tr>\n",
       "      <th>2966</th>\n",
       "      <td>Pinot Noir  2018</td>\n",
       "      <td>24.99</td>\n",
       "      <td>4.2</td>\n",
       "      <td>Gainey</td>\n",
       "      <td>Pinot Noir</td>\n",
       "      <td>United States</td>\n",
       "      <td>Sta. Rita Hills</td>\n",
       "      <td>NaN</td>\n",
       "      <td>['Beef', 'Veal', 'Game (deer, venison)', 'Poul...</td>\n",
       "      <td>21215468</td>\n",
       "      <td>['Super smooth well balanced with more body th...</td>\n",
       "    </tr>\n",
       "    <tr>\n",
       "      <th>1782</th>\n",
       "      <td>Pinot Noir  2018</td>\n",
       "      <td>24.99</td>\n",
       "      <td>4.2</td>\n",
       "      <td>Gainey</td>\n",
       "      <td>Pinot Noir</td>\n",
       "      <td>United States</td>\n",
       "      <td>Sta. Rita Hills</td>\n",
       "      <td>NaN</td>\n",
       "      <td>['Beef', 'Veal', 'Game (deer, venison)', 'Poul...</td>\n",
       "      <td>21215468</td>\n",
       "      <td>['Super smooth well balanced with more body th...</td>\n",
       "    </tr>\n",
       "  </tbody>\n",
       "</table>\n",
       "</div>"
      ],
      "text/plain": [
       "                  name  price  score  winery      grapes        country  \\\n",
       "2966  Pinot Noir  2018  24.99    4.2  Gainey  Pinot Noir  United States   \n",
       "1782  Pinot Noir  2018  24.99    4.2  Gainey  Pinot Noir  United States   \n",
       "\n",
       "               region  alcohol  \\\n",
       "2966  Sta. Rita Hills      NaN   \n",
       "1782  Sta. Rita Hills      NaN   \n",
       "\n",
       "                                                  foods   wine_id  \\\n",
       "2966  ['Beef', 'Veal', 'Game (deer, venison)', 'Poul...  21215468   \n",
       "1782  ['Beef', 'Veal', 'Game (deer, venison)', 'Poul...  21215468   \n",
       "\n",
       "                                                     re  \n",
       "2966  ['Super smooth well balanced with more body th...  \n",
       "1782  ['Super smooth well balanced with more body th...  "
      ]
     },
     "execution_count": 330,
     "metadata": {},
     "output_type": "execute_result"
    }
   ],
   "source": [
    "wine_all[wine_all['wine_id']==21215468 ]"
   ]
  },
  {
   "cell_type": "code",
   "execution_count": null,
   "metadata": {},
   "outputs": [],
   "source": []
  }
 ],
 "metadata": {
  "colab": {
   "collapsed_sections": [],
   "name": "wine_url_colab.ipynb",
   "provenance": []
  },
  "kernelspec": {
   "display_name": "Python 3",
   "language": "python",
   "name": "python3"
  },
  "language_info": {
   "codemirror_mode": {
    "name": "ipython",
    "version": 3
   },
   "file_extension": ".py",
   "mimetype": "text/x-python",
   "name": "python",
   "nbconvert_exporter": "python",
   "pygments_lexer": "ipython3",
   "version": "3.7.3"
  }
 },
 "nbformat": 4,
 "nbformat_minor": 1
}
