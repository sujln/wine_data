{
 "cells": [
  {
   "cell_type": "code",
   "execution_count": 10,
   "metadata": {},
   "outputs": [],
   "source": [
    "import pandas as pd\n",
    "import seaborn as sns\n",
    "import matplotlib.pyplot as plt  \n",
    "import numpy as np\n",
    "\n",
    "from sklearn.feature_extraction.text import TfidfVectorizer\n",
    "from sklearn.metrics.pairwise import cosine_similarity\n",
    "import re"
   ]
  },
  {
   "cell_type": "code",
   "execution_count": 11,
   "metadata": {},
   "outputs": [],
   "source": [
    "# !pip install missingno==0.4.1"
   ]
  },
  {
   "cell_type": "code",
   "execution_count": 12,
   "metadata": {},
   "outputs": [],
   "source": [
    "import missingno as msno"
   ]
  },
  {
   "cell_type": "code",
   "execution_count": 13,
   "metadata": {},
   "outputs": [],
   "source": [
    "import requests\n",
    "from bs4 import BeautifulSoup"
   ]
  },
  {
   "cell_type": "code",
   "execution_count": 14,
   "metadata": {},
   "outputs": [],
   "source": [
    "from selenium import webdriver\n",
    "from selenium.webdriver.common.by import By\n",
    "from selenium.webdriver.common.keys import Keys"
   ]
  },
  {
   "cell_type": "code",
   "execution_count": 15,
   "metadata": {},
   "outputs": [],
   "source": [
    "import time"
   ]
  },
  {
   "cell_type": "code",
   "execution_count": 119,
   "metadata": {},
   "outputs": [
    {
     "data": {
      "text/html": [
       "<div>\n",
       "<style scoped>\n",
       "    .dataframe tbody tr th:only-of-type {\n",
       "        vertical-align: middle;\n",
       "    }\n",
       "\n",
       "    .dataframe tbody tr th {\n",
       "        vertical-align: top;\n",
       "    }\n",
       "\n",
       "    .dataframe thead th {\n",
       "        text-align: right;\n",
       "    }\n",
       "</style>\n",
       "<table border=\"1\" class=\"dataframe\">\n",
       "  <thead>\n",
       "    <tr style=\"text-align: right;\">\n",
       "      <th></th>\n",
       "      <th>name</th>\n",
       "      <th>price</th>\n",
       "      <th>score</th>\n",
       "      <th>winery</th>\n",
       "      <th>grapes</th>\n",
       "      <th>country</th>\n",
       "      <th>region</th>\n",
       "      <th>alcohol</th>\n",
       "      <th>foods</th>\n",
       "      <th>wine_id</th>\n",
       "      <th>re</th>\n",
       "    </tr>\n",
       "  </thead>\n",
       "  <tbody>\n",
       "    <tr>\n",
       "      <th>0</th>\n",
       "      <td>Rim Rock Vineyard Syrah  2017</td>\n",
       "      <td>52.99</td>\n",
       "      <td>4.3</td>\n",
       "      <td>Piedrasassi</td>\n",
       "      <td>Shiraz/Syrah</td>\n",
       "      <td>United States</td>\n",
       "      <td>Arroyo Grande Valley</td>\n",
       "      <td>13.5</td>\n",
       "      <td>['Beef', 'Lamb', 'Game (deer, venison)', 'Poul...</td>\n",
       "      <td>19603399</td>\n",
       "      <td>['Dry tingly cool bottle pairs with seafood ho...</td>\n",
       "    </tr>\n",
       "    <tr>\n",
       "      <th>1</th>\n",
       "      <td>Tradition Châteauneuf-du-Pape  2015</td>\n",
       "      <td>54.99</td>\n",
       "      <td>4.2</td>\n",
       "      <td>Domaine Giraud</td>\n",
       "      <td>Grenache</td>\n",
       "      <td>France</td>\n",
       "      <td>Châteauneuf-du-Pape</td>\n",
       "      <td>NaN</td>\n",
       "      <td>['Lamb', 'Pork', 'Poultry']</td>\n",
       "      <td>18191466</td>\n",
       "      <td>['Black cherry, oak. Leather, earthy.  Great b...</td>\n",
       "    </tr>\n",
       "    <tr>\n",
       "      <th>2</th>\n",
       "      <td>Estate Cabernet Sauvignon  2013</td>\n",
       "      <td>73.95</td>\n",
       "      <td>4.3</td>\n",
       "      <td>Brandlin</td>\n",
       "      <td>Cabernet Sauvignon</td>\n",
       "      <td>United States</td>\n",
       "      <td>Mount Veeder</td>\n",
       "      <td>NaN</td>\n",
       "      <td>['Beef', 'Lamb', 'Game (deer, venison)', 'Matu...</td>\n",
       "      <td>13886692</td>\n",
       "      <td>['Wine walk favorite!  This estate cab is fant...</td>\n",
       "    </tr>\n",
       "    <tr>\n",
       "      <th>3</th>\n",
       "      <td>Imperio LXXIV Primitivo di Manduria  2018</td>\n",
       "      <td>19.99</td>\n",
       "      <td>4.2</td>\n",
       "      <td>Feudo Croce</td>\n",
       "      <td>Primitivo</td>\n",
       "      <td>Italy</td>\n",
       "      <td>Primitivo di Manduria</td>\n",
       "      <td>14.5</td>\n",
       "      <td>['Beef', 'Pasta', 'Lamb', 'Poultry']</td>\n",
       "      <td>25311528</td>\n",
       "      <td>['Plum, fig, pepper, cherry. ', 'Lots of dark ...</td>\n",
       "    </tr>\n",
       "    <tr>\n",
       "      <th>4</th>\n",
       "      <td>Corte di Cama Sforzato di Valtellina  2016</td>\n",
       "      <td>58.50</td>\n",
       "      <td>4.3</td>\n",
       "      <td>Mamete Prevostini</td>\n",
       "      <td>Nebbiolo</td>\n",
       "      <td>Italy</td>\n",
       "      <td>Sforzato della Valtellina</td>\n",
       "      <td>NaN</td>\n",
       "      <td>['Beef', 'Lamb', 'Game (deer, venison)', 'Poul...</td>\n",
       "      <td>25588649</td>\n",
       "      <td>['A bit of a disappointment honestly. Have rea...</td>\n",
       "    </tr>\n",
       "  </tbody>\n",
       "</table>\n",
       "</div>"
      ],
      "text/plain": [
       "                                         name  price  score  \\\n",
       "0               Rim Rock Vineyard Syrah  2017  52.99    4.3   \n",
       "1         Tradition Châteauneuf-du-Pape  2015  54.99    4.2   \n",
       "2             Estate Cabernet Sauvignon  2013  73.95    4.3   \n",
       "3   Imperio LXXIV Primitivo di Manduria  2018  19.99    4.2   \n",
       "4  Corte di Cama Sforzato di Valtellina  2016  58.50    4.3   \n",
       "\n",
       "              winery              grapes        country  \\\n",
       "0        Piedrasassi        Shiraz/Syrah  United States   \n",
       "1     Domaine Giraud            Grenache         France   \n",
       "2           Brandlin  Cabernet Sauvignon  United States   \n",
       "3        Feudo Croce           Primitivo          Italy   \n",
       "4  Mamete Prevostini            Nebbiolo          Italy   \n",
       "\n",
       "                      region  alcohol  \\\n",
       "0       Arroyo Grande Valley     13.5   \n",
       "1        Châteauneuf-du-Pape      NaN   \n",
       "2               Mount Veeder      NaN   \n",
       "3      Primitivo di Manduria     14.5   \n",
       "4  Sforzato della Valtellina      NaN   \n",
       "\n",
       "                                               foods   wine_id  \\\n",
       "0  ['Beef', 'Lamb', 'Game (deer, venison)', 'Poul...  19603399   \n",
       "1                        ['Lamb', 'Pork', 'Poultry']  18191466   \n",
       "2  ['Beef', 'Lamb', 'Game (deer, venison)', 'Matu...  13886692   \n",
       "3               ['Beef', 'Pasta', 'Lamb', 'Poultry']  25311528   \n",
       "4  ['Beef', 'Lamb', 'Game (deer, venison)', 'Poul...  25588649   \n",
       "\n",
       "                                                  re  \n",
       "0  ['Dry tingly cool bottle pairs with seafood ho...  \n",
       "1  ['Black cherry, oak. Leather, earthy.  Great b...  \n",
       "2  ['Wine walk favorite!  This estate cab is fant...  \n",
       "3  ['Plum, fig, pepper, cherry. ', 'Lots of dark ...  \n",
       "4  ['A bit of a disappointment honestly. Have rea...  "
      ]
     },
     "execution_count": 119,
     "metadata": {},
     "output_type": "execute_result"
    }
   ],
   "source": [
    "wine_df = pd.read_csv(\"wine_all_final.csv\")\n",
    "wine_df.head()"
   ]
  },
  {
   "cell_type": "code",
   "execution_count": 8,
   "metadata": {
    "scrolled": true
   },
   "outputs": [
    {
     "data": {
      "text/plain": [
       "name          0\n",
       "price        69\n",
       "score         0\n",
       "winery        0\n",
       "grapes       60\n",
       "country       7\n",
       "region        7\n",
       "alcohol    9259\n",
       "foods       281\n",
       "wine_id       0\n",
       "re            0\n",
       "dtype: int64"
      ]
     },
     "execution_count": 8,
     "metadata": {},
     "output_type": "execute_result"
    }
   ],
   "source": [
    "wine_df.isnull().sum()"
   ]
  },
  {
   "cell_type": "code",
   "execution_count": 10,
   "metadata": {},
   "outputs": [
    {
     "data": {
      "text/plain": [
       "<matplotlib.axes._subplots.AxesSubplot at 0x1fe5dc059b0>"
      ]
     },
     "execution_count": 10,
     "metadata": {},
     "output_type": "execute_result"
    },
    {
     "data": {
      "image/png": "[encoded data removed]",
      "text/plain": [
       "<Figure size 864x360 with 2 Axes>"
      ]
     },
     "metadata": {
      "needs_background": "light"
     },
     "output_type": "display_data"
    }
   ],
   "source": [
    "msno.matrix(wine_df, figsize=(12,5))"
   ]
  },
  {
   "cell_type": "code",
   "execution_count": 12,
   "metadata": {},
   "outputs": [
    {
     "data": {
      "text/plain": [
       "count    14523.000000\n",
       "mean        13.484473\n",
       "std          2.913991\n",
       "min          0.000000\n",
       "25%         13.000000\n",
       "50%         14.000000\n",
       "75%         14.500000\n",
       "max         45.000000\n",
       "Name: alcohol, dtype: float64"
      ]
     },
     "execution_count": 12,
     "metadata": {},
     "output_type": "execute_result"
    }
   ],
   "source": [
    "wine_df['alcohol'].describe()"
   ]
  },
  {
   "cell_type": "markdown",
   "metadata": {},
   "source": [
    "# alcohol 5도 이하, 40도 이상 살펴보기 "
   ]
  },
  {
   "cell_type": "code",
   "execution_count": 19,
   "metadata": {},
   "outputs": [
    {
     "data": {
      "text/plain": [
       "<matplotlib.axes._subplots.AxesSubplot at 0x1fe5db381d0>"
      ]
     },
     "execution_count": 19,
     "metadata": {},
     "output_type": "execute_result"
    },
    {
     "data": {
      "image/png": "[encoded data removed]",
      "text/plain": [
       "<Figure size 432x288 with 1 Axes>"
      ]
     },
     "metadata": {
      "needs_background": "light"
     },
     "output_type": "display_data"
    }
   ],
   "source": [
    "sns.boxplot(x=wine_df['alcohol'])"
   ]
  },
  {
   "cell_type": "code",
   "execution_count": 29,
   "metadata": {},
   "outputs": [
    {
     "data": {
      "text/html": [
       "<div>\n",
       "<style scoped>\n",
       "    .dataframe tbody tr th:only-of-type {\n",
       "        vertical-align: middle;\n",
       "    }\n",
       "\n",
       "    .dataframe tbody tr th {\n",
       "        vertical-align: top;\n",
       "    }\n",
       "\n",
       "    .dataframe thead th {\n",
       "        text-align: right;\n",
       "    }\n",
       "</style>\n",
       "<table border=\"1\" class=\"dataframe\">\n",
       "  <thead>\n",
       "    <tr style=\"text-align: right;\">\n",
       "      <th></th>\n",
       "      <th>name</th>\n",
       "      <th>price</th>\n",
       "      <th>score</th>\n",
       "      <th>winery</th>\n",
       "      <th>grapes</th>\n",
       "      <th>country</th>\n",
       "      <th>region</th>\n",
       "      <th>alcohol</th>\n",
       "      <th>foods</th>\n",
       "      <th>wine_id</th>\n",
       "      <th>re</th>\n",
       "    </tr>\n",
       "  </thead>\n",
       "  <tbody>\n",
       "    <tr>\n",
       "      <th>1717</th>\n",
       "      <td>Shiraz  2003</td>\n",
       "      <td>59.99</td>\n",
       "      <td>4.3</td>\n",
       "      <td>Barossa Old Vine Company</td>\n",
       "      <td>Shiraz/Syrah</td>\n",
       "      <td>Australia</td>\n",
       "      <td>Barossa Valley</td>\n",
       "      <td>0.1</td>\n",
       "      <td>['Beef', 'Lamb', 'Game (deer, venison)', 'Poul...</td>\n",
       "      <td>1510660</td>\n",
       "      <td>['Full of cherry with creamy finish..', 'Wow. ...</td>\n",
       "    </tr>\n",
       "    <tr>\n",
       "      <th>3129</th>\n",
       "      <td>Lee Vineyard Pinot Noir  2017</td>\n",
       "      <td>64.99</td>\n",
       "      <td>4.3</td>\n",
       "      <td>Saintsbury</td>\n",
       "      <td>Pinot Noir</td>\n",
       "      <td>United States</td>\n",
       "      <td>Los Carneros</td>\n",
       "      <td>1.4</td>\n",
       "      <td>['Beef', 'Veal', 'Game (deer, venison)', 'Poul...</td>\n",
       "      <td>22490883</td>\n",
       "      <td>['more acidic than most recent saintsbury wine...</td>\n",
       "    </tr>\n",
       "    <tr>\n",
       "      <th>10784</th>\n",
       "      <td>Gigondas Le Claux  2015</td>\n",
       "      <td>119.95</td>\n",
       "      <td>4.3</td>\n",
       "      <td>Château de Saint Cosme</td>\n",
       "      <td>Grenache</td>\n",
       "      <td>France</td>\n",
       "      <td>Gigondas</td>\n",
       "      <td>0.8</td>\n",
       "      <td>['Beef', 'Lamb', 'Game (deer, venison)']</td>\n",
       "      <td>13701963</td>\n",
       "      <td>['Good wine. Smooth ', 'This is now drinking w...</td>\n",
       "    </tr>\n",
       "    <tr>\n",
       "      <th>10994</th>\n",
       "      <td>Bin 707 Cabernet Sauvignon  2004</td>\n",
       "      <td>699.00</td>\n",
       "      <td>4.5</td>\n",
       "      <td>Penfolds</td>\n",
       "      <td>Cabernet Sauvignon</td>\n",
       "      <td>Australia</td>\n",
       "      <td>South Australia</td>\n",
       "      <td>0.1</td>\n",
       "      <td>['Beef', 'Lamb', 'Poultry']</td>\n",
       "      <td>22606940</td>\n",
       "      <td>['Amazing wine. Let it breathe. After promotio...</td>\n",
       "    </tr>\n",
       "    <tr>\n",
       "      <th>11964</th>\n",
       "      <td>Panek Vineyard Cabernet Sauvignon  2014</td>\n",
       "      <td>224.99</td>\n",
       "      <td>4.6</td>\n",
       "      <td>Pulido-Walker</td>\n",
       "      <td>Cabernet Sauvignon</td>\n",
       "      <td>United States</td>\n",
       "      <td>Napa Valley</td>\n",
       "      <td>4.6</td>\n",
       "      <td>['Beef', 'Lamb', 'Game (deer, venison)', 'Matu...</td>\n",
       "      <td>24840468</td>\n",
       "      <td>['A real sexy, smooth stunner. The middle of a...</td>\n",
       "    </tr>\n",
       "    <tr>\n",
       "      <th>12209</th>\n",
       "      <td>Meshach  2009</td>\n",
       "      <td>155.00</td>\n",
       "      <td>4.5</td>\n",
       "      <td>Grant Burge</td>\n",
       "      <td>Shiraz/Syrah</td>\n",
       "      <td>Australia</td>\n",
       "      <td>Barossa Valley</td>\n",
       "      <td>0.1</td>\n",
       "      <td>['Beef', 'Lamb', 'Game (deer, venison)', 'Poul...</td>\n",
       "      <td>25566002</td>\n",
       "      <td>['Burge’s flagship red stands as one of the ve...</td>\n",
       "    </tr>\n",
       "    <tr>\n",
       "      <th>12999</th>\n",
       "      <td>Châteauneuf-du-Pape Vieilles Vignes  2010</td>\n",
       "      <td>99.99</td>\n",
       "      <td>4.4</td>\n",
       "      <td>Domaine de la Janasse</td>\n",
       "      <td>Garnacha</td>\n",
       "      <td>France</td>\n",
       "      <td>Châteauneuf-du-Pape</td>\n",
       "      <td>0.8</td>\n",
       "      <td>['Lamb', 'Pork', 'Poultry']</td>\n",
       "      <td>20267194</td>\n",
       "      <td>['Tough luck for this 100 Parker points wine f...</td>\n",
       "    </tr>\n",
       "    <tr>\n",
       "      <th>16305</th>\n",
       "      <td>Gigondas Hominis Fides  2016</td>\n",
       "      <td>147.99</td>\n",
       "      <td>4.2</td>\n",
       "      <td>Château de Saint Cosme</td>\n",
       "      <td>Grenache</td>\n",
       "      <td>France</td>\n",
       "      <td>Gigondas</td>\n",
       "      <td>0.8</td>\n",
       "      <td>['Beef', 'Lamb', 'Game (deer, venison)']</td>\n",
       "      <td>25539112</td>\n",
       "      <td>[\"Tasted blind. Meaty notes, smoke, spices, cr...</td>\n",
       "    </tr>\n",
       "    <tr>\n",
       "      <th>17214</th>\n",
       "      <td>Sassicaia  1999</td>\n",
       "      <td>284.95</td>\n",
       "      <td>4.7</td>\n",
       "      <td>Tenuta San Guido</td>\n",
       "      <td>Cabernet Sauvignon</td>\n",
       "      <td>Italy</td>\n",
       "      <td>Bolgheri Sassicaia</td>\n",
       "      <td>0.8</td>\n",
       "      <td>['Beef', 'Pasta', 'Lamb', 'Veal', 'Game (deer,...</td>\n",
       "      <td>581781</td>\n",
       "      <td>['The wine is intense dark ruby \\u200b\\u200bco...</td>\n",
       "    </tr>\n",
       "    <tr>\n",
       "      <th>17370</th>\n",
       "      <td>Saumur Champigny  2011</td>\n",
       "      <td>199.00</td>\n",
       "      <td>4.4</td>\n",
       "      <td>Clos Rougeard</td>\n",
       "      <td>Cabernet Franc</td>\n",
       "      <td>France</td>\n",
       "      <td>Saumur-Champigny</td>\n",
       "      <td>1.0</td>\n",
       "      <td>['Beef', 'Pork', 'Game (deer, venison)', 'Poul...</td>\n",
       "      <td>20416604</td>\n",
       "      <td>['Very smooth. Perfect finish. Purple red colo...</td>\n",
       "    </tr>\n",
       "    <tr>\n",
       "      <th>18110</th>\n",
       "      <td>Essencia  2008</td>\n",
       "      <td>1100.00</td>\n",
       "      <td>4.8</td>\n",
       "      <td>Royal Tokaji</td>\n",
       "      <td>Hárslevelű</td>\n",
       "      <td>Hungary</td>\n",
       "      <td>Tokaj</td>\n",
       "      <td>4.0</td>\n",
       "      <td>NaN</td>\n",
       "      <td>17314660</td>\n",
       "      <td>['Free run juice of hand selected rotten grape...</td>\n",
       "    </tr>\n",
       "    <tr>\n",
       "      <th>20145</th>\n",
       "      <td>Chablis Premier Cru 'Butteaux'  2015</td>\n",
       "      <td>285.00</td>\n",
       "      <td>4.5</td>\n",
       "      <td>Raveneau</td>\n",
       "      <td>Chardonnay</td>\n",
       "      <td>France</td>\n",
       "      <td>Chablis 1er Cru 'Butteaux'</td>\n",
       "      <td>1.0</td>\n",
       "      <td>['Pork', 'Rich fish (salmon, tuna etc)', 'Shel...</td>\n",
       "      <td>17984129</td>\n",
       "      <td>['The best Chablis I have ever had. \\nMinerals...</td>\n",
       "    </tr>\n",
       "  </tbody>\n",
       "</table>\n",
       "</div>"
      ],
      "text/plain": [
       "                                            name    price  score  \\\n",
       "1717                                Shiraz  2003    59.99    4.3   \n",
       "3129               Lee Vineyard Pinot Noir  2017    64.99    4.3   \n",
       "10784                    Gigondas Le Claux  2015   119.95    4.3   \n",
       "10994           Bin 707 Cabernet Sauvignon  2004   699.00    4.5   \n",
       "11964    Panek Vineyard Cabernet Sauvignon  2014   224.99    4.6   \n",
       "12209                              Meshach  2009   155.00    4.5   \n",
       "12999  Châteauneuf-du-Pape Vieilles Vignes  2010    99.99    4.4   \n",
       "16305               Gigondas Hominis Fides  2016   147.99    4.2   \n",
       "17214                            Sassicaia  1999   284.95    4.7   \n",
       "17370                     Saumur Champigny  2011   199.00    4.4   \n",
       "18110                             Essencia  2008  1100.00    4.8   \n",
       "20145       Chablis Premier Cru 'Butteaux'  2015   285.00    4.5   \n",
       "\n",
       "                         winery              grapes        country  \\\n",
       "1717   Barossa Old Vine Company        Shiraz/Syrah      Australia   \n",
       "3129                 Saintsbury          Pinot Noir  United States   \n",
       "10784    Château de Saint Cosme            Grenache         France   \n",
       "10994                  Penfolds  Cabernet Sauvignon      Australia   \n",
       "11964             Pulido-Walker  Cabernet Sauvignon  United States   \n",
       "12209               Grant Burge        Shiraz/Syrah      Australia   \n",
       "12999     Domaine de la Janasse            Garnacha         France   \n",
       "16305    Château de Saint Cosme            Grenache         France   \n",
       "17214          Tenuta San Guido  Cabernet Sauvignon          Italy   \n",
       "17370             Clos Rougeard      Cabernet Franc         France   \n",
       "18110              Royal Tokaji          Hárslevelű        Hungary   \n",
       "20145                  Raveneau          Chardonnay         France   \n",
       "\n",
       "                           region  alcohol  \\\n",
       "1717               Barossa Valley      0.1   \n",
       "3129                 Los Carneros      1.4   \n",
       "10784                    Gigondas      0.8   \n",
       "10994             South Australia      0.1   \n",
       "11964                 Napa Valley      4.6   \n",
       "12209              Barossa Valley      0.1   \n",
       "12999         Châteauneuf-du-Pape      0.8   \n",
       "16305                    Gigondas      0.8   \n",
       "17214          Bolgheri Sassicaia      0.8   \n",
       "17370            Saumur-Champigny      1.0   \n",
       "18110                       Tokaj      4.0   \n",
       "20145  Chablis 1er Cru 'Butteaux'      1.0   \n",
       "\n",
       "                                                   foods   wine_id  \\\n",
       "1717   ['Beef', 'Lamb', 'Game (deer, venison)', 'Poul...   1510660   \n",
       "3129   ['Beef', 'Veal', 'Game (deer, venison)', 'Poul...  22490883   \n",
       "10784           ['Beef', 'Lamb', 'Game (deer, venison)']  13701963   \n",
       "10994                        ['Beef', 'Lamb', 'Poultry']  22606940   \n",
       "11964  ['Beef', 'Lamb', 'Game (deer, venison)', 'Matu...  24840468   \n",
       "12209  ['Beef', 'Lamb', 'Game (deer, venison)', 'Poul...  25566002   \n",
       "12999                        ['Lamb', 'Pork', 'Poultry']  20267194   \n",
       "16305           ['Beef', 'Lamb', 'Game (deer, venison)']  25539112   \n",
       "17214  ['Beef', 'Pasta', 'Lamb', 'Veal', 'Game (deer,...    581781   \n",
       "17370  ['Beef', 'Pork', 'Game (deer, venison)', 'Poul...  20416604   \n",
       "18110                                                NaN  17314660   \n",
       "20145  ['Pork', 'Rich fish (salmon, tuna etc)', 'Shel...  17984129   \n",
       "\n",
       "                                                      re  \n",
       "1717   ['Full of cherry with creamy finish..', 'Wow. ...  \n",
       "3129   ['more acidic than most recent saintsbury wine...  \n",
       "10784  ['Good wine. Smooth ', 'This is now drinking w...  \n",
       "10994  ['Amazing wine. Let it breathe. After promotio...  \n",
       "11964  ['A real sexy, smooth stunner. The middle of a...  \n",
       "12209  ['Burge’s flagship red stands as one of the ve...  \n",
       "12999  ['Tough luck for this 100 Parker points wine f...  \n",
       "16305  [\"Tasted blind. Meaty notes, smoke, spices, cr...  \n",
       "17214  ['The wine is intense dark ruby \\u200b\\u200bco...  \n",
       "17370  ['Very smooth. Perfect finish. Purple red colo...  \n",
       "18110  ['Free run juice of hand selected rotten grape...  \n",
       "20145  ['The best Chablis I have ever had. \\nMinerals...  "
      ]
     },
     "execution_count": 29,
     "metadata": {},
     "output_type": "execute_result"
    }
   ],
   "source": [
    "wine_df[(wine_df['alcohol']<5) & (wine_df['alcohol']!=0)]"
   ]
  },
  {
   "cell_type": "code",
   "execution_count": 171,
   "metadata": {},
   "outputs": [
    {
     "data": {
      "text/html": [
       "<div>\n",
       "<style scoped>\n",
       "    .dataframe tbody tr th:only-of-type {\n",
       "        vertical-align: middle;\n",
       "    }\n",
       "\n",
       "    .dataframe tbody tr th {\n",
       "        vertical-align: top;\n",
       "    }\n",
       "\n",
       "    .dataframe thead th {\n",
       "        text-align: right;\n",
       "    }\n",
       "</style>\n",
       "<table border=\"1\" class=\"dataframe\">\n",
       "  <thead>\n",
       "    <tr style=\"text-align: right;\">\n",
       "      <th></th>\n",
       "      <th>name</th>\n",
       "      <th>price</th>\n",
       "      <th>score</th>\n",
       "      <th>winery</th>\n",
       "      <th>grapes</th>\n",
       "      <th>country</th>\n",
       "      <th>region</th>\n",
       "      <th>alcohol</th>\n",
       "      <th>foods</th>\n",
       "      <th>wine_id</th>\n",
       "      <th>re</th>\n",
       "    </tr>\n",
       "  </thead>\n",
       "  <tbody>\n",
       "    <tr>\n",
       "      <th>11847</th>\n",
       "      <td>Amarone della Valpolicella Classico  2001</td>\n",
       "      <td>87.99</td>\n",
       "      <td>4.4</td>\n",
       "      <td>Allegrini</td>\n",
       "      <td>Corvina</td>\n",
       "      <td>Italy</td>\n",
       "      <td>Amarone della Valpolicella Classico</td>\n",
       "      <td>45.0</td>\n",
       "      <td>['Beef', 'Lamb', 'Game (deer, venison)', 'Blue...</td>\n",
       "      <td>15243072</td>\n",
       "      <td>['2001 but really something. Still nice acidit...</td>\n",
       "    </tr>\n",
       "    <tr>\n",
       "      <th>18520</th>\n",
       "      <td>Grappa Tignanello  N.V.</td>\n",
       "      <td>59.99</td>\n",
       "      <td>4.3</td>\n",
       "      <td>Antinori</td>\n",
       "      <td>Cabernet Sauvignon</td>\n",
       "      <td>Italy</td>\n",
       "      <td>Chianti Classico</td>\n",
       "      <td>42.0</td>\n",
       "      <td>['Beef', 'Lamb', 'Veal', 'Pork', 'Game (deer, ...</td>\n",
       "      <td>24849065</td>\n",
       "      <td>['Powerful yet refined and smooth\\n', 'Quite s...</td>\n",
       "    </tr>\n",
       "  </tbody>\n",
       "</table>\n",
       "</div>"
      ],
      "text/plain": [
       "                                            name  price  score     winery  \\\n",
       "11847  Amarone della Valpolicella Classico  2001  87.99    4.4  Allegrini   \n",
       "18520                    Grappa Tignanello  N.V.  59.99    4.3   Antinori   \n",
       "\n",
       "                   grapes country                               region  \\\n",
       "11847             Corvina   Italy  Amarone della Valpolicella Classico   \n",
       "18520  Cabernet Sauvignon   Italy                     Chianti Classico   \n",
       "\n",
       "       alcohol                                              foods   wine_id  \\\n",
       "11847     45.0  ['Beef', 'Lamb', 'Game (deer, venison)', 'Blue...  15243072   \n",
       "18520     42.0  ['Beef', 'Lamb', 'Veal', 'Pork', 'Game (deer, ...  24849065   \n",
       "\n",
       "                                                      re  \n",
       "11847  ['2001 but really something. Still nice acidit...  \n",
       "18520  ['Powerful yet refined and smooth\\n', 'Quite s...  "
      ]
     },
     "execution_count": 171,
     "metadata": {},
     "output_type": "execute_result"
    }
   ],
   "source": [
    "wine_df[(wine_df['alcohol']> 40)]"
   ]
  },
  {
   "attachments": {
    "image.png": {
     "image/png": "[encoded data removed]"
    }
   },
   "cell_type": "markdown",
   "metadata": {},
   "source": [
    "![image.png](attachment:image.png)\n"
   ]
  },
  {
   "cell_type": "markdown",
   "metadata": {},
   "source": [
    "# alcohol == 0.0 인 값 구글에서 검색해서 채우기 => 실패"
   ]
  },
  {
   "cell_type": "code",
   "execution_count": 108,
   "metadata": {},
   "outputs": [
    {
     "data": {
      "text/html": [
       "<div>\n",
       "<style scoped>\n",
       "    .dataframe tbody tr th:only-of-type {\n",
       "        vertical-align: middle;\n",
       "    }\n",
       "\n",
       "    .dataframe tbody tr th {\n",
       "        vertical-align: top;\n",
       "    }\n",
       "\n",
       "    .dataframe thead th {\n",
       "        text-align: right;\n",
       "    }\n",
       "</style>\n",
       "<table border=\"1\" class=\"dataframe\">\n",
       "  <thead>\n",
       "    <tr style=\"text-align: right;\">\n",
       "      <th></th>\n",
       "      <th>name</th>\n",
       "      <th>price</th>\n",
       "      <th>score</th>\n",
       "      <th>winery</th>\n",
       "      <th>grapes</th>\n",
       "      <th>country</th>\n",
       "      <th>region</th>\n",
       "      <th>alcohol</th>\n",
       "      <th>foods</th>\n",
       "      <th>wine_id</th>\n",
       "      <th>re</th>\n",
       "    </tr>\n",
       "  </thead>\n",
       "  <tbody>\n",
       "    <tr>\n",
       "      <th>33</th>\n",
       "      <td>Rouge  2016</td>\n",
       "      <td>59.99</td>\n",
       "      <td>4.2</td>\n",
       "      <td>Domaine de l'A</td>\n",
       "      <td>Cabernet Franc</td>\n",
       "      <td>France</td>\n",
       "      <td>Castillon - Côtes de Bordeaux</td>\n",
       "      <td>0.0</td>\n",
       "      <td>['Beef', 'Veal', 'Game (deer, venison)', 'Poul...</td>\n",
       "      <td>20917035</td>\n",
       "      <td>['Very pleasant red from Bordeaux right bank.\\...</td>\n",
       "    </tr>\n",
       "    <tr>\n",
       "      <th>38</th>\n",
       "      <td>Blue Eyed Boy Shiraz  2019</td>\n",
       "      <td>54.99</td>\n",
       "      <td>4.4</td>\n",
       "      <td>Mollydooker</td>\n",
       "      <td>Shiraz/Syrah</td>\n",
       "      <td>Australia</td>\n",
       "      <td>Langhorne Creek</td>\n",
       "      <td>0.0</td>\n",
       "      <td>['Beef', 'Lamb', 'Game (deer, venison)', 'Poul...</td>\n",
       "      <td>24558357</td>\n",
       "      <td>['Deep purple hue in the glass.\\n\\nLots of gen...</td>\n",
       "    </tr>\n",
       "    <tr>\n",
       "      <th>70</th>\n",
       "      <td>Brunello di Montalcino  2012</td>\n",
       "      <td>72.99</td>\n",
       "      <td>4.2</td>\n",
       "      <td>Altesino</td>\n",
       "      <td>Sangiovese</td>\n",
       "      <td>Italy</td>\n",
       "      <td>Brunello di Montalcino</td>\n",
       "      <td>0.0</td>\n",
       "      <td>['Beef', 'Lamb', 'Game (deer, venison)', 'Poul...</td>\n",
       "      <td>15098161</td>\n",
       "      <td>['Perhaps the best Altesino I have tasted so f...</td>\n",
       "    </tr>\n",
       "    <tr>\n",
       "      <th>213</th>\n",
       "      <td>Deux Chevaux Vineyard Rabicano  2016</td>\n",
       "      <td>74.99</td>\n",
       "      <td>4.4</td>\n",
       "      <td>Tamber Bey</td>\n",
       "      <td>Cabernet Sauvignon</td>\n",
       "      <td>United States</td>\n",
       "      <td>Yountville</td>\n",
       "      <td>0.0</td>\n",
       "      <td>['Beef', 'Lamb', 'Game (deer, venison)', 'Poul...</td>\n",
       "      <td>22694899</td>\n",
       "      <td>['Perfect Bordeaux blend from Napa, bold, not ...</td>\n",
       "    </tr>\n",
       "    <tr>\n",
       "      <th>232</th>\n",
       "      <td>Cabernet Sauvignon Affinity  2017</td>\n",
       "      <td>54.99</td>\n",
       "      <td>4.3</td>\n",
       "      <td>Robert Craig</td>\n",
       "      <td>Cabernet Sauvignon</td>\n",
       "      <td>United States</td>\n",
       "      <td>Napa Valley</td>\n",
       "      <td>0.0</td>\n",
       "      <td>['Beef', 'Lamb', 'Game (deer, venison)', 'Matu...</td>\n",
       "      <td>24313126</td>\n",
       "      <td>['09/24/21, 2017 vintage. \\n\\nDinner at Citize...</td>\n",
       "    </tr>\n",
       "    <tr>\n",
       "      <th>248</th>\n",
       "      <td>Clos del Portal Negre de Negres  2018</td>\n",
       "      <td>26.46</td>\n",
       "      <td>4.2</td>\n",
       "      <td>Portal del Priorat</td>\n",
       "      <td>Grenache</td>\n",
       "      <td>Spain</td>\n",
       "      <td>Priorat</td>\n",
       "      <td>0.0</td>\n",
       "      <td>['Beef', 'Lamb', 'Game (deer, venison)', 'Poul...</td>\n",
       "      <td>20988508</td>\n",
       "      <td>['Amazing wine. Medium plus body. Smoke. Fruit...</td>\n",
       "    </tr>\n",
       "    <tr>\n",
       "      <th>258</th>\n",
       "      <td>Fleurie  2019</td>\n",
       "      <td>57.99</td>\n",
       "      <td>4.4</td>\n",
       "      <td>Jean Foillard</td>\n",
       "      <td>Gamay</td>\n",
       "      <td>France</td>\n",
       "      <td>Fleurie</td>\n",
       "      <td>0.0</td>\n",
       "      <td>['Pasta', 'Veal', 'Pork', 'Poultry']</td>\n",
       "      <td>25530583</td>\n",
       "      <td>['Strawberry, black cherry, burnt wood, toffee...</td>\n",
       "    </tr>\n",
       "    <tr>\n",
       "      <th>316</th>\n",
       "      <td>Napa Valley Cabernet Sauvignon  2018</td>\n",
       "      <td>34.95</td>\n",
       "      <td>4.2</td>\n",
       "      <td>Louis M. Martini</td>\n",
       "      <td>Cabernet Sauvignon</td>\n",
       "      <td>United States</td>\n",
       "      <td>Napa Valley</td>\n",
       "      <td>0.0</td>\n",
       "      <td>['Beef', 'Lamb', 'Game (deer, venison)', 'Matu...</td>\n",
       "      <td>25681878</td>\n",
       "      <td>['Very very good. Bold. Great acid level. . Wh...</td>\n",
       "    </tr>\n",
       "    <tr>\n",
       "      <th>367</th>\n",
       "      <td>Beso de Dante  2014</td>\n",
       "      <td>49.99</td>\n",
       "      <td>4.3</td>\n",
       "      <td>Luca</td>\n",
       "      <td>Malbec</td>\n",
       "      <td>Argentina</td>\n",
       "      <td>Mendoza</td>\n",
       "      <td>0.0</td>\n",
       "      <td>['Beef', 'Pasta', 'Lamb', 'Poultry']</td>\n",
       "      <td>18830027</td>\n",
       "      <td>['4.20 - Powerful ‘14 blend from Uco Valley - ...</td>\n",
       "    </tr>\n",
       "    <tr>\n",
       "      <th>368</th>\n",
       "      <td>Gran Cabernet Franc (XI)  2016</td>\n",
       "      <td>52.99</td>\n",
       "      <td>4.5</td>\n",
       "      <td>Pulenta Estate</td>\n",
       "      <td>Cabernet Franc</td>\n",
       "      <td>Argentina</td>\n",
       "      <td>Mendoza</td>\n",
       "      <td>0.0</td>\n",
       "      <td>['Beef', 'Pork', 'Game (deer, venison)', 'Poul...</td>\n",
       "      <td>21218450</td>\n",
       "      <td>['The best Cabernet franc I ve tried. Deep rub...</td>\n",
       "    </tr>\n",
       "  </tbody>\n",
       "</table>\n",
       "</div>"
      ],
      "text/plain": [
       "                                      name  price  score              winery  \\\n",
       "33                             Rouge  2016  59.99    4.2      Domaine de l'A   \n",
       "38              Blue Eyed Boy Shiraz  2019  54.99    4.4         Mollydooker   \n",
       "70            Brunello di Montalcino  2012  72.99    4.2            Altesino   \n",
       "213   Deux Chevaux Vineyard Rabicano  2016  74.99    4.4          Tamber Bey   \n",
       "232      Cabernet Sauvignon Affinity  2017  54.99    4.3        Robert Craig   \n",
       "248  Clos del Portal Negre de Negres  2018  26.46    4.2  Portal del Priorat   \n",
       "258                          Fleurie  2019  57.99    4.4       Jean Foillard   \n",
       "316   Napa Valley Cabernet Sauvignon  2018  34.95    4.2    Louis M. Martini   \n",
       "367                    Beso de Dante  2014  49.99    4.3                Luca   \n",
       "368         Gran Cabernet Franc (XI)  2016  52.99    4.5      Pulenta Estate   \n",
       "\n",
       "                 grapes        country                         region  \\\n",
       "33       Cabernet Franc         France  Castillon - Côtes de Bordeaux   \n",
       "38         Shiraz/Syrah      Australia                Langhorne Creek   \n",
       "70           Sangiovese          Italy         Brunello di Montalcino   \n",
       "213  Cabernet Sauvignon  United States                     Yountville   \n",
       "232  Cabernet Sauvignon  United States                    Napa Valley   \n",
       "248            Grenache          Spain                        Priorat   \n",
       "258               Gamay         France                        Fleurie   \n",
       "316  Cabernet Sauvignon  United States                    Napa Valley   \n",
       "367              Malbec      Argentina                        Mendoza   \n",
       "368      Cabernet Franc      Argentina                        Mendoza   \n",
       "\n",
       "     alcohol                                              foods   wine_id  \\\n",
       "33       0.0  ['Beef', 'Veal', 'Game (deer, venison)', 'Poul...  20917035   \n",
       "38       0.0  ['Beef', 'Lamb', 'Game (deer, venison)', 'Poul...  24558357   \n",
       "70       0.0  ['Beef', 'Lamb', 'Game (deer, venison)', 'Poul...  15098161   \n",
       "213      0.0  ['Beef', 'Lamb', 'Game (deer, venison)', 'Poul...  22694899   \n",
       "232      0.0  ['Beef', 'Lamb', 'Game (deer, venison)', 'Matu...  24313126   \n",
       "248      0.0  ['Beef', 'Lamb', 'Game (deer, venison)', 'Poul...  20988508   \n",
       "258      0.0               ['Pasta', 'Veal', 'Pork', 'Poultry']  25530583   \n",
       "316      0.0  ['Beef', 'Lamb', 'Game (deer, venison)', 'Matu...  25681878   \n",
       "367      0.0               ['Beef', 'Pasta', 'Lamb', 'Poultry']  18830027   \n",
       "368      0.0  ['Beef', 'Pork', 'Game (deer, venison)', 'Poul...  21218450   \n",
       "\n",
       "                                                    re  \n",
       "33   ['Very pleasant red from Bordeaux right bank.\\...  \n",
       "38   ['Deep purple hue in the glass.\\n\\nLots of gen...  \n",
       "70   ['Perhaps the best Altesino I have tasted so f...  \n",
       "213  ['Perfect Bordeaux blend from Napa, bold, not ...  \n",
       "232  ['09/24/21, 2017 vintage. \\n\\nDinner at Citize...  \n",
       "248  ['Amazing wine. Medium plus body. Smoke. Fruit...  \n",
       "258  ['Strawberry, black cherry, burnt wood, toffee...  \n",
       "316  ['Very very good. Bold. Great acid level. . Wh...  \n",
       "367  ['4.20 - Powerful ‘14 blend from Uco Valley - ...  \n",
       "368  ['The best Cabernet franc I ve tried. Deep rub...  "
      ]
     },
     "execution_count": 108,
     "metadata": {},
     "output_type": "execute_result"
    }
   ],
   "source": [
    "alcohol_0 = wine_df[wine_df['alcohol']==0]\n",
    "alcohol_0.head(10)"
   ]
  },
  {
   "cell_type": "code",
   "execution_count": 161,
   "metadata": {},
   "outputs": [
    {
     "data": {
      "text/plain": [
       "Cabernet Sauvignon  2016                      146\n",
       "Cabernet Sauvignon  2014                      139\n",
       "Cabernet Sauvignon  2015                      126\n",
       "Cabernet Sauvignon  2013                       93\n",
       "Cabernet Sauvignon  2017                       92\n",
       "                                             ... \n",
       "Clos d'Ora  2013                                1\n",
       "Howell Mountain Cabernet Sauvignon  2008        1\n",
       "Barolo San Lorenzo di Verduno  2012             1\n",
       "Toneles Moscatel  N.V.                          1\n",
       "Air Show Vineyard Cabernet Sauvignon  2018      1\n",
       "Name: name, Length: 18323, dtype: int64"
      ]
     },
     "execution_count": 161,
     "metadata": {},
     "output_type": "execute_result"
    }
   ],
   "source": [
    "wine_df['name'].value_counts()"
   ]
  },
  {
   "cell_type": "code",
   "execution_count": 170,
   "metadata": {},
   "outputs": [
    {
     "data": {
      "text/plain": [
       "14.5"
      ]
     },
     "execution_count": 170,
     "metadata": {},
     "output_type": "execute_result"
    }
   ],
   "source": [
    "wine_df[wine_df['name'].str.contains(\"Cabernet Sauvignon\")]['alcohol'].()"
   ]
  },
  {
   "cell_type": "code",
   "execution_count": 59,
   "metadata": {},
   "outputs": [],
   "source": [
    "urls=[]\n",
    "for name in alcohol_0['name']:\n",
    "    urls.append('https://www.google.com/search?q='+name+'+alcohol+content')"
   ]
  },
  {
   "cell_type": "code",
   "execution_count": 8,
   "metadata": {},
   "outputs": [],
   "source": [
    "#headers = {'User-Agent': 'Mozilla/5.0'} "
   ]
  },
  {
   "cell_type": "code",
   "execution_count": 137,
   "metadata": {},
   "outputs": [],
   "source": [
    "url = 'https://www.google.com/search?q=rouge+2016+alcohol+content'"
   ]
  },
  {
   "cell_type": "code",
   "execution_count": 138,
   "metadata": {},
   "outputs": [],
   "source": [
    "driver = webdriver.Chrome(executable_path='(driver) chromedriver.exe') "
   ]
  },
  {
   "cell_type": "code",
   "execution_count": 139,
   "metadata": {},
   "outputs": [],
   "source": [
    "# driver.get(url)"
   ]
  },
  {
   "cell_type": "code",
   "execution_count": 176,
   "metadata": {},
   "outputs": [],
   "source": [
    "# wine_name=[]\n",
    "# wine_alcohol=[]\n",
    "# count = 1\n",
    "# origin_xpath = '/html/body/div[4]/div[2]/form/div[1]/div[1]/div[2]/div/div[2]/input'\n",
    "# for name in alcohol_0['name']:\n",
    "#     find_alcohol = name+\" alcohol content\"\n",
    "#     try:\n",
    "#         driver.find_element_by_xpath(origin_xpath).clear()\n",
    "#         driver.find_element_by_xpath(origin_xpath).send_keys(find_alcohol)\n",
    "#         driver.find_element_by_xpath(origin_xpath).submit()\n",
    "#         alcohol_contents = driver.find_element_by_xpath(alcohol_xpath)\n",
    "#         wine_alcohol.append(alcohol_contents.text[:-1])\n",
    "#         wine_name.append(name)\n",
    "#         time.sleep(1)\n",
    "#     except:\n",
    "#         wine_alcohol.append(\"\")\n",
    "#         wine_name.append(name)\n",
    "        \n",
    "#     print(count)\n",
    "#     count+=1"
   ]
  },
  {
   "cell_type": "code",
   "execution_count": 154,
   "metadata": {},
   "outputs": [],
   "source": [
    "# driver.quit()\n",
    "# driver.close()"
   ]
  },
  {
   "cell_type": "code",
   "execution_count": 18,
   "metadata": {},
   "outputs": [],
   "source": [
    "# wine_name=[]\n",
    "# wine_alcohol=[]\n",
    "# count = 1\n",
    "# for url in urls:\n",
    "#     web = requests.get(url, headers=headers).content\n",
    "#     source = BeautifulSoup(web, 'html.parser')\n",
    "#     try: \n",
    "#         for i in source.find_all('div',{'class':'BNeawe s3v9rd AP7Wnd'}):\n",
    "#             find_alcohol = []\n",
    "#             if '%'in str(i):\n",
    "#                 find_alcohol.append(i)\n",
    "#         wine_alcohol.append(find_alcohol[0].get_text()[:-1])\n",
    "#         wine_name.append(url.split('?q=')[1].split('+alcohol+content')[0])\n",
    "#     except:\n",
    "#         wine_alcohol.append(\"\")\n",
    "#         wine_name.append(url.split('?q=')[1].split('+alcohol+content')[0])\n",
    "#     count+=1\n",
    "   # print(count)"
   ]
  },
  {
   "cell_type": "markdown",
   "metadata": {},
   "source": [
    "# 가격 살펴보기"
   ]
  },
  {
   "cell_type": "code",
   "execution_count": 150,
   "metadata": {},
   "outputs": [
    {
     "data": {
      "text/plain": [
       "<matplotlib.axes._subplots.AxesSubplot at 0x1db81771cc0>"
      ]
     },
     "execution_count": 150,
     "metadata": {},
     "output_type": "execute_result"
    },
    {
     "data": {
      "image/png": "[encoded data removed]",
      "text/plain": [
       "<Figure size 432x288 with 1 Axes>"
      ]
     },
     "metadata": {
      "needs_background": "light"
     },
     "output_type": "display_data"
    }
   ],
   "source": [
    "sns.boxplot(x=wine_df['price'])"
   ]
  },
  {
   "cell_type": "code",
   "execution_count": 151,
   "metadata": {},
   "outputs": [
    {
     "data": {
      "text/plain": [
       "count    23713.000000\n",
       "mean       222.036865\n",
       "std        815.167280\n",
       "min          5.490000\n",
       "25%         54.990000\n",
       "50%         89.990000\n",
       "75%        175.000000\n",
       "max      21999.990000\n",
       "Name: price, dtype: float64"
      ]
     },
     "execution_count": 151,
     "metadata": {},
     "output_type": "execute_result"
    }
   ],
   "source": [
    "wine_df['price'].describe()"
   ]
  },
  {
   "cell_type": "code",
   "execution_count": 120,
   "metadata": {
    "scrolled": false
   },
   "outputs": [],
   "source": [
    "# $10000이상은 값은 버림 => 2개\n",
    "\n",
    "wine_price = wine_df[wine_df['price']<10000]"
   ]
  },
  {
   "cell_type": "code",
   "execution_count": 175,
   "metadata": {},
   "outputs": [
    {
     "data": {
      "text/plain": [
       "<matplotlib.axes._subplots.AxesSubplot at 0x1db81a505f8>"
      ]
     },
     "execution_count": 175,
     "metadata": {},
     "output_type": "execute_result"
    },
    {
     "data": {
      "image/png": "[encoded data removed]",
      "text/plain": [
       "<Figure size 432x288 with 1 Axes>"
      ]
     },
     "metadata": {
      "needs_background": "light"
     },
     "output_type": "display_data"
    }
   ],
   "source": [
    "sns.boxplot(x=wine_price['price'])"
   ]
  },
  {
   "cell_type": "markdown",
   "metadata": {},
   "source": [
    "# alcohol 빈값 채우기"
   ]
  },
  {
   "cell_type": "code",
   "execution_count": 20,
   "metadata": {},
   "outputs": [
    {
     "data": {
      "text/plain": [
       "Cabernet Sauvignon  2016            146\n",
       "Cabernet Sauvignon  2014            139\n",
       "Cabernet Sauvignon  2015            126\n",
       "Cabernet Sauvignon  2013             93\n",
       "Cabernet Sauvignon  2017             92\n",
       "                                   ... \n",
       "Vosne-Romanée  2017                  11\n",
       "Vintage Port  2016                   11\n",
       "Red  2014                            11\n",
       "Reserve Cabernet Sauvignon  2014     11\n",
       "Pomerol  2014                        11\n",
       "Name: name, Length: 100, dtype: int64"
      ]
     },
     "execution_count": 20,
     "metadata": {},
     "output_type": "execute_result"
    }
   ],
   "source": [
    "wine_price ['name'].value_counts().head(100)"
   ]
  },
  {
   "cell_type": "code",
   "execution_count": 22,
   "metadata": {},
   "outputs": [],
   "source": [
    "import math"
   ]
  },
  {
   "cell_type": "code",
   "execution_count": 121,
   "metadata": {},
   "outputs": [
    {
     "name": "stdout",
     "output_type": "stream",
     "text": [
      "<class 'pandas.core.frame.DataFrame'>\n",
      "Int64Index: 23687 entries, 0 to 23781\n",
      "Data columns (total 11 columns):\n",
      " #   Column   Non-Null Count  Dtype  \n",
      "---  ------   --------------  -----  \n",
      " 0   name     23687 non-null  object \n",
      " 1   price    23687 non-null  float64\n",
      " 2   score    23687 non-null  float64\n",
      " 3   winery   23687 non-null  object \n",
      " 4   grapes   23627 non-null  object \n",
      " 5   country  23680 non-null  object \n",
      " 6   region   23680 non-null  object \n",
      " 7   alcohol  14496 non-null  float64\n",
      " 8   foods    23409 non-null  object \n",
      " 9   wine_id  23687 non-null  int64  \n",
      " 10  re       23687 non-null  object \n",
      "dtypes: float64(3), int64(1), object(7)\n",
      "memory usage: 2.2+ MB\n"
     ]
    }
   ],
   "source": [
    "wine_price.info()"
   ]
  },
  {
   "cell_type": "code",
   "execution_count": null,
   "metadata": {},
   "outputs": [],
   "source": []
  },
  {
   "cell_type": "code",
   "execution_count": 30,
   "metadata": {},
   "outputs": [],
   "source": [
    "wine_mean = wine_price['alcohol'].mean()"
   ]
  },
  {
   "cell_type": "code",
   "execution_count": 25,
   "metadata": {},
   "outputs": [],
   "source": [
    "all_grapes = wine_df['grapes'].unique()"
   ]
  },
  {
   "cell_type": "code",
   "execution_count": 144,
   "metadata": {},
   "outputs": [],
   "source": [
    "for i in range(len(wine_price)):\n",
    "    for grape in all_grapes:\n",
    "        try:\n",
    "            if wine_price['grapes'][i]==grape:\n",
    "                if (math.isnan(wine_price['alcohol'][i])==True) | (wine_price['alcohol'][i] == 0.0):\n",
    "                    wine_price.at[i,'alcohol'] = wine_price[wine_price['grapes']==grape]['alcohol'].mean()\n",
    "        except:\n",
    "            continue"
   ]
  },
  {
   "cell_type": "code",
   "execution_count": 152,
   "metadata": {},
   "outputs": [
    {
     "name": "stdout",
     "output_type": "stream",
     "text": [
      "<class 'pandas.core.frame.DataFrame'>\n",
      "Int64Index: 23687 entries, 0 to 23781\n",
      "Data columns (total 11 columns):\n",
      " #   Column   Non-Null Count  Dtype  \n",
      "---  ------   --------------  -----  \n",
      " 0   name     23687 non-null  object \n",
      " 1   price    23687 non-null  float64\n",
      " 2   score    23687 non-null  float64\n",
      " 3   winery   23687 non-null  object \n",
      " 4   grapes   23627 non-null  object \n",
      " 5   country  23680 non-null  object \n",
      " 6   region   23680 non-null  object \n",
      " 7   alcohol  23687 non-null  float64\n",
      " 8   foods    23409 non-null  object \n",
      " 9   wine_id  23687 non-null  int64  \n",
      " 10  re       23687 non-null  object \n",
      "dtypes: float64(3), int64(1), object(7)\n",
      "memory usage: 2.7+ MB\n"
     ]
    }
   ],
   "source": [
    "wine_price.info()"
   ]
  },
  {
   "cell_type": "code",
   "execution_count": 151,
   "metadata": {},
   "outputs": [
    {
     "name": "stderr",
     "output_type": "stream",
     "text": [
      "C:\\ProgramData\\Anaconda3\\lib\\site-packages\\pandas\\core\\series.py:4469: SettingWithCopyWarning: \n",
      "A value is trying to be set on a copy of a slice from a DataFrame\n",
      "\n",
      "See the caveats in the documentation: https://pandas.pydata.org/pandas-docs/stable/user_guide/indexing.html#returning-a-view-versus-a-copy\n",
      "  downcast=downcast,\n"
     ]
    }
   ],
   "source": [
    "wine_price['alcohol'].fillna(wine_mean,inplace=True)"
   ]
  },
  {
   "cell_type": "code",
   "execution_count": 153,
   "metadata": {},
   "outputs": [
    {
     "name": "stderr",
     "output_type": "stream",
     "text": [
      "C:\\ProgramData\\Anaconda3\\lib\\site-packages\\pandas\\core\\series.py:4515: SettingWithCopyWarning: \n",
      "A value is trying to be set on a copy of a slice from a DataFrame\n",
      "\n",
      "See the caveats in the documentation: https://pandas.pydata.org/pandas-docs/stable/user_guide/indexing.html#returning-a-view-versus-a-copy\n",
      "  method=method,\n"
     ]
    }
   ],
   "source": [
    "wine_price['alcohol'].replace(0.0,wine_mean,inplace=True)"
   ]
  },
  {
   "cell_type": "code",
   "execution_count": 156,
   "metadata": {},
   "outputs": [],
   "source": [
    "# 중복 wine_ id 제거\n",
    "wine_new = wine_price.drop_duplicates(['wine_id'], keep = 'first')"
   ]
  },
  {
   "cell_type": "code",
   "execution_count": 157,
   "metadata": {},
   "outputs": [
    {
     "data": {
      "text/plain": [
       "21004288    1\n",
       "20197873    1\n",
       "17358161    1\n",
       "527346      1\n",
       "20360527    1\n",
       "Name: wine_id, dtype: int64"
      ]
     },
     "execution_count": 157,
     "metadata": {},
     "output_type": "execute_result"
    }
   ],
   "source": [
    "wine_new['wine_id'].value_counts().head()"
   ]
  },
  {
   "cell_type": "code",
   "execution_count": 159,
   "metadata": {},
   "outputs": [
    {
     "data": {
      "text/plain": [
       "name         0\n",
       "price        0\n",
       "score        0\n",
       "winery       0\n",
       "grapes      60\n",
       "country      7\n",
       "region       7\n",
       "alcohol      0\n",
       "foods      277\n",
       "wine_id      0\n",
       "re           0\n",
       "dtype: int64"
      ]
     },
     "execution_count": 159,
     "metadata": {},
     "output_type": "execute_result"
    }
   ],
   "source": [
    "wine_new.isnull().sum()"
   ]
  },
  {
   "cell_type": "code",
   "execution_count": 24,
   "metadata": {},
   "outputs": [
    {
     "data": {
      "text/plain": [
       "count    23394.000000\n",
       "mean       224.168584\n",
       "std        820.428463\n",
       "min          5.490000\n",
       "25%         54.990000\n",
       "50%         89.990000\n",
       "75%        179.000000\n",
       "max      21999.990000\n",
       "Name: price, dtype: float64"
      ]
     },
     "execution_count": 24,
     "metadata": {},
     "output_type": "execute_result"
    }
   ],
   "source": [
    "wine_df['price'].describe()"
   ]
  },
  {
   "cell_type": "code",
   "execution_count": 140,
   "metadata": {},
   "outputs": [],
   "source": [
    "#'rev_alcohol' : 도수 낮을수록 점수 높음\n",
    "wine_df['rev_alcohol'] = 100 - wine_df['alcohol']\n",
    "\n",
    "#'price' :  가격 낮을수록 점수 높은 \n",
    "# wine_df['rev_price'] = 22000 - wine_df['alcohol']"
   ]
  },
  {
   "cell_type": "code",
   "execution_count": 142,
   "metadata": {},
   "outputs": [],
   "source": [
    "# min_max \n",
    "def norm(x):\n",
    "    _max = x.max()\n",
    "    _min = x.min()\n",
    "    _denom = _max - _min\n",
    "    return (x - _min) / _denom\n",
    "\n",
    "for i in ['score','alcohol','rev_alcohol','price']:#,'rev_price'\n",
    "    update_df = wine_df[[i]]\n",
    "    wine_df[[i]]= norm(update_df)\n",
    "    wine_df[i] = wine_df[i].round(2)"
   ]
  },
  {
   "cell_type": "code",
   "execution_count": 143,
   "metadata": {},
   "outputs": [
    {
     "data": {
      "text/html": [
       "<div>\n",
       "<style scoped>\n",
       "    .dataframe tbody tr th:only-of-type {\n",
       "        vertical-align: middle;\n",
       "    }\n",
       "\n",
       "    .dataframe tbody tr th {\n",
       "        vertical-align: top;\n",
       "    }\n",
       "\n",
       "    .dataframe thead th {\n",
       "        text-align: right;\n",
       "    }\n",
       "</style>\n",
       "<table border=\"1\" class=\"dataframe\">\n",
       "  <thead>\n",
       "    <tr style=\"text-align: right;\">\n",
       "      <th></th>\n",
       "      <th>name</th>\n",
       "      <th>price</th>\n",
       "      <th>score</th>\n",
       "      <th>winery</th>\n",
       "      <th>grapes</th>\n",
       "      <th>country</th>\n",
       "      <th>region</th>\n",
       "      <th>alcohol</th>\n",
       "      <th>foods</th>\n",
       "      <th>wine_id</th>\n",
       "      <th>re</th>\n",
       "      <th>rev_alcohol</th>\n",
       "    </tr>\n",
       "  </thead>\n",
       "  <tbody>\n",
       "    <tr>\n",
       "      <th>0</th>\n",
       "      <td>Rim Rock Vineyard Syrah  2017</td>\n",
       "      <td>0.0</td>\n",
       "      <td>0.33</td>\n",
       "      <td>Piedrasassi</td>\n",
       "      <td>Shiraz/Syrah</td>\n",
       "      <td>United States</td>\n",
       "      <td>Arroyo Grande Valley</td>\n",
       "      <td>0.30</td>\n",
       "      <td>['Beef', 'Lamb', 'Game (deer, venison)', 'Poul...</td>\n",
       "      <td>19603399</td>\n",
       "      <td>['Dry tingly cool bottle pairs with seafood ho...</td>\n",
       "      <td>0.70</td>\n",
       "    </tr>\n",
       "    <tr>\n",
       "      <th>1</th>\n",
       "      <td>Tradition Châteauneuf-du-Pape  2015</td>\n",
       "      <td>0.0</td>\n",
       "      <td>0.22</td>\n",
       "      <td>Domaine Giraud</td>\n",
       "      <td>Grenache</td>\n",
       "      <td>France</td>\n",
       "      <td>Châteauneuf-du-Pape</td>\n",
       "      <td>0.30</td>\n",
       "      <td>['Lamb', 'Pork', 'Poultry']</td>\n",
       "      <td>18191466</td>\n",
       "      <td>['Black cherry, oak. Leather, earthy.  Great b...</td>\n",
       "      <td>0.70</td>\n",
       "    </tr>\n",
       "    <tr>\n",
       "      <th>2</th>\n",
       "      <td>Estate Cabernet Sauvignon  2013</td>\n",
       "      <td>0.0</td>\n",
       "      <td>0.33</td>\n",
       "      <td>Brandlin</td>\n",
       "      <td>Cabernet Sauvignon</td>\n",
       "      <td>United States</td>\n",
       "      <td>Mount Veeder</td>\n",
       "      <td>0.30</td>\n",
       "      <td>['Beef', 'Lamb', 'Game (deer, venison)', 'Matu...</td>\n",
       "      <td>13886692</td>\n",
       "      <td>['Wine walk favorite!  This estate cab is fant...</td>\n",
       "      <td>0.70</td>\n",
       "    </tr>\n",
       "    <tr>\n",
       "      <th>3</th>\n",
       "      <td>Imperio LXXIV Primitivo di Manduria  2018</td>\n",
       "      <td>0.0</td>\n",
       "      <td>0.22</td>\n",
       "      <td>Feudo Croce</td>\n",
       "      <td>Primitivo</td>\n",
       "      <td>Italy</td>\n",
       "      <td>Primitivo di Manduria</td>\n",
       "      <td>0.32</td>\n",
       "      <td>['Beef', 'Pasta', 'Lamb', 'Poultry']</td>\n",
       "      <td>25311528</td>\n",
       "      <td>['Plum, fig, pepper, cherry. ', 'Lots of dark ...</td>\n",
       "      <td>0.68</td>\n",
       "    </tr>\n",
       "    <tr>\n",
       "      <th>4</th>\n",
       "      <td>Corte di Cama Sforzato di Valtellina  2016</td>\n",
       "      <td>0.0</td>\n",
       "      <td>0.33</td>\n",
       "      <td>Mamete Prevostini</td>\n",
       "      <td>Nebbiolo</td>\n",
       "      <td>Italy</td>\n",
       "      <td>Sforzato della Valtellina</td>\n",
       "      <td>0.30</td>\n",
       "      <td>['Beef', 'Lamb', 'Game (deer, venison)', 'Poul...</td>\n",
       "      <td>25588649</td>\n",
       "      <td>['A bit of a disappointment honestly. Have rea...</td>\n",
       "      <td>0.70</td>\n",
       "    </tr>\n",
       "  </tbody>\n",
       "</table>\n",
       "</div>"
      ],
      "text/plain": [
       "                                         name  price  score  \\\n",
       "0               Rim Rock Vineyard Syrah  2017    0.0   0.33   \n",
       "1         Tradition Châteauneuf-du-Pape  2015    0.0   0.22   \n",
       "2             Estate Cabernet Sauvignon  2013    0.0   0.33   \n",
       "3   Imperio LXXIV Primitivo di Manduria  2018    0.0   0.22   \n",
       "4  Corte di Cama Sforzato di Valtellina  2016    0.0   0.33   \n",
       "\n",
       "              winery              grapes        country  \\\n",
       "0        Piedrasassi        Shiraz/Syrah  United States   \n",
       "1     Domaine Giraud            Grenache         France   \n",
       "2           Brandlin  Cabernet Sauvignon  United States   \n",
       "3        Feudo Croce           Primitivo          Italy   \n",
       "4  Mamete Prevostini            Nebbiolo          Italy   \n",
       "\n",
       "                      region  alcohol  \\\n",
       "0       Arroyo Grande Valley     0.30   \n",
       "1        Châteauneuf-du-Pape     0.30   \n",
       "2               Mount Veeder     0.30   \n",
       "3      Primitivo di Manduria     0.32   \n",
       "4  Sforzato della Valtellina     0.30   \n",
       "\n",
       "                                               foods   wine_id  \\\n",
       "0  ['Beef', 'Lamb', 'Game (deer, venison)', 'Poul...  19603399   \n",
       "1                        ['Lamb', 'Pork', 'Poultry']  18191466   \n",
       "2  ['Beef', 'Lamb', 'Game (deer, venison)', 'Matu...  13886692   \n",
       "3               ['Beef', 'Pasta', 'Lamb', 'Poultry']  25311528   \n",
       "4  ['Beef', 'Lamb', 'Game (deer, venison)', 'Poul...  25588649   \n",
       "\n",
       "                                                  re  rev_alcohol  \n",
       "0  ['Dry tingly cool bottle pairs with seafood ho...         0.70  \n",
       "1  ['Black cherry, oak. Leather, earthy.  Great b...         0.70  \n",
       "2  ['Wine walk favorite!  This estate cab is fant...         0.70  \n",
       "3  ['Plum, fig, pepper, cherry. ', 'Lots of dark ...         0.68  \n",
       "4  ['A bit of a disappointment honestly. Have rea...         0.70  "
      ]
     },
     "execution_count": 143,
     "metadata": {},
     "output_type": "execute_result"
    }
   ],
   "source": [
    "wine_df.head()"
   ]
  },
  {
   "cell_type": "code",
   "execution_count": 144,
   "metadata": {},
   "outputs": [],
   "source": [
    "# for i in range(0,len(wine_df)):\n",
    "\n",
    "#     if list in wine_df['foods'][i]:\n",
    "#         wine_df['foods'][i] = wine_df['foods'][i].replace('Game (deer, venison)', 'Game')\n",
    "#         wine_df['foods'][i] = wine_df['foods'][i].replace(',',\" \")\n",
    "#     else:\n",
    "        \n",
    "#     food_name = wine_df['foods'][i]\n",
    "#     wine_df['foods'][i] = re.sub('[^a-zA-Z]','', str(food_name))\n",
    "#     wine_df['foods'][i] = wine_df['foods'][i].split(\"X\")"
   ]
  },
  {
   "cell_type": "code",
   "execution_count": 30,
   "metadata": {},
   "outputs": [
    {
     "ename": "TypeError",
     "evalue": "'float' object is not iterable",
     "output_type": "error",
     "traceback": [
      "\u001b[1;31m---------------------------------------------------------------------------\u001b[0m",
      "\u001b[1;31mTypeError\u001b[0m                                 Traceback (most recent call last)",
      "\u001b[1;32m<ipython-input-30-9f37e2a75a5b>\u001b[0m in \u001b[0;36m<module>\u001b[1;34m\u001b[0m\n\u001b[0;32m      2\u001b[0m \u001b[0mfood_index\u001b[0m \u001b[1;33m=\u001b[0m \u001b[1;33m{\u001b[0m\u001b[1;33m}\u001b[0m\u001b[1;33m\u001b[0m\u001b[1;33m\u001b[0m\u001b[0m\n\u001b[0;32m      3\u001b[0m \u001b[1;32mfor\u001b[0m \u001b[0mi\u001b[0m \u001b[1;32min\u001b[0m \u001b[0mrange\u001b[0m\u001b[1;33m(\u001b[0m\u001b[1;36m0\u001b[0m\u001b[1;33m,\u001b[0m\u001b[0mlen\u001b[0m\u001b[1;33m(\u001b[0m\u001b[0mwine_df\u001b[0m\u001b[1;33m[\u001b[0m\u001b[1;34m'foods'\u001b[0m\u001b[1;33m]\u001b[0m\u001b[1;33m)\u001b[0m\u001b[1;33m)\u001b[0m\u001b[1;33m:\u001b[0m\u001b[1;33m\u001b[0m\u001b[1;33m\u001b[0m\u001b[0m\n\u001b[1;32m----> 4\u001b[1;33m     \u001b[1;32mfor\u001b[0m \u001b[0mfood\u001b[0m \u001b[1;32min\u001b[0m \u001b[0mwine_df\u001b[0m\u001b[1;33m[\u001b[0m\u001b[1;34m'foods'\u001b[0m\u001b[1;33m]\u001b[0m\u001b[1;33m[\u001b[0m\u001b[0mi\u001b[0m\u001b[1;33m]\u001b[0m\u001b[1;33m:\u001b[0m\u001b[1;33m\u001b[0m\u001b[1;33m\u001b[0m\u001b[0m\n\u001b[0m\u001b[0;32m      5\u001b[0m       \u001b[1;32mif\u001b[0m \u001b[0mfood\u001b[0m \u001b[1;32mnot\u001b[0m \u001b[1;32min\u001b[0m \u001b[0mfood_index\u001b[0m\u001b[1;33m.\u001b[0m\u001b[0mkeys\u001b[0m\u001b[1;33m(\u001b[0m\u001b[1;33m)\u001b[0m\u001b[1;33m:\u001b[0m\u001b[1;33m\u001b[0m\u001b[1;33m\u001b[0m\u001b[0m\n\u001b[0;32m      6\u001b[0m         \u001b[0mfood_index\u001b[0m\u001b[1;33m[\u001b[0m\u001b[0mfood\u001b[0m\u001b[1;33m]\u001b[0m \u001b[1;33m=\u001b[0m \u001b[0mlen\u001b[0m\u001b[1;33m(\u001b[0m\u001b[0mfood_index\u001b[0m\u001b[1;33m)\u001b[0m\u001b[1;33m\u001b[0m\u001b[1;33m\u001b[0m\u001b[0m\n",
      "\u001b[1;31mTypeError\u001b[0m: 'float' object is not iterable"
     ]
    }
   ],
   "source": [
    "# #food종류 확인\n",
    "# food_index = {}\n",
    "# for i in range(0,len(wine_df['foods'])):\n",
    "#     for food in wine_df['foods'][i]:\n",
    "#       if food not in food_index.keys():\n",
    "#         food_index[food] = len(food_index)\n",
    "# print(food_index)"
   ]
  },
  {
   "cell_type": "code",
   "execution_count": null,
   "metadata": {},
   "outputs": [],
   "source": []
  },
  {
   "cell_type": "markdown",
   "metadata": {},
   "source": [
    "리뷰데이터 분석"
   ]
  }
 ],
 "metadata": {
  "kernelspec": {
   "display_name": "Python 3",
   "language": "python",
   "name": "python3"
  },
  "language_info": {
   "codemirror_mode": {
    "name": "ipython",
    "version": 3
   },
   "file_extension": ".py",
   "mimetype": "text/x-python",
   "name": "python",
   "nbconvert_exporter": "python",
   "pygments_lexer": "ipython3",
   "version": "3.7.3"
  }
 },
 "nbformat": 4,
 "nbformat_minor": 2
}
