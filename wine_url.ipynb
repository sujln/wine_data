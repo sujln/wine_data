{
 "cells": [
  {
   "cell_type": "code",
   "execution_count": 1,
   "metadata": {},
   "outputs": [],
   "source": [
    "import pandas as pd\n",
    "\n",
    "import time\n",
    "import datetime \n",
    "from dateutil import rrule\n",
    "\n",
    "from bs4 import BeautifulSoup\n",
    "from selenium import webdriver\n",
    "from urllib.request import urlopen"
   ]
  },
  {
   "cell_type": "code",
   "execution_count": 56,
   "metadata": {},
   "outputs": [],
   "source": [
    "import requests"
   ]
  },
  {
   "cell_type": "markdown",
   "metadata": {},
   "source": [
    "# URL 뽑기"
   ]
  },
  {
   "cell_type": "code",
   "execution_count": 5,
   "metadata": {},
   "outputs": [],
   "source": [
    "url = 'https://www.vivino.com/explore?e=eJzLLbI1VMvNzLM1UMtNrLA1NTBQS660DQ1WSwYSLmoFQNn0NNuyxKLM1JLEHLX8ohRbtfykSlu18pLoWKAkmDKCUMZQngmENodQJmrFts6OALndIMI%3D'"
   ]
  },
  {
   "cell_type": "code",
   "execution_count": 27,
   "metadata": {},
   "outputs": [],
   "source": [
    "url = 'https://www.vivino.com/US-CA/en/gitana-lupi-rezerva/w/1468452?year=2016&price_id=23484005'"
   ]
  },
  {
   "cell_type": "code",
   "execution_count": 48,
   "metadata": {},
   "outputs": [],
   "source": [
    "driver = webdriver.Chrome(executable_path='(driver) chromedriver.exe') # (driver) chromedriver.exe 파일이 함께 있어야 합니다.\n",
    "\n",
    "#web_page = BeautifulSoup(web, 'html.parser')"
   ]
  },
  {
   "cell_type": "code",
   "execution_count": 29,
   "metadata": {},
   "outputs": [],
   "source": [
    "# driver.get(url) \n",
    "# time.sleep(3)\n",
    "\n",
    "#driver.get(\"https://www.vivino.com/US-CA/en\")\n",
    "driver.get(url)\n",
    "#driver.get(\"https://www.vivino.com/explore?e=eJzLLbI1VMvNzLM1UMtNrLA1NTBQS660DQ1WSwYSLmoFQNn0NNuyxKLM1JLEHLX8ohRbtfykSlu18pLoWKAkmDKCUMYQygRCmUPlTNSKbZ0dAbuYIMI%3D\")"
   ]
  },
  {
   "cell_type": "code",
   "execution_count": null,
   "metadata": {},
   "outputs": [],
   "source": []
  },
  {
   "cell_type": "code",
   "execution_count": 86,
   "metadata": {},
   "outputs": [],
   "source": [
    "scroll_pause_time = 2"
   ]
  },
  {
   "cell_type": "code",
   "execution_count": 14,
   "metadata": {},
   "outputs": [],
   "source": [
    "# last_height = driver.execute_script(\"return document.body.scrollHeight\")\n",
    "\n",
    "# while True:\n",
    "#     # 끝까지 스크롤 다운\n",
    "#     driver.execute_script(\"window.scrollTo(0, document.body.scrollHeight);\")\n",
    "\n",
    "#     # 1초 대기\n",
    "#     time.sleep(scroll_pause_time )\n",
    "\n",
    "#     # 스크롤 다운 후 스크롤 높이 다시 가져옴\n",
    "#     new_height = driver.execute_script(\"return document.body.scrollHeight\")\n",
    "#     if new_height == last_height:\n",
    "#         break\n",
    "#     last_height = new_height\n"
   ]
  },
  {
   "cell_type": "code",
   "execution_count": 8,
   "metadata": {},
   "outputs": [],
   "source": [
    "web = driver.page_source \n",
    "source = BeautifulSoup(web, 'html.parser')"
   ]
  },
  {
   "cell_type": "code",
   "execution_count": 9,
   "metadata": {},
   "outputs": [],
   "source": [
    "url_list = source.find_all('a', {'class':'anchor__anchor--3DOSm wineCard__cardLink--3F_uB'})"
   ]
  },
  {
   "cell_type": "code",
   "execution_count": 10,
   "metadata": {},
   "outputs": [
    {
     "data": {
      "text/plain": [
       "25"
      ]
     },
     "execution_count": 10,
     "metadata": {},
     "output_type": "execute_result"
    }
   ],
   "source": [
    "len(url_list)"
   ]
  },
  {
   "cell_type": "code",
   "execution_count": 11,
   "metadata": {},
   "outputs": [],
   "source": []
  },
  {
   "cell_type": "code",
   "execution_count": 12,
   "metadata": {},
   "outputs": [
    {
     "data": {
      "text/plain": [
       "'/gitana-lupi-rezerva/w/1468452?year=2016&price_id=23484005'"
      ]
     },
     "execution_count": 12,
     "metadata": {},
     "output_type": "execute_result"
    }
   ],
   "source": [
    "url_list[0]['href']"
   ]
  },
  {
   "cell_type": "code",
   "execution_count": 17,
   "metadata": {},
   "outputs": [
    {
     "data": {
      "text/plain": [
       "['https://www.vivino.com/US-CA/en/gitana-lupi-rezerva/w/1468452?year=2016&price_id=23484005',\n",
       " 'https://www.vivino.com/US-CA/en/gitana-saperavi/w/3783366?year=2018&price_id=23484006',\n",
       " 'https://www.vivino.com/US-CA/en/crama-ferdi-lady-black-editie-limitata/w/7633874?year=2019&price_id=24558178',\n",
       " 'https://www.vivino.com/US-CA/en/crama-ferdi-red-king-rezerva/w/8100038?year=2018&price_id=23540112',\n",
       " 'https://www.vivino.com/US-CA/en/toms-postigo-three-er-ano-ribera-del-duero-tinto/w/1187752?year=2017&price_id=19301345',\n",
       " 'https://www.vivino.com/US-CA/en/abadia-retuerta-seleccion-especial-sardon-de-duero/w/2388758?year=2017&price_id=25659888',\n",
       " 'https://www.vivino.com/US-CA/en/luis-canas-reserva-seleccion-de-la-familia/w/1994535?year=2016&price_id=23619933',\n",
       " 'https://www.vivino.com/US-CA/en/atalaya-almansa-alaya-tierra-old-vines-vieilles-vignes-almansa/w/3772025?year=2019&price_id=26520416',\n",
       " 'https://www.vivino.com/US-CA/en/la-rioja-alta-vina-ardanza-reserva/w/7973?year=2015&price_id=25829506',\n",
       " 'https://www.vivino.com/US-CA/en/saint-clair-wairau-reserve-sauvignon-blanc/w/1147263?year=2020&price_id=23677675',\n",
       " 'https://www.vivino.com/US-CA/en/quinta-do-crasto-crasto-superior-syrah/w/4656426?year=2018&price_id=23982314',\n",
       " 'https://www.vivino.com/US-CA/en/hernando-y-sourdais-la-hormiga-de-antidoto/w/2707214?year=2019&price_id=24938637',\n",
       " 'https://www.vivino.com/US-CA/en/etienne-et-sebastien-riffault-akmenine-sancerre/w/1211354?year=2017&price_id=26520383',\n",
       " 'https://www.vivino.com/US-CA/en/dominio-do-bibei-lapola/w/1147593?year=2019&price_id=25608803',\n",
       " 'https://www.vivino.com/US-CA/en/mount-edward-pinot-noir/w/1162931?year=2018&price_id=23300549',\n",
       " 'https://www.vivino.com/US-CA/en/barranco-oscuro-thirteen-sixtyeight-cerro-las-monjas/w/1215868?year=2003&price_id=21251322',\n",
       " 'https://www.vivino.com/US-CA/en/maude-pinot-gris/w/1923102?year=2019&price_id=21839616',\n",
       " 'https://www.vivino.com/US-CA/en/jorge-ordonez-and-co-no-2-victoria/w/1285845?year=2018&price_id=24404115',\n",
       " 'https://www.vivino.com/US-CA/en/la-rioja-alta-vina-ardanza-reserva/w/7973?year=2012&price_id=13955899',\n",
       " 'https://www.vivino.com/US-CA/en/bodegas-arzuaga-navarro-sl-ribera-del-duero-crianza/w/7932?year=2018&price_id=24468246',\n",
       " 'https://www.vivino.com/US-CA/en/muga-seleccion-especial-reserva/w/7493?year=2016&price_id=23758645',\n",
       " 'https://www.vivino.com/US-CA/en/pago-de-los-capellanes-crianza-tinto/w/16226?year=2018&price_id=24468225',\n",
       " 'https://www.vivino.com/US-CA/en/bosque-de-matasnos-bosque-de-matasnos-etiqueta-blanca/w/1220886?year=2018&price_id=23316777',\n",
       " 'https://www.vivino.com/US-CA/en/jean-foillard-morgon-cote-du-py/w/1105335?year=2019&price_id=24534890',\n",
       " 'https://www.vivino.com/US-CA/en/la-rioja-alta-vina-arana-gran-reserva-rioja/w/7311113?year=2014&price_id=23452618']"
      ]
     },
     "execution_count": 17,
     "metadata": {},
     "output_type": "execute_result"
    }
   ],
   "source": [
    "wine_url=[]\n",
    "for i in range(len(url_list)):\n",
    "    wine_url.append('https://www.vivino.com/US-CA/en' + url_list[i]['href'])\n",
    "wine_url"
   ]
  },
  {
   "cell_type": "markdown",
   "metadata": {},
   "source": [
    "# 와인 정보 뽑기"
   ]
  },
  {
   "cell_type": "code",
   "execution_count": 123,
   "metadata": {},
   "outputs": [],
   "source": [
    "headers = {'User-Agent': 'Mozilla/5.0'} "
   ]
  },
  {
   "cell_type": "code",
   "execution_count": 597,
   "metadata": {},
   "outputs": [],
   "source": [
    "num=0"
   ]
  },
  {
   "cell_type": "code",
   "execution_count": 640,
   "metadata": {},
   "outputs": [
    {
     "name": "stdout",
     "output_type": "stream",
     "text": [
      "1\n",
      "2\n",
      "3\n",
      "4\n",
      "5\n",
      "6\n",
      "7\n",
      "8\n",
      "9\n",
      "10\n",
      "11\n",
      "12\n",
      "13\n",
      "14\n",
      "15\n",
      "16\n",
      "17\n",
      "18\n",
      "19\n",
      "20\n",
      "21\n",
      "22\n",
      "23\n",
      "24\n",
      "25\n"
     ]
    }
   ],
   "source": [
    "name = []\n",
    "#price =[]\n",
    "score=[]\n",
    "winery = []\n",
    "grapes=[]\n",
    "country=[]\n",
    "region=[]\n",
    "#wine_style=[]  => 데이터 뽑을 때 \n",
    "alcohol=[]\n",
    "# allergens=[]\n",
    "# light_bold=[]\n",
    "# smooth_tannic=[]\n",
    "# dry_sweet=[]\n",
    "# soft_acidic=[]\n",
    "notes=[]\n",
    "foods=[]\n",
    "\n",
    "count = 1\n",
    "\n",
    "for url in wine_url:\n",
    "    web = requests.get(url, headers=headers).content\n",
    "    source = BeautifulSoup(web, 'html.parser')\n",
    "    name.append(source.find('span',{'class':'vintage'}).get_text().replace(\"\\n\",\" \").strip())\n",
    "#     region.append(source.find_all('a',{'class':'anchor__anchor--3DOSm'})[0].get_text()+\"/\"+source.find_all('a',{'class':'anchor__anchor--3DOSm'})[1].get_text())\n",
    "#     winery.append(source.find_all('a',{'class':'anchor__anchor--3DOSm'})[2].get_text())\n",
    "    for idx, script in enumerate(source.find_all('script')):\n",
    "        if 'alcohol' in str(script):\n",
    "            num=idx\n",
    "    data = source.find_all('script')[num]\n",
    "    data = data.get_text()\n",
    "    data = data.split('vintagePageInformation = ')[1].split(';\\n  window.__PRELOADED_STATE__')[0]\n",
    "    data = json.loads(data)\n",
    "    score.append(data['vintage']['statistics']['ratings_average'])\n",
    "    winery.append(data['vintage']['wine']['winery']['name'])\n",
    "    grapes.append(data['vintage']['wine']['grapes'][0]['name'])\n",
    "    country.append(data['vintage']['wine']['region']['country']['name'])\n",
    "    region.append(data['vintage']['wine']['region']['name'])\n",
    "    if data['vintage']['wine_facts']!={}:        \n",
    "        alcohol.append(data['vintage']['wine_facts']['alcohol'])\n",
    "    else:\n",
    "        alcohol.append(\"\")\n",
    "    food = []    \n",
    "    if 'foods' in str(data['vintage']['wine']):\n",
    "        for i in range(len(data['vintage']['wine']['foods'])):\n",
    "            food.append(data['vintage']['wine']['foods'][i]['name'])\n",
    "        foods.append(food)\n",
    "    else:\n",
    "        foods.append(\"\")\n",
    "        \n",
    "    \n",
    "    print(count)\n",
    "    count+=1"
   ]
  },
  {
   "cell_type": "code",
   "execution_count": 620,
   "metadata": {},
   "outputs": [
    {
     "data": {
      "text/plain": [
       "[['Beef', 'Lamb', 'Game (deer, venison)', 'Spicy food', 'Poultry']]"
      ]
     },
     "execution_count": 620,
     "metadata": {},
     "output_type": "execute_result"
    }
   ],
   "source": [
    "foods"
   ]
  },
  {
   "cell_type": "code",
   "execution_count": 643,
   "metadata": {},
   "outputs": [],
   "source": [
    "wine_df= pd.DataFrame({'name':name,\n",
    "                       'score':score,\n",
    "                       'winery':winery,\n",
    "                       'country':country,\n",
    "                       'region':region,\n",
    "                       'alcohol':alcohol,\n",
    "                       'foods':foods\n",
    "                       })"
   ]
  },
  {
   "cell_type": "code",
   "execution_count": 645,
   "metadata": {
    "scrolled": false
   },
   "outputs": [
    {
     "data": {
      "text/html": [
       "<div>\n",
       "<style scoped>\n",
       "    .dataframe tbody tr th:only-of-type {\n",
       "        vertical-align: middle;\n",
       "    }\n",
       "\n",
       "    .dataframe tbody tr th {\n",
       "        vertical-align: top;\n",
       "    }\n",
       "\n",
       "    .dataframe thead th {\n",
       "        text-align: right;\n",
       "    }\n",
       "</style>\n",
       "<table border=\"1\" class=\"dataframe\">\n",
       "  <thead>\n",
       "    <tr style=\"text-align: right;\">\n",
       "      <th></th>\n",
       "      <th>name</th>\n",
       "      <th>score</th>\n",
       "      <th>winery</th>\n",
       "      <th>country</th>\n",
       "      <th>region</th>\n",
       "      <th>alcohol</th>\n",
       "      <th>foods</th>\n",
       "    </tr>\n",
       "  </thead>\n",
       "  <tbody>\n",
       "    <tr>\n",
       "      <th>0</th>\n",
       "      <td>Lupi Rezerva  2016</td>\n",
       "      <td>4.5</td>\n",
       "      <td>Gitana</td>\n",
       "      <td>Moldova</td>\n",
       "      <td>Moldova</td>\n",
       "      <td>14.5</td>\n",
       "      <td>[Beef, Lamb, Game (deer, venison), Spicy food,...</td>\n",
       "    </tr>\n",
       "    <tr>\n",
       "      <th>1</th>\n",
       "      <td>Saperavi  2018</td>\n",
       "      <td>4.5</td>\n",
       "      <td>Gitana</td>\n",
       "      <td>Moldova</td>\n",
       "      <td>Moldova</td>\n",
       "      <td>14</td>\n",
       "      <td></td>\n",
       "    </tr>\n",
       "    <tr>\n",
       "      <th>2</th>\n",
       "      <td>Lady Black Ediție Limitată  2019</td>\n",
       "      <td>4.5</td>\n",
       "      <td>Crama Ferdi</td>\n",
       "      <td>Romania</td>\n",
       "      <td>Dealu Mare</td>\n",
       "      <td></td>\n",
       "      <td></td>\n",
       "    </tr>\n",
       "    <tr>\n",
       "      <th>3</th>\n",
       "      <td>Red King Rezerva  2018</td>\n",
       "      <td>4.5</td>\n",
       "      <td>Crama Ferdi</td>\n",
       "      <td>Romania</td>\n",
       "      <td>Dealu Mare</td>\n",
       "      <td></td>\n",
       "      <td>[Beef, Lamb, Spicy food, Poultry]</td>\n",
       "    </tr>\n",
       "    <tr>\n",
       "      <th>4</th>\n",
       "      <td>3er Año Ribera del Duero Tinto  2017</td>\n",
       "      <td>4.4</td>\n",
       "      <td>Tomás Postigo</td>\n",
       "      <td>Spain</td>\n",
       "      <td>Ribera del Duero</td>\n",
       "      <td>15</td>\n",
       "      <td>[Beef, Lamb, Game (deer, venison)]</td>\n",
       "    </tr>\n",
       "    <tr>\n",
       "      <th>5</th>\n",
       "      <td>Selección Especial  2017</td>\n",
       "      <td>4.4</td>\n",
       "      <td>Abadía Retuerta</td>\n",
       "      <td>Spain</td>\n",
       "      <td>Sardón de Duero</td>\n",
       "      <td>14.5</td>\n",
       "      <td>[Beef, Pasta, Veal, Poultry]</td>\n",
       "    </tr>\n",
       "    <tr>\n",
       "      <th>6</th>\n",
       "      <td>Reserva Selección de la Familia  2016</td>\n",
       "      <td>4.4</td>\n",
       "      <td>Luis Cañas</td>\n",
       "      <td>Spain</td>\n",
       "      <td>Rioja</td>\n",
       "      <td>14.5</td>\n",
       "      <td>[Beef, Lamb, Veal, Poultry]</td>\n",
       "    </tr>\n",
       "    <tr>\n",
       "      <th>7</th>\n",
       "      <td>Alaya Tierra (Old Vines Vieilles Vignes)  2019</td>\n",
       "      <td>4.4</td>\n",
       "      <td>Atalaya</td>\n",
       "      <td>Spain</td>\n",
       "      <td>Almansa</td>\n",
       "      <td>15.5</td>\n",
       "      <td>[Beef, Pasta, Lamb, Game (deer, venison), Poul...</td>\n",
       "    </tr>\n",
       "    <tr>\n",
       "      <th>8</th>\n",
       "      <td>Viña Ardanza Reserva  2015</td>\n",
       "      <td>4.4</td>\n",
       "      <td>La Rioja Alta</td>\n",
       "      <td>Spain</td>\n",
       "      <td>Rioja</td>\n",
       "      <td>14.5</td>\n",
       "      <td>[Beef, Lamb, Veal, Poultry]</td>\n",
       "    </tr>\n",
       "    <tr>\n",
       "      <th>9</th>\n",
       "      <td>Wairau Reserve Sauvignon Blanc  2020</td>\n",
       "      <td>4.4</td>\n",
       "      <td>Saint Clair</td>\n",
       "      <td>New Zealand</td>\n",
       "      <td>Marlborough</td>\n",
       "      <td>13</td>\n",
       "      <td>[Shellfish, Vegetarian, Goat cheese]</td>\n",
       "    </tr>\n",
       "  </tbody>\n",
       "</table>\n",
       "</div>"
      ],
      "text/plain": [
       "                                             name  score           winery  \\\n",
       "0                              Lupi Rezerva  2016    4.5           Gitana   \n",
       "1                                  Saperavi  2018    4.5           Gitana   \n",
       "2                Lady Black Ediție Limitată  2019    4.5      Crama Ferdi   \n",
       "3                          Red King Rezerva  2018    4.5      Crama Ferdi   \n",
       "4            3er Año Ribera del Duero Tinto  2017    4.4    Tomás Postigo   \n",
       "5                        Selección Especial  2017    4.4  Abadía Retuerta   \n",
       "6           Reserva Selección de la Familia  2016    4.4       Luis Cañas   \n",
       "7  Alaya Tierra (Old Vines Vieilles Vignes)  2019    4.4          Atalaya   \n",
       "8                      Viña Ardanza Reserva  2015    4.4    La Rioja Alta   \n",
       "9            Wairau Reserve Sauvignon Blanc  2020    4.4      Saint Clair   \n",
       "\n",
       "       country            region alcohol  \\\n",
       "0      Moldova           Moldova    14.5   \n",
       "1      Moldova           Moldova      14   \n",
       "2      Romania        Dealu Mare           \n",
       "3      Romania        Dealu Mare           \n",
       "4        Spain  Ribera del Duero      15   \n",
       "5        Spain   Sardón de Duero    14.5   \n",
       "6        Spain             Rioja    14.5   \n",
       "7        Spain           Almansa    15.5   \n",
       "8        Spain             Rioja    14.5   \n",
       "9  New Zealand       Marlborough      13   \n",
       "\n",
       "                                               foods  \n",
       "0  [Beef, Lamb, Game (deer, venison), Spicy food,...  \n",
       "1                                                     \n",
       "2                                                     \n",
       "3                  [Beef, Lamb, Spicy food, Poultry]  \n",
       "4                 [Beef, Lamb, Game (deer, venison)]  \n",
       "5                       [Beef, Pasta, Veal, Poultry]  \n",
       "6                        [Beef, Lamb, Veal, Poultry]  \n",
       "7  [Beef, Pasta, Lamb, Game (deer, venison), Poul...  \n",
       "8                        [Beef, Lamb, Veal, Poultry]  \n",
       "9               [Shellfish, Vegetarian, Goat cheese]  "
      ]
     },
     "execution_count": 645,
     "metadata": {},
     "output_type": "execute_result"
    }
   ],
   "source": [
    "wine_df.head(10)"
   ]
  },
  {
   "cell_type": "code",
   "execution_count": 647,
   "metadata": {},
   "outputs": [],
   "source": [
    "wine_df.to_csv(\"wine_c.csv\")"
   ]
  },
  {
   "cell_type": "code",
   "execution_count": null,
   "metadata": {},
   "outputs": [],
   "source": []
  },
  {
   "cell_type": "code",
   "execution_count": null,
   "metadata": {},
   "outputs": [],
   "source": []
  },
  {
   "cell_type": "code",
   "execution_count": null,
   "metadata": {},
   "outputs": [],
   "source": []
  },
  {
   "cell_type": "code",
   "execution_count": null,
   "metadata": {},
   "outputs": [],
   "source": []
  },
  {
   "cell_type": "code",
   "execution_count": null,
   "metadata": {},
   "outputs": [],
   "source": []
  },
  {
   "cell_type": "code",
   "execution_count": null,
   "metadata": {},
   "outputs": [],
   "source": []
  },
  {
   "cell_type": "code",
   "execution_count": null,
   "metadata": {},
   "outputs": [],
   "source": []
  },
  {
   "cell_type": "code",
   "execution_count": null,
   "metadata": {},
   "outputs": [],
   "source": []
  },
  {
   "cell_type": "code",
   "execution_count": null,
   "metadata": {},
   "outputs": [],
   "source": []
  },
  {
   "cell_type": "code",
   "execution_count": 648,
   "metadata": {},
   "outputs": [],
   "source": [
    "#print(source)"
   ]
  },
  {
   "cell_type": "code",
   "execution_count": 626,
   "metadata": {},
   "outputs": [
    {
     "data": {
      "text/plain": [
       "'https://www.vivino.com/US-CA/en/gitana-saperavi/w/3783366?year=2018&price_id=23484006'"
      ]
     },
     "execution_count": 626,
     "metadata": {},
     "output_type": "execute_result"
    }
   ],
   "source": [
    "url = wine_url[1]\n",
    "url"
   ]
  },
  {
   "cell_type": "code",
   "execution_count": 587,
   "metadata": {},
   "outputs": [
    {
     "data": {
      "text/plain": [
       "<span class=\"vintage\">\n",
       "<a class=\"wine\" data-cartitemsource=\"wine-page-master-link\" href=\"https://www.vivino.com/US-CA/en/gitana-saperavi/w/3783366\">\n",
       "Saperavi\n",
       "</a>\n",
       "2018\n",
       "</span>"
      ]
     },
     "execution_count": 587,
     "metadata": {},
     "output_type": "execute_result"
    }
   ],
   "source": [
    "source.find('span',{'class':'vintage'})"
   ]
  },
  {
   "cell_type": "code",
   "execution_count": 588,
   "metadata": {},
   "outputs": [
    {
     "ename": "AttributeError",
     "evalue": "'NoneType' object has no attribute 'get_text'",
     "output_type": "error",
     "traceback": [
      "\u001b[1;31m---------------------------------------------------------------------------\u001b[0m",
      "\u001b[1;31mAttributeError\u001b[0m                            Traceback (most recent call last)",
      "\u001b[1;32m<ipython-input-588-c82c0d4f46d1>\u001b[0m in \u001b[0;36m<module>\u001b[1;34m\u001b[0m\n\u001b[1;32m----> 1\u001b[1;33m \u001b[0msource\u001b[0m\u001b[1;33m.\u001b[0m\u001b[0mfind\u001b[0m\u001b[1;33m(\u001b[0m\u001b[1;34m'span'\u001b[0m\u001b[1;33m,\u001b[0m\u001b[1;33m{\u001b[0m\u001b[1;34m'class'\u001b[0m\u001b[1;33m:\u001b[0m\u001b[1;34m'anchor__anchor--3DOSm breadCrumbs__link--1TY6bindicatorBar__progress--3aXLX'\u001b[0m\u001b[1;33m}\u001b[0m\u001b[1;33m)\u001b[0m\u001b[1;33m.\u001b[0m\u001b[0mget_text\u001b[0m\u001b[1;33m(\u001b[0m\u001b[1;33m)\u001b[0m\u001b[1;33m\u001b[0m\u001b[1;33m\u001b[0m\u001b[0m\n\u001b[0m",
      "\u001b[1;31mAttributeError\u001b[0m: 'NoneType' object has no attribute 'get_text'"
     ]
    }
   ],
   "source": [
    "source.find('span',{'class':'anchor__anchor--3DOSm breadCrumbs__link--1TY6bindicatorBar__progress--3aXLX'}).get_text()"
   ]
  },
  {
   "cell_type": "code",
   "execution_count": 627,
   "metadata": {},
   "outputs": [],
   "source": [
    "headers = {'User-Agent': 'Mozilla/5.0'} "
   ]
  },
  {
   "cell_type": "code",
   "execution_count": 628,
   "metadata": {},
   "outputs": [],
   "source": [
    "web = requests.get(url, headers=headers).content\n",
    "source = BeautifulSoup(web, 'html.parser')"
   ]
  },
  {
   "cell_type": "code",
   "execution_count": 557,
   "metadata": {},
   "outputs": [
    {
     "data": {
      "text/plain": [
       "28"
      ]
     },
     "execution_count": 557,
     "metadata": {},
     "output_type": "execute_result"
    }
   ],
   "source": [
    "len(source.find_all('script'))"
   ]
  },
  {
   "cell_type": "code",
   "execution_count": 629,
   "metadata": {},
   "outputs": [],
   "source": [
    "for idx, script in enumerate(source.find_all('script')):\n",
    "    if 'Beef' in str(script):\n",
    "        num=idx"
   ]
  },
  {
   "cell_type": "code",
   "execution_count": 630,
   "metadata": {},
   "outputs": [
    {
     "data": {
      "text/plain": [
       "10"
      ]
     },
     "execution_count": 630,
     "metadata": {},
     "output_type": "execute_result"
    }
   ],
   "source": [
    "num"
   ]
  },
  {
   "cell_type": "code",
   "execution_count": 631,
   "metadata": {},
   "outputs": [],
   "source": [
    "import json"
   ]
  },
  {
   "cell_type": "code",
   "execution_count": 632,
   "metadata": {},
   "outputs": [],
   "source": [
    "data = source.find_all('script')[num]\n",
    "data = data.get_text()\n",
    "data = data.split('vintagePageInformation = ')[1].split(';\\n  window.__PRELOADED_STATE__')[0]\n",
    "\n",
    "data = json.loads(data)"
   ]
  },
  {
   "cell_type": "code",
   "execution_count": 562,
   "metadata": {},
   "outputs": [
    {
     "data": {
      "text/plain": [
       "'Cabernet Sauvignon'"
      ]
     },
     "execution_count": 562,
     "metadata": {},
     "output_type": "execute_result"
    }
   ],
   "source": [
    "data['vintage']['wine']['grapes'][0]['name']"
   ]
  },
  {
   "cell_type": "code",
   "execution_count": 563,
   "metadata": {},
   "outputs": [
    {
     "data": {
      "text/plain": [
       "'Moldova'"
      ]
     },
     "execution_count": 563,
     "metadata": {},
     "output_type": "execute_result"
    }
   ],
   "source": [
    "data['vintage']['wine']['region']['name']"
   ]
  },
  {
   "cell_type": "code",
   "execution_count": 564,
   "metadata": {},
   "outputs": [
    {
     "data": {
      "text/plain": [
       "'Moldova'"
      ]
     },
     "execution_count": 564,
     "metadata": {},
     "output_type": "execute_result"
    }
   ],
   "source": [
    "data['vintage']['wine']['region']['country']['name']"
   ]
  },
  {
   "cell_type": "code",
   "execution_count": 565,
   "metadata": {},
   "outputs": [
    {
     "data": {
      "text/plain": [
       "14.5"
      ]
     },
     "execution_count": 565,
     "metadata": {},
     "output_type": "execute_result"
    }
   ],
   "source": [
    "data['vintage']['wine_facts']['alcohol']"
   ]
  },
  {
   "cell_type": "code",
   "execution_count": 566,
   "metadata": {},
   "outputs": [
    {
     "data": {
      "text/plain": [
       "4.5"
      ]
     },
     "execution_count": 566,
     "metadata": {},
     "output_type": "execute_result"
    }
   ],
   "source": [
    "data['vintage']['statistics']['ratings_average']"
   ]
  },
  {
   "cell_type": "code",
   "execution_count": 636,
   "metadata": {},
   "outputs": [
    {
     "data": {
      "text/plain": [
       "{'id': 3783366,\n",
       " 'name': 'Saperavi',\n",
       " 'seo_name': 'saperavi',\n",
       " 'type_id': 1,\n",
       " 'vintage_type': 0,\n",
       " 'is_natural': False,\n",
       " 'region': {'id': 1437,\n",
       "  'name': 'Moldova',\n",
       "  'name_en': '',\n",
       "  'seo_name': 'md-moldova',\n",
       "  'country': {'code': 'md',\n",
       "   'name': 'Moldova',\n",
       "   'native_name': 'Moldova',\n",
       "   'seo_name': 'moldova',\n",
       "   'sponsored': False,\n",
       "   'currency': {'code': 'USD',\n",
       "    'name': 'US Dollars',\n",
       "    'prefix': '$',\n",
       "    'suffix': None},\n",
       "   'regions_count': 5,\n",
       "   'users_count': 10163,\n",
       "   'wines_count': 5340,\n",
       "   'wineries_count': 378,\n",
       "   'most_used_grapes': [{'id': 2,\n",
       "     'name': 'Cabernet Sauvignon',\n",
       "     'seo_name': 'cabernet-sauvignon',\n",
       "     'has_detailed_info': True,\n",
       "     'wines_count': 782676},\n",
       "    {'id': 10,\n",
       "     'name': 'Merlot',\n",
       "     'seo_name': 'merlot',\n",
       "     'has_detailed_info': True,\n",
       "     'wines_count': 552579},\n",
       "    {'id': 5,\n",
       "     'name': 'Chardonnay',\n",
       "     'seo_name': 'chardonnay',\n",
       "     'has_detailed_info': True,\n",
       "     'wines_count': 588307}],\n",
       "   'background_video': None},\n",
       "  'parent_id': None,\n",
       "  'background_image': None,\n",
       "  'statistics': {'wineries_count': 0,\n",
       "   'wines_count': 0,\n",
       "   'sub_regions_count': 0,\n",
       "   'parent_regions_count': 0}},\n",
       " 'review_status': 2,\n",
       " 'winery': {'id': 27224,\n",
       "  'name': 'Gitana',\n",
       "  'seo_name': 'gitana',\n",
       "  'status': 0,\n",
       "  'review_status': 'Completed',\n",
       "  'background_image': None,\n",
       "  'statistics': {'ratings_count': 16437,\n",
       "   'ratings_average': 4.2,\n",
       "   'labels_count': 71861,\n",
       "   'wines_count': 33},\n",
       "  'region': {'id': 1437,\n",
       "   'name': 'Moldova',\n",
       "   'name_en': '',\n",
       "   'seo_name': 'md-moldova',\n",
       "   'country': {'code': 'md',\n",
       "    'name': 'Moldova',\n",
       "    'native_name': 'Moldova',\n",
       "    'seo_name': 'moldova',\n",
       "    'sponsored': False,\n",
       "    'currency': {'code': 'USD',\n",
       "     'name': 'US Dollars',\n",
       "     'prefix': '$',\n",
       "     'suffix': None},\n",
       "    'regions_count': 5,\n",
       "    'users_count': 10163,\n",
       "    'wines_count': 5340,\n",
       "    'wineries_count': 378,\n",
       "    'most_used_grapes': [{'id': 2,\n",
       "      'name': 'Cabernet Sauvignon',\n",
       "      'seo_name': 'cabernet-sauvignon',\n",
       "      'has_detailed_info': True,\n",
       "      'wines_count': 782676},\n",
       "     {'id': 10,\n",
       "      'name': 'Merlot',\n",
       "      'seo_name': 'merlot',\n",
       "      'has_detailed_info': True,\n",
       "      'wines_count': 552579},\n",
       "     {'id': 5,\n",
       "      'name': 'Chardonnay',\n",
       "      'seo_name': 'chardonnay',\n",
       "      'has_detailed_info': True,\n",
       "      'wines_count': 588307}],\n",
       "    'background_video': None},\n",
       "   'parent_id': None,\n",
       "   'background_image': None,\n",
       "   'statistics': {'wineries_count': 0,\n",
       "    'wines_count': 0,\n",
       "    'sub_regions_count': 0,\n",
       "    'parent_regions_count': 0}},\n",
       "  'business_name': 'Gitana Winery',\n",
       "  'description': '',\n",
       "  'specialists_notes': '',\n",
       "  'phone': '40726378000',\n",
       "  'email': 'winery@gitana.md',\n",
       "  'facebook': 'https://www.facebook.com/gitanawinery/',\n",
       "  'instagram': '',\n",
       "  'is_claimed': False,\n",
       "  'twitter': '@gitanamd',\n",
       "  'website': 'http://www.gitana.md/ro/',\n",
       "  'winemaker': None,\n",
       "  'wine_maker': None,\n",
       "  'address': {'title': None,\n",
       "   'name': None,\n",
       "   'street': 'Strada Alexandru Vlahuţă',\n",
       "   'street2': None,\n",
       "   'neighborhood': None,\n",
       "   'city': 'Chișinău',\n",
       "   'zip': None,\n",
       "   'state': None,\n",
       "   'country': {'code': 'md',\n",
       "    'name': 'Moldova',\n",
       "    'native_name': 'Moldova',\n",
       "    'seo_name': 'moldova',\n",
       "    'sponsored': False,\n",
       "    'currency': {'code': 'USD',\n",
       "     'name': 'US Dollars',\n",
       "     'prefix': '$',\n",
       "     'suffix': None},\n",
       "    'regions_count': 5,\n",
       "    'users_count': 10163,\n",
       "    'wines_count': 5340,\n",
       "    'wineries_count': 378,\n",
       "    'most_used_grapes': [{'id': 2,\n",
       "      'name': 'Cabernet Sauvignon',\n",
       "      'seo_name': 'cabernet-sauvignon',\n",
       "      'has_detailed_info': True,\n",
       "      'wines_count': 782676},\n",
       "     {'id': 10,\n",
       "      'name': 'Merlot',\n",
       "      'seo_name': 'merlot',\n",
       "      'has_detailed_info': True,\n",
       "      'wines_count': 552579},\n",
       "     {'id': 5,\n",
       "      'name': 'Chardonnay',\n",
       "      'seo_name': 'chardonnay',\n",
       "      'has_detailed_info': True,\n",
       "      'wines_count': 588307}],\n",
       "    'background_video': None},\n",
       "   'company': None,\n",
       "   'phone': None,\n",
       "   'external_id': None,\n",
       "   'residential': None,\n",
       "   'vat_number': None,\n",
       "   'vat_code': None,\n",
       "   'addition': None},\n",
       "  'image': None,\n",
       "  'location': None,\n",
       "  'winery_group': None,\n",
       "  'first_wines': [],\n",
       "  'sponsored_entity_type': None,\n",
       "  'sponsored_entity': None},\n",
       " 'statistics': {'status': 'Normal',\n",
       "  'ratings_count': 3239,\n",
       "  'ratings_average': 4.4,\n",
       "  'labels_count': 10276,\n",
       "  'vintages_count': 23},\n",
       " 'rank': {'country': {'description': 'Rank within Moldova',\n",
       "   'total': 3435,\n",
       "   'rank': 5},\n",
       "  'region': {'description': 'Rank within Wine Region',\n",
       "   'total': 2847,\n",
       "   'rank': 2},\n",
       "  'winery': {'description': 'Rank within Winery', 'total': 32, 'rank': 2},\n",
       "  'wine_type': {'description': 'Rank within all Red Wine',\n",
       "   'total': 647437,\n",
       "   'rank': 2255},\n",
       "  'global': {'description': 'Global Rank', 'total': 1275224, 'rank': 2845}},\n",
       " 'hidden': False,\n",
       " 'vintages': [{'id': 166743131,\n",
       "   'seo_name': 'gitana-saperavi-2020',\n",
       "   'name': 'Gitana Saperavi 2020',\n",
       "   'statistics': {'status': 'BelowThreshold',\n",
       "    'ratings_count': 3,\n",
       "    'ratings_average': 0,\n",
       "    'labels_count': 6,\n",
       "    'reviews_count': 2},\n",
       "   'year': 2020,\n",
       "   'grapes': None,\n",
       "   'has_valid_ratings': False},\n",
       "  {'id': 159761903,\n",
       "   'seo_name': 'gitana-saperavi-2019',\n",
       "   'name': 'Gitana Saperavi 2019',\n",
       "   'statistics': {'status': 'BelowThreshold',\n",
       "    'ratings_count': 5,\n",
       "    'ratings_average': 0,\n",
       "    'labels_count': 10,\n",
       "    'reviews_count': 3},\n",
       "   'year': 2019,\n",
       "   'grapes': None,\n",
       "   'has_valid_ratings': False},\n",
       "  {'id': 156524245,\n",
       "   'seo_name': 'gitana-saperavi-2018',\n",
       "   'name': 'Gitana Saperavi 2018',\n",
       "   'statistics': {'status': 'Normal',\n",
       "    'ratings_count': 1079,\n",
       "    'ratings_average': 4.5,\n",
       "    'labels_count': 4532,\n",
       "    'reviews_count': 397},\n",
       "   'year': 2018,\n",
       "   'grapes': None,\n",
       "   'has_valid_ratings': True},\n",
       "  {'id': 152008500,\n",
       "   'seo_name': 'gitana-saperavi-2017',\n",
       "   'name': 'Gitana Saperavi 2017',\n",
       "   'statistics': {'status': 'Normal',\n",
       "    'ratings_count': 777,\n",
       "    'ratings_average': 4.4,\n",
       "    'labels_count': 2688,\n",
       "    'reviews_count': 263},\n",
       "   'year': 2017,\n",
       "   'grapes': None,\n",
       "   'has_valid_ratings': True},\n",
       "  {'id': 145889198,\n",
       "   'seo_name': 'gitana-saperavi-2016',\n",
       "   'name': 'Gitana Saperavi 2016',\n",
       "   'statistics': {'status': 'Normal',\n",
       "    'ratings_count': 609,\n",
       "    'ratings_average': 4.3,\n",
       "    'labels_count': 1989,\n",
       "    'reviews_count': 173},\n",
       "   'year': 2016,\n",
       "   'grapes': None,\n",
       "   'has_valid_ratings': True},\n",
       "  {'id': 141717666,\n",
       "   'seo_name': 'gitana-saperavi-2015',\n",
       "   'name': 'Gitana Saperavi 2015',\n",
       "   'statistics': {'status': 'Normal',\n",
       "    'ratings_count': 222,\n",
       "    'ratings_average': 4.2,\n",
       "    'labels_count': 551,\n",
       "    'reviews_count': 61},\n",
       "   'year': 2015,\n",
       "   'grapes': None,\n",
       "   'has_valid_ratings': True},\n",
       "  {'id': 127636065,\n",
       "   'seo_name': 'gitana-saperavi-2014',\n",
       "   'name': 'Gitana Saperavi 2014',\n",
       "   'statistics': {'status': 'BelowThreshold',\n",
       "    'ratings_count': 2,\n",
       "    'ratings_average': 0,\n",
       "    'labels_count': 6,\n",
       "    'reviews_count': 0},\n",
       "   'year': 2014,\n",
       "   'grapes': None,\n",
       "   'has_valid_ratings': False},\n",
       "  {'id': 84698203,\n",
       "   'seo_name': 'gitana-saperavi-2013',\n",
       "   'name': 'Gitana Saperavi 2013',\n",
       "   'statistics': {'status': 'BelowThreshold',\n",
       "    'ratings_count': 6,\n",
       "    'ratings_average': 0,\n",
       "    'labels_count': 18,\n",
       "    'reviews_count': 1},\n",
       "   'year': 2013,\n",
       "   'grapes': None,\n",
       "   'has_valid_ratings': False},\n",
       "  {'id': 37665402,\n",
       "   'seo_name': 'gitana-saperavi-2012',\n",
       "   'name': 'Gitana Saperavi 2012',\n",
       "   'statistics': {'status': 'Normal',\n",
       "    'ratings_count': 115,\n",
       "    'ratings_average': 4.1,\n",
       "    'labels_count': 261,\n",
       "    'reviews_count': 38},\n",
       "   'year': 2012,\n",
       "   'grapes': None,\n",
       "   'has_valid_ratings': True},\n",
       "  {'id': 38953924,\n",
       "   'seo_name': 'gitana-saperavi-2011',\n",
       "   'name': 'Gitana Saperavi 2011',\n",
       "   'statistics': {'status': 'Normal',\n",
       "    'ratings_count': 19,\n",
       "    'ratings_average': 4.2,\n",
       "    'labels_count': 101,\n",
       "    'reviews_count': 7},\n",
       "   'year': 2011,\n",
       "   'grapes': None,\n",
       "   'has_valid_ratings': True},\n",
       "  {'id': 55931206,\n",
       "   'seo_name': 'gitana-saperavi-2009',\n",
       "   'name': 'Gitana Saperavi 2009',\n",
       "   'statistics': {'status': 'BelowThreshold',\n",
       "    'ratings_count': 2,\n",
       "    'ratings_average': 0,\n",
       "    'labels_count': 8,\n",
       "    'reviews_count': 0},\n",
       "   'year': 2009,\n",
       "   'grapes': None,\n",
       "   'has_valid_ratings': False},\n",
       "  {'id': 166792847,\n",
       "   'seo_name': 'gitana-saperavi-2001',\n",
       "   'name': 'Gitana Saperavi 2001',\n",
       "   'statistics': {'status': 'BelowThreshold',\n",
       "    'ratings_count': 1,\n",
       "    'ratings_average': 0,\n",
       "    'labels_count': 1,\n",
       "    'reviews_count': 1},\n",
       "   'year': 2001,\n",
       "   'grapes': None,\n",
       "   'has_valid_ratings': False},\n",
       "  {'id': 37665403,\n",
       "   'seo_name': 'gitana-saperavi-uv',\n",
       "   'name': 'Gitana Saperavi',\n",
       "   'statistics': {'status': 'Normal',\n",
       "    'ratings_count': 3239,\n",
       "    'ratings_average': 4.4,\n",
       "    'labels_count': 88,\n",
       "    'reviews_count': 109},\n",
       "   'year': 0,\n",
       "   'grapes': None,\n",
       "   'has_valid_ratings': True}],\n",
       " 'description': '',\n",
       " 'grapes': [{'id': 643,\n",
       "   'name': 'Saperavi',\n",
       "   'seo_name': 'saperavi',\n",
       "   'has_detailed_info': False,\n",
       "   'wines_count': 17044}],\n",
       " 'non_vintage': False,\n",
       " 'alcohol': 0,\n",
       " 'sweetness_id': None,\n",
       " 'closure': None,\n",
       " 'vintage_mask_raw': None,\n",
       " 'updated_at': '2018-03-19T19:03:45Z',\n",
       " 'created_at': '2015-09-24T17:43:36Z',\n",
       " 'is_first_wine': False,\n",
       " 'style': None,\n",
       " 'has_valid_ratings': True}"
      ]
     },
     "execution_count": 636,
     "metadata": {},
     "output_type": "execute_result"
    }
   ],
   "source": [
    "data['vintage']['wine']"
   ]
  },
  {
   "cell_type": "code",
   "execution_count": 568,
   "metadata": {},
   "outputs": [
    {
     "data": {
      "text/plain": [
       "dict"
      ]
     },
     "execution_count": 568,
     "metadata": {},
     "output_type": "execute_result"
    }
   ],
   "source": [
    "type(data)"
   ]
  },
  {
   "cell_type": "code",
   "execution_count": 569,
   "metadata": {},
   "outputs": [
    {
     "data": {
      "text/plain": [
       "dict_keys(['vintage', 'carts', 'basic_user_vintage', 'price_range', 'full_region', 'tastes', 'wine', 'price', 'highlights', 'merchant', 'sold_out', 'prices_and_availability', 'found_by_merchant_and_sku', 'is_deal_page'])"
      ]
     },
     "execution_count": 569,
     "metadata": {},
     "output_type": "execute_result"
    }
   ],
   "source": [
    "data.keys()"
   ]
  },
  {
   "cell_type": "code",
   "execution_count": 570,
   "metadata": {},
   "outputs": [
    {
     "data": {
      "text/plain": [
       "4.5"
      ]
     },
     "execution_count": 570,
     "metadata": {},
     "output_type": "execute_result"
    }
   ],
   "source": [
    "data['vintage']['statistics']['ratings_average']"
   ]
  },
  {
   "cell_type": "code",
   "execution_count": 571,
   "metadata": {},
   "outputs": [
    {
     "data": {
      "text/plain": [
       "0"
      ]
     },
     "execution_count": 571,
     "metadata": {},
     "output_type": "execute_result"
    }
   ],
   "source": [
    "data['vintage']['wine']['alcohol']"
   ]
  },
  {
   "cell_type": "code",
   "execution_count": 572,
   "metadata": {},
   "outputs": [
    {
     "ename": "KeyError",
     "evalue": "'region'",
     "output_type": "error",
     "traceback": [
      "\u001b[1;31m---------------------------------------------------------------------------\u001b[0m",
      "\u001b[1;31mKeyError\u001b[0m                                  Traceback (most recent call last)",
      "\u001b[1;32m<ipython-input-572-e94511ee38f1>\u001b[0m in \u001b[0;36m<module>\u001b[1;34m\u001b[0m\n\u001b[1;32m----> 1\u001b[1;33m \u001b[0mdata\u001b[0m\u001b[1;33m[\u001b[0m\u001b[1;34m'vintage'\u001b[0m\u001b[1;33m]\u001b[0m\u001b[1;33m[\u001b[0m\u001b[1;34m'region'\u001b[0m\u001b[1;33m]\u001b[0m\u001b[1;33m\u001b[0m\u001b[1;33m\u001b[0m\u001b[0m\n\u001b[0m",
      "\u001b[1;31mKeyError\u001b[0m: 'region'"
     ]
    }
   ],
   "source": [
    "data['vintage']['region']"
   ]
  },
  {
   "cell_type": "code",
   "execution_count": 329,
   "metadata": {},
   "outputs": [],
   "source": [
    "\n",
    "    print('a')"
   ]
  },
  {
   "cell_type": "code",
   "execution_count": 325,
   "metadata": {},
   "outputs": [
    {
     "ename": "KeyError",
     "evalue": "'alcohol'",
     "output_type": "error",
     "traceback": [
      "\u001b[1;31m---------------------------------------------------------------------------\u001b[0m",
      "\u001b[1;31mKeyError\u001b[0m                                  Traceback (most recent call last)",
      "\u001b[1;32m<ipython-input-325-d884c49eeaae>\u001b[0m in \u001b[0;36m<module>\u001b[1;34m\u001b[0m\n\u001b[1;32m----> 1\u001b[1;33m \u001b[0mdata\u001b[0m\u001b[1;33m[\u001b[0m\u001b[1;34m'vintage'\u001b[0m\u001b[1;33m]\u001b[0m\u001b[1;33m[\u001b[0m\u001b[1;34m'wine_facts'\u001b[0m\u001b[1;33m]\u001b[0m\u001b[1;33m[\u001b[0m\u001b[1;34m'alcohol'\u001b[0m\u001b[1;33m]\u001b[0m\u001b[1;33m\u001b[0m\u001b[1;33m\u001b[0m\u001b[0m\n\u001b[0m",
      "\u001b[1;31mKeyError\u001b[0m: 'alcohol'"
     ]
    }
   ],
   "source": [
    "data['vintage']['wine_facts']['alcohol']"
   ]
  },
  {
   "cell_type": "code",
   "execution_count": 202,
   "metadata": {},
   "outputs": [
    {
     "data": {
      "text/plain": [
       "4.5"
      ]
     },
     "execution_count": 202,
     "metadata": {},
     "output_type": "execute_result"
    }
   ],
   "source": [
    "data['vintage']['wine']['statistics']['ratings_average']"
   ]
  },
  {
   "cell_type": "code",
   "execution_count": 233,
   "metadata": {},
   "outputs": [
    {
     "data": {
      "text/plain": [
       "[]"
      ]
     },
     "execution_count": 233,
     "metadata": {},
     "output_type": "execute_result"
    }
   ],
   "source": []
  },
  {
   "cell_type": "code",
   "execution_count": 51,
   "metadata": {},
   "outputs": [],
   "source": [
    "driver.close()\n",
    "driver.quit()"
   ]
  },
  {
   "cell_type": "code",
   "execution_count": null,
   "metadata": {},
   "outputs": [],
   "source": []
  }
 ],
 "metadata": {
  "kernelspec": {
   "display_name": "Python 3",
   "language": "python",
   "name": "python3"
  },
  "language_info": {
   "codemirror_mode": {
    "name": "ipython",
    "version": 3
   },
   "file_extension": ".py",
   "mimetype": "text/x-python",
   "name": "python",
   "nbconvert_exporter": "python",
   "pygments_lexer": "ipython3",
   "version": "3.7.3"
  }
 },
 "nbformat": 4,
 "nbformat_minor": 2
}
