{
 "cells": [
  {
   "cell_type": "code",
   "execution_count": 1,
   "metadata": {},
   "outputs": [],
   "source": [
    "import pandas as pd\n",
    "import missingno as msno\n",
    "import matplotlib.pyplot as plt  \n",
    "import seaborn as sns"
   ]
  },
  {
   "cell_type": "markdown",
   "metadata": {},
   "source": [
    "# 이상치 제거 + 알코올 이상하게 들어있는 값 바꿔준 파일"
   ]
  },
  {
   "cell_type": "code",
   "execution_count": 50,
   "metadata": {},
   "outputs": [
    {
     "name": "stdout",
     "output_type": "stream",
     "text": [
      "<class 'pandas.core.frame.DataFrame'>\n",
      "RangeIndex: 23756 entries, 0 to 23755\n",
      "Data columns (total 11 columns):\n",
      " #   Column   Non-Null Count  Dtype  \n",
      "---  ------   --------------  -----  \n",
      " 0   name     23756 non-null  object \n",
      " 1   price    23687 non-null  float64\n",
      " 2   score    23756 non-null  float64\n",
      " 3   winery   23756 non-null  object \n",
      " 4   grapes   23696 non-null  object \n",
      " 5   country  23749 non-null  object \n",
      " 6   region   23749 non-null  object \n",
      " 7   alcohol  14517 non-null  float64\n",
      " 8   foods    23475 non-null  object \n",
      " 9   wine_id  23756 non-null  int64  \n",
      " 10  re       23756 non-null  object \n",
      "dtypes: float64(3), int64(1), object(7)\n",
      "memory usage: 2.0+ MB\n"
     ]
    }
   ],
   "source": [
    "wine_df = pd.read_excel(\"wine.xlsx\")\n",
    "wine_df.info()"
   ]
  },
  {
   "cell_type": "code",
   "execution_count": 52,
   "metadata": {},
   "outputs": [
    {
     "data": {
      "text/plain": [
       "name          0\n",
       "price        69\n",
       "score         0\n",
       "winery        0\n",
       "grapes       60\n",
       "country       7\n",
       "region        7\n",
       "alcohol    9239\n",
       "foods       281\n",
       "wine_id       0\n",
       "re            0\n",
       "dtype: int64"
      ]
     },
     "execution_count": 52,
     "metadata": {},
     "output_type": "execute_result"
    }
   ],
   "source": [
    "wine_df.isnull().sum()"
   ]
  },
  {
   "cell_type": "markdown",
   "metadata": {},
   "source": [
    "# Alcohol 결측치 채우기"
   ]
  },
  {
   "cell_type": "code",
   "execution_count": 55,
   "metadata": {},
   "outputs": [],
   "source": [
    "# # 알코올열 결측치\n",
    "# mean_alcohol = wine_df['alcohol'].median(skipna=True)\n",
    "# wine_df['alcohol'] = wine_df['alcohol'].fillna(mean_alcohol)"
   ]
  },
  {
   "cell_type": "code",
   "execution_count": 53,
   "metadata": {},
   "outputs": [],
   "source": [
    "wine_mean = wine_df['alcohol'].mean()"
   ]
  },
  {
   "cell_type": "code",
   "execution_count": 54,
   "metadata": {},
   "outputs": [],
   "source": [
    "all_grapes = wine_df['grapes'].unique()"
   ]
  },
  {
   "cell_type": "code",
   "execution_count": 55,
   "metadata": {},
   "outputs": [],
   "source": [
    "for i in range(len(wine_df)):\n",
    "    for grape in all_grapes:\n",
    "        try:\n",
    "            if wine_df['grapes'][i]==grape:\n",
    "                if (math.isnan(wine_df['alcohol'][i])==True) | (wine_df['alcohol'][i] == 0.0):\n",
    "                    wine_price.at[i,'alcohol'] = wine_df[wine_df['grapes']==grape]['alcohol'].mean()\n",
    "        except:\n",
    "            continue"
   ]
  },
  {
   "cell_type": "code",
   "execution_count": 56,
   "metadata": {},
   "outputs": [],
   "source": [
    "wine_df['alcohol'].fillna(wine_mean,inplace=True)"
   ]
  },
  {
   "cell_type": "code",
   "execution_count": 57,
   "metadata": {},
   "outputs": [],
   "source": [
    "wine_df['alcohol'].replace(0.0,wine_mean,inplace=True)"
   ]
  },
  {
   "cell_type": "code",
   "execution_count": 58,
   "metadata": {},
   "outputs": [
    {
     "data": {
      "text/plain": [
       "name         0\n",
       "price       69\n",
       "score        0\n",
       "winery       0\n",
       "grapes      60\n",
       "country      7\n",
       "region       7\n",
       "alcohol      0\n",
       "foods      281\n",
       "wine_id      0\n",
       "re           0\n",
       "dtype: int64"
      ]
     },
     "execution_count": 58,
     "metadata": {},
     "output_type": "execute_result"
    }
   ],
   "source": [
    "wine_df.isnull().sum()"
   ]
  },
  {
   "cell_type": "markdown",
   "metadata": {},
   "source": [
    "# id열 중복제거"
   ]
  },
  {
   "cell_type": "code",
   "execution_count": 59,
   "metadata": {},
   "outputs": [
    {
     "data": {
      "text/plain": [
       "24469086    2\n",
       "23382023    2\n",
       "25199482    2\n",
       "24943458    2\n",
       "3267125     2\n",
       "           ..\n",
       "14738153    1\n",
       "23849704    1\n",
       "26472505    1\n",
       "20726364    1\n",
       "21366783    1\n",
       "Name: wine_id, Length: 23628, dtype: int64"
      ]
     },
     "execution_count": 59,
     "metadata": {},
     "output_type": "execute_result"
    }
   ],
   "source": [
    "wine_df['wine_id'].value_counts()"
   ]
  },
  {
   "cell_type": "code",
   "execution_count": 60,
   "metadata": {},
   "outputs": [],
   "source": [
    "#id열 중복제거\n",
    "wine_df['wine_id'] = wine_df['wine_id'].drop_duplicates( keep='first', inplace=False)"
   ]
  },
  {
   "cell_type": "code",
   "execution_count": 61,
   "metadata": {},
   "outputs": [
    {
     "data": {
      "text/plain": [
       "20348341.0    1\n",
       "14002336.0    1\n",
       "25594110.0    1\n",
       "25911720.0    1\n",
       "20490586.0    1\n",
       "             ..\n",
       "10386672.0    1\n",
       "18882260.0    1\n",
       "9560434.0     1\n",
       "25383599.0    1\n",
       "25601408.0    1\n",
       "Name: wine_id, Length: 23628, dtype: int64"
      ]
     },
     "execution_count": 61,
     "metadata": {},
     "output_type": "execute_result"
    }
   ],
   "source": [
    "wine_df['wine_id'].value_counts()"
   ]
  },
  {
   "cell_type": "markdown",
   "metadata": {},
   "source": [
    "# 결측치 제거"
   ]
  },
  {
   "cell_type": "code",
   "execution_count": 62,
   "metadata": {},
   "outputs": [
    {
     "data": {
      "text/plain": [
       "name         0\n",
       "price       69\n",
       "score        0\n",
       "winery       0\n",
       "grapes      60\n",
       "country      7\n",
       "region       7\n",
       "alcohol      0\n",
       "foods      281\n",
       "wine_id    128\n",
       "re           0\n",
       "dtype: int64"
      ]
     },
     "execution_count": 62,
     "metadata": {},
     "output_type": "execute_result"
    }
   ],
   "source": [
    "wine_df.isnull().sum()"
   ]
  },
  {
   "cell_type": "code",
   "execution_count": 63,
   "metadata": {},
   "outputs": [],
   "source": [
    "wine_df = wine_df.dropna(axis=0)"
   ]
  },
  {
   "cell_type": "code",
   "execution_count": 64,
   "metadata": {},
   "outputs": [
    {
     "data": {
      "text/plain": [
       "name       0\n",
       "price      0\n",
       "score      0\n",
       "winery     0\n",
       "grapes     0\n",
       "country    0\n",
       "region     0\n",
       "alcohol    0\n",
       "foods      0\n",
       "wine_id    0\n",
       "re         0\n",
       "dtype: int64"
      ]
     },
     "execution_count": 64,
     "metadata": {},
     "output_type": "execute_result"
    }
   ],
   "source": [
    "wine_df.isnull().sum()"
   ]
  },
  {
   "cell_type": "code",
   "execution_count": 65,
   "metadata": {},
   "outputs": [],
   "source": [
    "#min/max scaling 이후 데이터 합칠 때를 위해서\n",
    "\n",
    "wine_df = wine_df.reset_index(drop=True)"
   ]
  },
  {
   "cell_type": "code",
   "execution_count": 66,
   "metadata": {},
   "outputs": [
    {
     "data": {
      "text/html": [
       "<div>\n",
       "<style scoped>\n",
       "    .dataframe tbody tr th:only-of-type {\n",
       "        vertical-align: middle;\n",
       "    }\n",
       "\n",
       "    .dataframe tbody tr th {\n",
       "        vertical-align: top;\n",
       "    }\n",
       "\n",
       "    .dataframe thead th {\n",
       "        text-align: right;\n",
       "    }\n",
       "</style>\n",
       "<table border=\"1\" class=\"dataframe\">\n",
       "  <thead>\n",
       "    <tr style=\"text-align: right;\">\n",
       "      <th></th>\n",
       "      <th>name</th>\n",
       "      <th>price</th>\n",
       "      <th>score</th>\n",
       "      <th>winery</th>\n",
       "      <th>grapes</th>\n",
       "      <th>country</th>\n",
       "      <th>region</th>\n",
       "      <th>alcohol</th>\n",
       "      <th>foods</th>\n",
       "      <th>wine_id</th>\n",
       "      <th>re</th>\n",
       "    </tr>\n",
       "  </thead>\n",
       "  <tbody>\n",
       "    <tr>\n",
       "      <th>0</th>\n",
       "      <td>Rim Rock Vineyard Syrah  2017</td>\n",
       "      <td>52.99</td>\n",
       "      <td>4.3</td>\n",
       "      <td>Piedrasassi</td>\n",
       "      <td>Shiraz/Syrah</td>\n",
       "      <td>United States</td>\n",
       "      <td>Arroyo Grande Valley</td>\n",
       "      <td>13.500000</td>\n",
       "      <td>['Beef', 'Lamb', 'Game (deer, venison)', 'Poul...</td>\n",
       "      <td>19603399.0</td>\n",
       "      <td>['Dry tingly cool bottle pairs with seafood ho...</td>\n",
       "    </tr>\n",
       "    <tr>\n",
       "      <th>1</th>\n",
       "      <td>Tradition Ch창teauneuf-du-Pape  2015</td>\n",
       "      <td>54.99</td>\n",
       "      <td>4.2</td>\n",
       "      <td>Domaine Giraud</td>\n",
       "      <td>Grenache</td>\n",
       "      <td>France</td>\n",
       "      <td>Ch창teauneuf-du-Pape</td>\n",
       "      <td>13.491631</td>\n",
       "      <td>['Lamb', 'Pork', 'Poultry']</td>\n",
       "      <td>18191466.0</td>\n",
       "      <td>['Black cherry, oak. Leather, earthy.  Great b...</td>\n",
       "    </tr>\n",
       "    <tr>\n",
       "      <th>2</th>\n",
       "      <td>Estate Cabernet Sauvignon  2013</td>\n",
       "      <td>73.95</td>\n",
       "      <td>4.3</td>\n",
       "      <td>Brandlin</td>\n",
       "      <td>Cabernet Sauvignon</td>\n",
       "      <td>United States</td>\n",
       "      <td>Mount Veeder</td>\n",
       "      <td>13.491631</td>\n",
       "      <td>['Beef', 'Lamb', 'Game (deer, venison)', 'Matu...</td>\n",
       "      <td>13886692.0</td>\n",
       "      <td>['Wine walk favorite!  This estate cab is fant...</td>\n",
       "    </tr>\n",
       "    <tr>\n",
       "      <th>3</th>\n",
       "      <td>Imperio LXXIV Primitivo di Manduria  2018</td>\n",
       "      <td>19.99</td>\n",
       "      <td>4.2</td>\n",
       "      <td>Feudo Croce</td>\n",
       "      <td>Primitivo</td>\n",
       "      <td>Italy</td>\n",
       "      <td>Primitivo di Manduria</td>\n",
       "      <td>14.500000</td>\n",
       "      <td>['Beef', 'Pasta', 'Lamb', 'Poultry']</td>\n",
       "      <td>25311528.0</td>\n",
       "      <td>['Plum, fig, pepper, cherry. ', 'Lots of dark ...</td>\n",
       "    </tr>\n",
       "    <tr>\n",
       "      <th>4</th>\n",
       "      <td>Corte di Cama Sforzato di Valtellina  2016</td>\n",
       "      <td>58.50</td>\n",
       "      <td>4.3</td>\n",
       "      <td>Mamete Prevostini</td>\n",
       "      <td>Nebbiolo</td>\n",
       "      <td>Italy</td>\n",
       "      <td>Sforzato della Valtellina</td>\n",
       "      <td>13.491631</td>\n",
       "      <td>['Beef', 'Lamb', 'Game (deer, venison)', 'Poul...</td>\n",
       "      <td>25588649.0</td>\n",
       "      <td>['A bit of a disappointment honestly. Have rea...</td>\n",
       "    </tr>\n",
       "  </tbody>\n",
       "</table>\n",
       "</div>"
      ],
      "text/plain": [
       "                                         name  price  score  \\\n",
       "0               Rim Rock Vineyard Syrah  2017  52.99    4.3   \n",
       "1         Tradition Ch창teauneuf-du-Pape  2015  54.99    4.2   \n",
       "2             Estate Cabernet Sauvignon  2013  73.95    4.3   \n",
       "3   Imperio LXXIV Primitivo di Manduria  2018  19.99    4.2   \n",
       "4  Corte di Cama Sforzato di Valtellina  2016  58.50    4.3   \n",
       "\n",
       "              winery              grapes        country  \\\n",
       "0        Piedrasassi        Shiraz/Syrah  United States   \n",
       "1     Domaine Giraud            Grenache         France   \n",
       "2           Brandlin  Cabernet Sauvignon  United States   \n",
       "3        Feudo Croce           Primitivo          Italy   \n",
       "4  Mamete Prevostini            Nebbiolo          Italy   \n",
       "\n",
       "                      region    alcohol  \\\n",
       "0       Arroyo Grande Valley  13.500000   \n",
       "1        Ch창teauneuf-du-Pape  13.491631   \n",
       "2               Mount Veeder  13.491631   \n",
       "3      Primitivo di Manduria  14.500000   \n",
       "4  Sforzato della Valtellina  13.491631   \n",
       "\n",
       "                                               foods     wine_id  \\\n",
       "0  ['Beef', 'Lamb', 'Game (deer, venison)', 'Poul...  19603399.0   \n",
       "1                        ['Lamb', 'Pork', 'Poultry']  18191466.0   \n",
       "2  ['Beef', 'Lamb', 'Game (deer, venison)', 'Matu...  13886692.0   \n",
       "3               ['Beef', 'Pasta', 'Lamb', 'Poultry']  25311528.0   \n",
       "4  ['Beef', 'Lamb', 'Game (deer, venison)', 'Poul...  25588649.0   \n",
       "\n",
       "                                                  re  \n",
       "0  ['Dry tingly cool bottle pairs with seafood ho...  \n",
       "1  ['Black cherry, oak. Leather, earthy.  Great b...  \n",
       "2  ['Wine walk favorite!  This estate cab is fant...  \n",
       "3  ['Plum, fig, pepper, cherry. ', 'Lots of dark ...  \n",
       "4  ['A bit of a disappointment honestly. Have rea...  "
      ]
     },
     "execution_count": 66,
     "metadata": {},
     "output_type": "execute_result"
    }
   ],
   "source": [
    "wine_df.head()"
   ]
  },
  {
   "cell_type": "code",
   "execution_count": 67,
   "metadata": {},
   "outputs": [
    {
     "name": "stdout",
     "output_type": "stream",
     "text": [
      "<class 'pandas.core.frame.DataFrame'>\n",
      "RangeIndex: 23241 entries, 0 to 23240\n",
      "Data columns (total 11 columns):\n",
      " #   Column   Non-Null Count  Dtype  \n",
      "---  ------   --------------  -----  \n",
      " 0   name     23241 non-null  object \n",
      " 1   price    23241 non-null  float64\n",
      " 2   score    23241 non-null  float64\n",
      " 3   winery   23241 non-null  object \n",
      " 4   grapes   23241 non-null  object \n",
      " 5   country  23241 non-null  object \n",
      " 6   region   23241 non-null  object \n",
      " 7   alcohol  23241 non-null  float64\n",
      " 8   foods    23241 non-null  object \n",
      " 9   wine_id  23241 non-null  float64\n",
      " 10  re       23241 non-null  object \n",
      "dtypes: float64(4), object(7)\n",
      "memory usage: 2.0+ MB\n"
     ]
    }
   ],
   "source": [
    "wine_df.info()"
   ]
  },
  {
   "cell_type": "markdown",
   "metadata": {},
   "source": [
    "#EDA"
   ]
  },
  {
   "cell_type": "code",
   "execution_count": 23,
   "metadata": {},
   "outputs": [],
   "source": [
    "# !pip install missingno==0.4.1"
   ]
  },
  {
   "cell_type": "code",
   "execution_count": 72,
   "metadata": {},
   "outputs": [
    {
     "data": {
      "text/plain": [
       "<matplotlib.axes._subplots.AxesSubplot at 0x2641fa7d6a0>"
      ]
     },
     "execution_count": 72,
     "metadata": {},
     "output_type": "execute_result"
    },
    {
     "data": {
      "image/png": "[encoded data removed]",
      "text/plain": [
       "<Figure size 864x360 with 2 Axes>"
      ]
     },
     "metadata": {
      "needs_background": "light"
     },
     "output_type": "display_data"
    }
   ],
   "source": [
    "msno.matrix(wine_df, figsize=(12,5))"
   ]
  },
  {
   "cell_type": "code",
   "execution_count": 73,
   "metadata": {},
   "outputs": [],
   "source": [
    "# wine_df.boxplot(column='alcohol')"
   ]
  },
  {
   "cell_type": "code",
   "execution_count": null,
   "metadata": {},
   "outputs": [],
   "source": [
    "# wine_df['alcohol'].value_counts().sum"
   ]
  },
  {
   "cell_type": "code",
   "execution_count": 27,
   "metadata": {},
   "outputs": [],
   "source": [
    "# wine_df['alcohol'].hist(bins=20, figsize=(5,5))"
   ]
  },
  {
   "cell_type": "code",
   "execution_count": 32,
   "metadata": {},
   "outputs": [
    {
     "data": {
      "text/plain": [
       "count    23241.000000\n",
       "mean       202.690370\n",
       "std        472.776427\n",
       "min          5.490000\n",
       "25%         54.990000\n",
       "50%         89.990000\n",
       "75%        179.000000\n",
       "max       9900.000000\n",
       "Name: price, dtype: float64"
      ]
     },
     "execution_count": 32,
     "metadata": {},
     "output_type": "execute_result"
    }
   ],
   "source": [
    "wine_df['price'].describe()"
   ]
  },
  {
   "cell_type": "code",
   "execution_count": 38,
   "metadata": {},
   "outputs": [
    {
     "data": {
      "text/plain": [
       "0    9886.500000\n",
       "1    9886.515527\n",
       "2    9886.515527\n",
       "3    9885.500000\n",
       "4    9886.515527\n",
       "Name: rev_price, dtype: float64"
      ]
     },
     "execution_count": 38,
     "metadata": {},
     "output_type": "execute_result"
    }
   ],
   "source": [
    "wine_df['rev_price'] = wine_df['price'].max() - wine_df['alcohol']\n",
    "wine_df['rev_price'].head()"
   ]
  },
  {
   "cell_type": "markdown",
   "metadata": {},
   "source": [
    "# Min_Max_Scaling"
   ]
  },
  {
   "cell_type": "code",
   "execution_count": 68,
   "metadata": {},
   "outputs": [
    {
     "data": {
      "text/html": [
       "<div>\n",
       "<style scoped>\n",
       "    .dataframe tbody tr th:only-of-type {\n",
       "        vertical-align: middle;\n",
       "    }\n",
       "\n",
       "    .dataframe tbody tr th {\n",
       "        vertical-align: top;\n",
       "    }\n",
       "\n",
       "    .dataframe thead th {\n",
       "        text-align: right;\n",
       "    }\n",
       "</style>\n",
       "<table border=\"1\" class=\"dataframe\">\n",
       "  <thead>\n",
       "    <tr style=\"text-align: right;\">\n",
       "      <th></th>\n",
       "      <th>name</th>\n",
       "      <th>price</th>\n",
       "      <th>score</th>\n",
       "      <th>winery</th>\n",
       "      <th>grapes</th>\n",
       "      <th>country</th>\n",
       "      <th>region</th>\n",
       "      <th>alcohol</th>\n",
       "      <th>foods</th>\n",
       "      <th>wine_id</th>\n",
       "      <th>re</th>\n",
       "    </tr>\n",
       "  </thead>\n",
       "  <tbody>\n",
       "    <tr>\n",
       "      <th>0</th>\n",
       "      <td>Rim Rock Vineyard Syrah  2017</td>\n",
       "      <td>52.99</td>\n",
       "      <td>4.3</td>\n",
       "      <td>Piedrasassi</td>\n",
       "      <td>Shiraz/Syrah</td>\n",
       "      <td>United States</td>\n",
       "      <td>Arroyo Grande Valley</td>\n",
       "      <td>13.500000</td>\n",
       "      <td>['Beef', 'Lamb', 'Game (deer, venison)', 'Poul...</td>\n",
       "      <td>19603399.0</td>\n",
       "      <td>['Dry tingly cool bottle pairs with seafood ho...</td>\n",
       "    </tr>\n",
       "    <tr>\n",
       "      <th>1</th>\n",
       "      <td>Tradition Ch창teauneuf-du-Pape  2015</td>\n",
       "      <td>54.99</td>\n",
       "      <td>4.2</td>\n",
       "      <td>Domaine Giraud</td>\n",
       "      <td>Grenache</td>\n",
       "      <td>France</td>\n",
       "      <td>Ch창teauneuf-du-Pape</td>\n",
       "      <td>13.491631</td>\n",
       "      <td>['Lamb', 'Pork', 'Poultry']</td>\n",
       "      <td>18191466.0</td>\n",
       "      <td>['Black cherry, oak. Leather, earthy.  Great b...</td>\n",
       "    </tr>\n",
       "    <tr>\n",
       "      <th>2</th>\n",
       "      <td>Estate Cabernet Sauvignon  2013</td>\n",
       "      <td>73.95</td>\n",
       "      <td>4.3</td>\n",
       "      <td>Brandlin</td>\n",
       "      <td>Cabernet Sauvignon</td>\n",
       "      <td>United States</td>\n",
       "      <td>Mount Veeder</td>\n",
       "      <td>13.491631</td>\n",
       "      <td>['Beef', 'Lamb', 'Game (deer, venison)', 'Matu...</td>\n",
       "      <td>13886692.0</td>\n",
       "      <td>['Wine walk favorite!  This estate cab is fant...</td>\n",
       "    </tr>\n",
       "    <tr>\n",
       "      <th>3</th>\n",
       "      <td>Imperio LXXIV Primitivo di Manduria  2018</td>\n",
       "      <td>19.99</td>\n",
       "      <td>4.2</td>\n",
       "      <td>Feudo Croce</td>\n",
       "      <td>Primitivo</td>\n",
       "      <td>Italy</td>\n",
       "      <td>Primitivo di Manduria</td>\n",
       "      <td>14.500000</td>\n",
       "      <td>['Beef', 'Pasta', 'Lamb', 'Poultry']</td>\n",
       "      <td>25311528.0</td>\n",
       "      <td>['Plum, fig, pepper, cherry. ', 'Lots of dark ...</td>\n",
       "    </tr>\n",
       "    <tr>\n",
       "      <th>4</th>\n",
       "      <td>Corte di Cama Sforzato di Valtellina  2016</td>\n",
       "      <td>58.50</td>\n",
       "      <td>4.3</td>\n",
       "      <td>Mamete Prevostini</td>\n",
       "      <td>Nebbiolo</td>\n",
       "      <td>Italy</td>\n",
       "      <td>Sforzato della Valtellina</td>\n",
       "      <td>13.491631</td>\n",
       "      <td>['Beef', 'Lamb', 'Game (deer, venison)', 'Poul...</td>\n",
       "      <td>25588649.0</td>\n",
       "      <td>['A bit of a disappointment honestly. Have rea...</td>\n",
       "    </tr>\n",
       "  </tbody>\n",
       "</table>\n",
       "</div>"
      ],
      "text/plain": [
       "                                         name  price  score  \\\n",
       "0               Rim Rock Vineyard Syrah  2017  52.99    4.3   \n",
       "1         Tradition Ch창teauneuf-du-Pape  2015  54.99    4.2   \n",
       "2             Estate Cabernet Sauvignon  2013  73.95    4.3   \n",
       "3   Imperio LXXIV Primitivo di Manduria  2018  19.99    4.2   \n",
       "4  Corte di Cama Sforzato di Valtellina  2016  58.50    4.3   \n",
       "\n",
       "              winery              grapes        country  \\\n",
       "0        Piedrasassi        Shiraz/Syrah  United States   \n",
       "1     Domaine Giraud            Grenache         France   \n",
       "2           Brandlin  Cabernet Sauvignon  United States   \n",
       "3        Feudo Croce           Primitivo          Italy   \n",
       "4  Mamete Prevostini            Nebbiolo          Italy   \n",
       "\n",
       "                      region    alcohol  \\\n",
       "0       Arroyo Grande Valley  13.500000   \n",
       "1        Ch창teauneuf-du-Pape  13.491631   \n",
       "2               Mount Veeder  13.491631   \n",
       "3      Primitivo di Manduria  14.500000   \n",
       "4  Sforzato della Valtellina  13.491631   \n",
       "\n",
       "                                               foods     wine_id  \\\n",
       "0  ['Beef', 'Lamb', 'Game (deer, venison)', 'Poul...  19603399.0   \n",
       "1                        ['Lamb', 'Pork', 'Poultry']  18191466.0   \n",
       "2  ['Beef', 'Lamb', 'Game (deer, venison)', 'Matu...  13886692.0   \n",
       "3               ['Beef', 'Pasta', 'Lamb', 'Poultry']  25311528.0   \n",
       "4  ['Beef', 'Lamb', 'Game (deer, venison)', 'Poul...  25588649.0   \n",
       "\n",
       "                                                  re  \n",
       "0  ['Dry tingly cool bottle pairs with seafood ho...  \n",
       "1  ['Black cherry, oak. Leather, earthy.  Great b...  \n",
       "2  ['Wine walk favorite!  This estate cab is fant...  \n",
       "3  ['Plum, fig, pepper, cherry. ', 'Lots of dark ...  \n",
       "4  ['A bit of a disappointment honestly. Have rea...  "
      ]
     },
     "execution_count": 68,
     "metadata": {},
     "output_type": "execute_result"
    }
   ],
   "source": [
    "wine_df.head()"
   ]
  },
  {
   "cell_type": "code",
   "execution_count": 75,
   "metadata": {},
   "outputs": [],
   "source": [
    "# # min_max\n",
    "\n",
    "# def norm(x):\n",
    "#     _max = x.max()\n",
    "#     _min = x.min()\n",
    "#     _denom = _max - _min\n",
    "#     return (x - _min) / _denom\n",
    "\n",
    "# for i in ['score','alcohol','rev_alcohol']:\n",
    "#     update_df = wine_df[[i]]\n",
    "#     wine_df[[i]]= norm(update_df)\n",
    "#     wine_df[i] = wine_df[i].round(2)"
   ]
  },
  {
   "cell_type": "code",
   "execution_count": 74,
   "metadata": {},
   "outputs": [
    {
     "data": {
      "text/plain": [
       "MinMaxScaler()"
      ]
     },
     "execution_count": 74,
     "metadata": {},
     "output_type": "execute_result"
    }
   ],
   "source": [
    "from sklearn.preprocessing import MinMaxScaler\n",
    "\n",
    "score_scaler = MinMaxScaler()\n",
    "score_scaler"
   ]
  },
  {
   "cell_type": "code",
   "execution_count": 75,
   "metadata": {},
   "outputs": [
    {
     "data": {
      "text/plain": [
       "array([[ 52.99     ,   4.3      ,  13.5      ],\n",
       "       [ 54.99     ,   4.2      ,  13.4916305],\n",
       "       [ 73.95     ,   4.3      ,  13.4916305],\n",
       "       ...,\n",
       "       [ 79.99     ,   4.4      ,  14.4      ],\n",
       "       [369.99     ,   4.5      ,  13.4916305],\n",
       "       [ 33.99     ,   4.3      ,  13.       ]])"
      ]
     },
     "execution_count": 75,
     "metadata": {},
     "output_type": "execute_result"
    }
   ],
   "source": [
    "# 모델을 돌리기 위해 array화\n",
    "\n",
    "score_data = mima_wine.values\n",
    "score_data"
   ]
  },
  {
   "cell_type": "code",
   "execution_count": 76,
   "metadata": {},
   "outputs": [
    {
     "data": {
      "text/plain": [
       "MinMaxScaler()"
      ]
     },
     "execution_count": 76,
     "metadata": {},
     "output_type": "execute_result"
    }
   ],
   "source": [
    "score_scaler.fit(score_data)"
   ]
  },
  {
   "cell_type": "code",
   "execution_count": 80,
   "metadata": {},
   "outputs": [],
   "source": [
    "result= score_scaler.transform(score_data)"
   ]
  },
  {
   "cell_type": "code",
   "execution_count": 91,
   "metadata": {},
   "outputs": [
    {
     "data": {
      "text/html": [
       "<div>\n",
       "<style scoped>\n",
       "    .dataframe tbody tr th:only-of-type {\n",
       "        vertical-align: middle;\n",
       "    }\n",
       "\n",
       "    .dataframe tbody tr th {\n",
       "        vertical-align: top;\n",
       "    }\n",
       "\n",
       "    .dataframe thead th {\n",
       "        text-align: right;\n",
       "    }\n",
       "</style>\n",
       "<table border=\"1\" class=\"dataframe\">\n",
       "  <thead>\n",
       "    <tr style=\"text-align: right;\">\n",
       "      <th></th>\n",
       "      <th>s_price</th>\n",
       "      <th>s_score</th>\n",
       "      <th>s_alcohol</th>\n",
       "    </tr>\n",
       "  </thead>\n",
       "  <tbody>\n",
       "    <tr>\n",
       "      <th>0</th>\n",
       "      <td>0.004801</td>\n",
       "      <td>0.333333</td>\n",
       "      <td>0.237968</td>\n",
       "    </tr>\n",
       "    <tr>\n",
       "      <th>1</th>\n",
       "      <td>0.005003</td>\n",
       "      <td>0.222222</td>\n",
       "      <td>0.237744</td>\n",
       "    </tr>\n",
       "    <tr>\n",
       "      <th>2</th>\n",
       "      <td>0.006919</td>\n",
       "      <td>0.333333</td>\n",
       "      <td>0.237744</td>\n",
       "    </tr>\n",
       "    <tr>\n",
       "      <th>3</th>\n",
       "      <td>0.001465</td>\n",
       "      <td>0.222222</td>\n",
       "      <td>0.264706</td>\n",
       "    </tr>\n",
       "    <tr>\n",
       "      <th>4</th>\n",
       "      <td>0.005358</td>\n",
       "      <td>0.333333</td>\n",
       "      <td>0.237744</td>\n",
       "    </tr>\n",
       "  </tbody>\n",
       "</table>\n",
       "</div>"
      ],
      "text/plain": [
       "    s_price   s_score  s_alcohol\n",
       "0  0.004801  0.333333   0.237968\n",
       "1  0.005003  0.222222   0.237744\n",
       "2  0.006919  0.333333   0.237744\n",
       "3  0.001465  0.222222   0.264706\n",
       "4  0.005358  0.333333   0.237744"
      ]
     },
     "execution_count": 91,
     "metadata": {},
     "output_type": "execute_result"
    }
   ],
   "source": [
    "result_df = pd.DataFrame(result,columns=['s_price','s_score','s_alcohol'])\n",
    "result_df.head()"
   ]
  },
  {
   "cell_type": "code",
   "execution_count": 92,
   "metadata": {},
   "outputs": [
    {
     "data": {
      "text/html": [
       "<div>\n",
       "<style scoped>\n",
       "    .dataframe tbody tr th:only-of-type {\n",
       "        vertical-align: middle;\n",
       "    }\n",
       "\n",
       "    .dataframe tbody tr th {\n",
       "        vertical-align: top;\n",
       "    }\n",
       "\n",
       "    .dataframe thead th {\n",
       "        text-align: right;\n",
       "    }\n",
       "</style>\n",
       "<table border=\"1\" class=\"dataframe\">\n",
       "  <thead>\n",
       "    <tr style=\"text-align: right;\">\n",
       "      <th></th>\n",
       "      <th>name</th>\n",
       "      <th>price</th>\n",
       "      <th>score</th>\n",
       "      <th>winery</th>\n",
       "      <th>grapes</th>\n",
       "      <th>country</th>\n",
       "      <th>region</th>\n",
       "      <th>alcohol</th>\n",
       "      <th>foods</th>\n",
       "      <th>wine_id</th>\n",
       "      <th>re</th>\n",
       "      <th>s_price</th>\n",
       "      <th>s_score</th>\n",
       "      <th>s_alcohol</th>\n",
       "    </tr>\n",
       "  </thead>\n",
       "  <tbody>\n",
       "    <tr>\n",
       "      <th>0</th>\n",
       "      <td>Rim Rock Vineyard Syrah  2017</td>\n",
       "      <td>52.99</td>\n",
       "      <td>4.3</td>\n",
       "      <td>Piedrasassi</td>\n",
       "      <td>Shiraz/Syrah</td>\n",
       "      <td>United States</td>\n",
       "      <td>Arroyo Grande Valley</td>\n",
       "      <td>13.500000</td>\n",
       "      <td>['Beef', 'Lamb', 'Game (deer, venison)', 'Poul...</td>\n",
       "      <td>19603399.0</td>\n",
       "      <td>['Dry tingly cool bottle pairs with seafood ho...</td>\n",
       "      <td>0.004801</td>\n",
       "      <td>0.333333</td>\n",
       "      <td>0.237968</td>\n",
       "    </tr>\n",
       "    <tr>\n",
       "      <th>1</th>\n",
       "      <td>Tradition Ch창teauneuf-du-Pape  2015</td>\n",
       "      <td>54.99</td>\n",
       "      <td>4.2</td>\n",
       "      <td>Domaine Giraud</td>\n",
       "      <td>Grenache</td>\n",
       "      <td>France</td>\n",
       "      <td>Ch창teauneuf-du-Pape</td>\n",
       "      <td>13.491631</td>\n",
       "      <td>['Lamb', 'Pork', 'Poultry']</td>\n",
       "      <td>18191466.0</td>\n",
       "      <td>['Black cherry, oak. Leather, earthy.  Great b...</td>\n",
       "      <td>0.005003</td>\n",
       "      <td>0.222222</td>\n",
       "      <td>0.237744</td>\n",
       "    </tr>\n",
       "    <tr>\n",
       "      <th>2</th>\n",
       "      <td>Estate Cabernet Sauvignon  2013</td>\n",
       "      <td>73.95</td>\n",
       "      <td>4.3</td>\n",
       "      <td>Brandlin</td>\n",
       "      <td>Cabernet Sauvignon</td>\n",
       "      <td>United States</td>\n",
       "      <td>Mount Veeder</td>\n",
       "      <td>13.491631</td>\n",
       "      <td>['Beef', 'Lamb', 'Game (deer, venison)', 'Matu...</td>\n",
       "      <td>13886692.0</td>\n",
       "      <td>['Wine walk favorite!  This estate cab is fant...</td>\n",
       "      <td>0.006919</td>\n",
       "      <td>0.333333</td>\n",
       "      <td>0.237744</td>\n",
       "    </tr>\n",
       "    <tr>\n",
       "      <th>3</th>\n",
       "      <td>Imperio LXXIV Primitivo di Manduria  2018</td>\n",
       "      <td>19.99</td>\n",
       "      <td>4.2</td>\n",
       "      <td>Feudo Croce</td>\n",
       "      <td>Primitivo</td>\n",
       "      <td>Italy</td>\n",
       "      <td>Primitivo di Manduria</td>\n",
       "      <td>14.500000</td>\n",
       "      <td>['Beef', 'Pasta', 'Lamb', 'Poultry']</td>\n",
       "      <td>25311528.0</td>\n",
       "      <td>['Plum, fig, pepper, cherry. ', 'Lots of dark ...</td>\n",
       "      <td>0.001465</td>\n",
       "      <td>0.222222</td>\n",
       "      <td>0.264706</td>\n",
       "    </tr>\n",
       "    <tr>\n",
       "      <th>4</th>\n",
       "      <td>Corte di Cama Sforzato di Valtellina  2016</td>\n",
       "      <td>58.50</td>\n",
       "      <td>4.3</td>\n",
       "      <td>Mamete Prevostini</td>\n",
       "      <td>Nebbiolo</td>\n",
       "      <td>Italy</td>\n",
       "      <td>Sforzato della Valtellina</td>\n",
       "      <td>13.491631</td>\n",
       "      <td>['Beef', 'Lamb', 'Game (deer, venison)', 'Poul...</td>\n",
       "      <td>25588649.0</td>\n",
       "      <td>['A bit of a disappointment honestly. Have rea...</td>\n",
       "      <td>0.005358</td>\n",
       "      <td>0.333333</td>\n",
       "      <td>0.237744</td>\n",
       "    </tr>\n",
       "  </tbody>\n",
       "</table>\n",
       "</div>"
      ],
      "text/plain": [
       "                                         name  price  score  \\\n",
       "0               Rim Rock Vineyard Syrah  2017  52.99    4.3   \n",
       "1         Tradition Ch창teauneuf-du-Pape  2015  54.99    4.2   \n",
       "2             Estate Cabernet Sauvignon  2013  73.95    4.3   \n",
       "3   Imperio LXXIV Primitivo di Manduria  2018  19.99    4.2   \n",
       "4  Corte di Cama Sforzato di Valtellina  2016  58.50    4.3   \n",
       "\n",
       "              winery              grapes        country  \\\n",
       "0        Piedrasassi        Shiraz/Syrah  United States   \n",
       "1     Domaine Giraud            Grenache         France   \n",
       "2           Brandlin  Cabernet Sauvignon  United States   \n",
       "3        Feudo Croce           Primitivo          Italy   \n",
       "4  Mamete Prevostini            Nebbiolo          Italy   \n",
       "\n",
       "                      region    alcohol  \\\n",
       "0       Arroyo Grande Valley  13.500000   \n",
       "1        Ch창teauneuf-du-Pape  13.491631   \n",
       "2               Mount Veeder  13.491631   \n",
       "3      Primitivo di Manduria  14.500000   \n",
       "4  Sforzato della Valtellina  13.491631   \n",
       "\n",
       "                                               foods     wine_id  \\\n",
       "0  ['Beef', 'Lamb', 'Game (deer, venison)', 'Poul...  19603399.0   \n",
       "1                        ['Lamb', 'Pork', 'Poultry']  18191466.0   \n",
       "2  ['Beef', 'Lamb', 'Game (deer, venison)', 'Matu...  13886692.0   \n",
       "3               ['Beef', 'Pasta', 'Lamb', 'Poultry']  25311528.0   \n",
       "4  ['Beef', 'Lamb', 'Game (deer, venison)', 'Poul...  25588649.0   \n",
       "\n",
       "                                                  re   s_price   s_score  \\\n",
       "0  ['Dry tingly cool bottle pairs with seafood ho...  0.004801  0.333333   \n",
       "1  ['Black cherry, oak. Leather, earthy.  Great b...  0.005003  0.222222   \n",
       "2  ['Wine walk favorite!  This estate cab is fant...  0.006919  0.333333   \n",
       "3  ['Plum, fig, pepper, cherry. ', 'Lots of dark ...  0.001465  0.222222   \n",
       "4  ['A bit of a disappointment honestly. Have rea...  0.005358  0.333333   \n",
       "\n",
       "   s_alcohol  \n",
       "0   0.237968  \n",
       "1   0.237744  \n",
       "2   0.237744  \n",
       "3   0.264706  \n",
       "4   0.237744  "
      ]
     },
     "execution_count": 92,
     "metadata": {},
     "output_type": "execute_result"
    }
   ],
   "source": [
    "#데이터 합치기\n",
    "\n",
    "df = pd.concat([wine_df,result_df],axis=1)\n",
    "df.head()"
   ]
  },
  {
   "cell_type": "markdown",
   "metadata": {},
   "source": [
    "# 도수, 가격 높고 낮음 선호도를 위해 열 추가"
   ]
  },
  {
   "cell_type": "code",
   "execution_count": 93,
   "metadata": {},
   "outputs": [
    {
     "data": {
      "text/plain": [
       "0    0.762032\n",
       "1    0.762256\n",
       "2    0.762256\n",
       "3    0.735294\n",
       "4    0.762256\n",
       "Name: rev_s_alcohol, dtype: float64"
      ]
     },
     "execution_count": 93,
     "metadata": {},
     "output_type": "execute_result"
    }
   ],
   "source": [
    "df['rev_s_alcohol'] = 1.0 - df['s_alcohol']\n",
    "df['rev_s_alcohol'].head()"
   ]
  },
  {
   "cell_type": "code",
   "execution_count": 94,
   "metadata": {},
   "outputs": [
    {
     "data": {
      "text/plain": [
       "0    0.995199\n",
       "1    0.994997\n",
       "2    0.993081\n",
       "3    0.998535\n",
       "4    0.994642\n",
       "Name: rev_s_price, dtype: float64"
      ]
     },
     "execution_count": 94,
     "metadata": {},
     "output_type": "execute_result"
    }
   ],
   "source": [
    "df['rev_s_price'] = 1.0 - df['s_price']\n",
    "df['rev_s_price'].head()"
   ]
  },
  {
   "cell_type": "code",
   "execution_count": 95,
   "metadata": {},
   "outputs": [
    {
     "data": {
      "text/html": [
       "<div>\n",
       "<style scoped>\n",
       "    .dataframe tbody tr th:only-of-type {\n",
       "        vertical-align: middle;\n",
       "    }\n",
       "\n",
       "    .dataframe tbody tr th {\n",
       "        vertical-align: top;\n",
       "    }\n",
       "\n",
       "    .dataframe thead th {\n",
       "        text-align: right;\n",
       "    }\n",
       "</style>\n",
       "<table border=\"1\" class=\"dataframe\">\n",
       "  <thead>\n",
       "    <tr style=\"text-align: right;\">\n",
       "      <th></th>\n",
       "      <th>name</th>\n",
       "      <th>price</th>\n",
       "      <th>score</th>\n",
       "      <th>winery</th>\n",
       "      <th>grapes</th>\n",
       "      <th>country</th>\n",
       "      <th>region</th>\n",
       "      <th>alcohol</th>\n",
       "      <th>foods</th>\n",
       "      <th>wine_id</th>\n",
       "      <th>re</th>\n",
       "      <th>s_price</th>\n",
       "      <th>s_score</th>\n",
       "      <th>s_alcohol</th>\n",
       "      <th>rev_s_alcohol</th>\n",
       "      <th>rev_s_price</th>\n",
       "    </tr>\n",
       "  </thead>\n",
       "  <tbody>\n",
       "    <tr>\n",
       "      <th>0</th>\n",
       "      <td>Rim Rock Vineyard Syrah  2017</td>\n",
       "      <td>52.99</td>\n",
       "      <td>4.3</td>\n",
       "      <td>Piedrasassi</td>\n",
       "      <td>Shiraz/Syrah</td>\n",
       "      <td>United States</td>\n",
       "      <td>Arroyo Grande Valley</td>\n",
       "      <td>13.500000</td>\n",
       "      <td>['Beef', 'Lamb', 'Game (deer, venison)', 'Poul...</td>\n",
       "      <td>19603399.0</td>\n",
       "      <td>['Dry tingly cool bottle pairs with seafood ho...</td>\n",
       "      <td>0.004801</td>\n",
       "      <td>0.333333</td>\n",
       "      <td>0.237968</td>\n",
       "      <td>0.762032</td>\n",
       "      <td>0.995199</td>\n",
       "    </tr>\n",
       "    <tr>\n",
       "      <th>1</th>\n",
       "      <td>Tradition Ch창teauneuf-du-Pape  2015</td>\n",
       "      <td>54.99</td>\n",
       "      <td>4.2</td>\n",
       "      <td>Domaine Giraud</td>\n",
       "      <td>Grenache</td>\n",
       "      <td>France</td>\n",
       "      <td>Ch창teauneuf-du-Pape</td>\n",
       "      <td>13.491631</td>\n",
       "      <td>['Lamb', 'Pork', 'Poultry']</td>\n",
       "      <td>18191466.0</td>\n",
       "      <td>['Black cherry, oak. Leather, earthy.  Great b...</td>\n",
       "      <td>0.005003</td>\n",
       "      <td>0.222222</td>\n",
       "      <td>0.237744</td>\n",
       "      <td>0.762256</td>\n",
       "      <td>0.994997</td>\n",
       "    </tr>\n",
       "    <tr>\n",
       "      <th>2</th>\n",
       "      <td>Estate Cabernet Sauvignon  2013</td>\n",
       "      <td>73.95</td>\n",
       "      <td>4.3</td>\n",
       "      <td>Brandlin</td>\n",
       "      <td>Cabernet Sauvignon</td>\n",
       "      <td>United States</td>\n",
       "      <td>Mount Veeder</td>\n",
       "      <td>13.491631</td>\n",
       "      <td>['Beef', 'Lamb', 'Game (deer, venison)', 'Matu...</td>\n",
       "      <td>13886692.0</td>\n",
       "      <td>['Wine walk favorite!  This estate cab is fant...</td>\n",
       "      <td>0.006919</td>\n",
       "      <td>0.333333</td>\n",
       "      <td>0.237744</td>\n",
       "      <td>0.762256</td>\n",
       "      <td>0.993081</td>\n",
       "    </tr>\n",
       "    <tr>\n",
       "      <th>3</th>\n",
       "      <td>Imperio LXXIV Primitivo di Manduria  2018</td>\n",
       "      <td>19.99</td>\n",
       "      <td>4.2</td>\n",
       "      <td>Feudo Croce</td>\n",
       "      <td>Primitivo</td>\n",
       "      <td>Italy</td>\n",
       "      <td>Primitivo di Manduria</td>\n",
       "      <td>14.500000</td>\n",
       "      <td>['Beef', 'Pasta', 'Lamb', 'Poultry']</td>\n",
       "      <td>25311528.0</td>\n",
       "      <td>['Plum, fig, pepper, cherry. ', 'Lots of dark ...</td>\n",
       "      <td>0.001465</td>\n",
       "      <td>0.222222</td>\n",
       "      <td>0.264706</td>\n",
       "      <td>0.735294</td>\n",
       "      <td>0.998535</td>\n",
       "    </tr>\n",
       "    <tr>\n",
       "      <th>4</th>\n",
       "      <td>Corte di Cama Sforzato di Valtellina  2016</td>\n",
       "      <td>58.50</td>\n",
       "      <td>4.3</td>\n",
       "      <td>Mamete Prevostini</td>\n",
       "      <td>Nebbiolo</td>\n",
       "      <td>Italy</td>\n",
       "      <td>Sforzato della Valtellina</td>\n",
       "      <td>13.491631</td>\n",
       "      <td>['Beef', 'Lamb', 'Game (deer, venison)', 'Poul...</td>\n",
       "      <td>25588649.0</td>\n",
       "      <td>['A bit of a disappointment honestly. Have rea...</td>\n",
       "      <td>0.005358</td>\n",
       "      <td>0.333333</td>\n",
       "      <td>0.237744</td>\n",
       "      <td>0.762256</td>\n",
       "      <td>0.994642</td>\n",
       "    </tr>\n",
       "  </tbody>\n",
       "</table>\n",
       "</div>"
      ],
      "text/plain": [
       "                                         name  price  score  \\\n",
       "0               Rim Rock Vineyard Syrah  2017  52.99    4.3   \n",
       "1         Tradition Ch창teauneuf-du-Pape  2015  54.99    4.2   \n",
       "2             Estate Cabernet Sauvignon  2013  73.95    4.3   \n",
       "3   Imperio LXXIV Primitivo di Manduria  2018  19.99    4.2   \n",
       "4  Corte di Cama Sforzato di Valtellina  2016  58.50    4.3   \n",
       "\n",
       "              winery              grapes        country  \\\n",
       "0        Piedrasassi        Shiraz/Syrah  United States   \n",
       "1     Domaine Giraud            Grenache         France   \n",
       "2           Brandlin  Cabernet Sauvignon  United States   \n",
       "3        Feudo Croce           Primitivo          Italy   \n",
       "4  Mamete Prevostini            Nebbiolo          Italy   \n",
       "\n",
       "                      region    alcohol  \\\n",
       "0       Arroyo Grande Valley  13.500000   \n",
       "1        Ch창teauneuf-du-Pape  13.491631   \n",
       "2               Mount Veeder  13.491631   \n",
       "3      Primitivo di Manduria  14.500000   \n",
       "4  Sforzato della Valtellina  13.491631   \n",
       "\n",
       "                                               foods     wine_id  \\\n",
       "0  ['Beef', 'Lamb', 'Game (deer, venison)', 'Poul...  19603399.0   \n",
       "1                        ['Lamb', 'Pork', 'Poultry']  18191466.0   \n",
       "2  ['Beef', 'Lamb', 'Game (deer, venison)', 'Matu...  13886692.0   \n",
       "3               ['Beef', 'Pasta', 'Lamb', 'Poultry']  25311528.0   \n",
       "4  ['Beef', 'Lamb', 'Game (deer, venison)', 'Poul...  25588649.0   \n",
       "\n",
       "                                                  re   s_price   s_score  \\\n",
       "0  ['Dry tingly cool bottle pairs with seafood ho...  0.004801  0.333333   \n",
       "1  ['Black cherry, oak. Leather, earthy.  Great b...  0.005003  0.222222   \n",
       "2  ['Wine walk favorite!  This estate cab is fant...  0.006919  0.333333   \n",
       "3  ['Plum, fig, pepper, cherry. ', 'Lots of dark ...  0.001465  0.222222   \n",
       "4  ['A bit of a disappointment honestly. Have rea...  0.005358  0.333333   \n",
       "\n",
       "   s_alcohol  rev_s_alcohol  rev_s_price  \n",
       "0   0.237968       0.762032     0.995199  \n",
       "1   0.237744       0.762256     0.994997  \n",
       "2   0.237744       0.762256     0.993081  \n",
       "3   0.264706       0.735294     0.998535  \n",
       "4   0.237744       0.762256     0.994642  "
      ]
     },
     "execution_count": 95,
     "metadata": {},
     "output_type": "execute_result"
    }
   ],
   "source": [
    "df.head()"
   ]
  },
  {
   "cell_type": "code",
   "execution_count": 97,
   "metadata": {},
   "outputs": [],
   "source": [
    "df.to_csv('wine_realrealfinal.csv')"
   ]
  },
  {
   "cell_type": "code",
   "execution_count": null,
   "metadata": {},
   "outputs": [],
   "source": []
  },
  {
   "cell_type": "code",
   "execution_count": null,
   "metadata": {},
   "outputs": [],
   "source": []
  },
  {
   "cell_type": "code",
   "execution_count": null,
   "metadata": {},
   "outputs": [],
   "source": []
  },
  {
   "cell_type": "code",
   "execution_count": 44,
   "metadata": {},
   "outputs": [],
   "source": [
    "aa = pd.read_excel(\"wine.xlsx\")"
   ]
  },
  {
   "cell_type": "code",
   "execution_count": 45,
   "metadata": {},
   "outputs": [
    {
     "data": {
      "text/html": [
       "<div>\n",
       "<style scoped>\n",
       "    .dataframe tbody tr th:only-of-type {\n",
       "        vertical-align: middle;\n",
       "    }\n",
       "\n",
       "    .dataframe tbody tr th {\n",
       "        vertical-align: top;\n",
       "    }\n",
       "\n",
       "    .dataframe thead th {\n",
       "        text-align: right;\n",
       "    }\n",
       "</style>\n",
       "<table border=\"1\" class=\"dataframe\">\n",
       "  <thead>\n",
       "    <tr style=\"text-align: right;\">\n",
       "      <th></th>\n",
       "      <th>name</th>\n",
       "      <th>price</th>\n",
       "      <th>score</th>\n",
       "      <th>winery</th>\n",
       "      <th>grapes</th>\n",
       "      <th>country</th>\n",
       "      <th>region</th>\n",
       "      <th>alcohol</th>\n",
       "      <th>foods</th>\n",
       "      <th>wine_id</th>\n",
       "      <th>re</th>\n",
       "    </tr>\n",
       "  </thead>\n",
       "  <tbody>\n",
       "    <tr>\n",
       "      <th>0</th>\n",
       "      <td>Rim Rock Vineyard Syrah  2017</td>\n",
       "      <td>52.99</td>\n",
       "      <td>4.3</td>\n",
       "      <td>Piedrasassi</td>\n",
       "      <td>Shiraz/Syrah</td>\n",
       "      <td>United States</td>\n",
       "      <td>Arroyo Grande Valley</td>\n",
       "      <td>13.5</td>\n",
       "      <td>['Beef', 'Lamb', 'Game (deer, venison)', 'Poul...</td>\n",
       "      <td>19603399</td>\n",
       "      <td>['Dry tingly cool bottle pairs with seafood ho...</td>\n",
       "    </tr>\n",
       "    <tr>\n",
       "      <th>1</th>\n",
       "      <td>Tradition Ch창teauneuf-du-Pape  2015</td>\n",
       "      <td>54.99</td>\n",
       "      <td>4.2</td>\n",
       "      <td>Domaine Giraud</td>\n",
       "      <td>Grenache</td>\n",
       "      <td>France</td>\n",
       "      <td>Ch창teauneuf-du-Pape</td>\n",
       "      <td>NaN</td>\n",
       "      <td>['Lamb', 'Pork', 'Poultry']</td>\n",
       "      <td>18191466</td>\n",
       "      <td>['Black cherry, oak. Leather, earthy.  Great b...</td>\n",
       "    </tr>\n",
       "    <tr>\n",
       "      <th>2</th>\n",
       "      <td>Estate Cabernet Sauvignon  2013</td>\n",
       "      <td>73.95</td>\n",
       "      <td>4.3</td>\n",
       "      <td>Brandlin</td>\n",
       "      <td>Cabernet Sauvignon</td>\n",
       "      <td>United States</td>\n",
       "      <td>Mount Veeder</td>\n",
       "      <td>NaN</td>\n",
       "      <td>['Beef', 'Lamb', 'Game (deer, venison)', 'Matu...</td>\n",
       "      <td>13886692</td>\n",
       "      <td>['Wine walk favorite!  This estate cab is fant...</td>\n",
       "    </tr>\n",
       "    <tr>\n",
       "      <th>3</th>\n",
       "      <td>Imperio LXXIV Primitivo di Manduria  2018</td>\n",
       "      <td>19.99</td>\n",
       "      <td>4.2</td>\n",
       "      <td>Feudo Croce</td>\n",
       "      <td>Primitivo</td>\n",
       "      <td>Italy</td>\n",
       "      <td>Primitivo di Manduria</td>\n",
       "      <td>14.5</td>\n",
       "      <td>['Beef', 'Pasta', 'Lamb', 'Poultry']</td>\n",
       "      <td>25311528</td>\n",
       "      <td>['Plum, fig, pepper, cherry. ', 'Lots of dark ...</td>\n",
       "    </tr>\n",
       "    <tr>\n",
       "      <th>4</th>\n",
       "      <td>Corte di Cama Sforzato di Valtellina  2016</td>\n",
       "      <td>58.50</td>\n",
       "      <td>4.3</td>\n",
       "      <td>Mamete Prevostini</td>\n",
       "      <td>Nebbiolo</td>\n",
       "      <td>Italy</td>\n",
       "      <td>Sforzato della Valtellina</td>\n",
       "      <td>NaN</td>\n",
       "      <td>['Beef', 'Lamb', 'Game (deer, venison)', 'Poul...</td>\n",
       "      <td>25588649</td>\n",
       "      <td>['A bit of a disappointment honestly. Have rea...</td>\n",
       "    </tr>\n",
       "  </tbody>\n",
       "</table>\n",
       "</div>"
      ],
      "text/plain": [
       "                                         name  price  score  \\\n",
       "0               Rim Rock Vineyard Syrah  2017  52.99    4.3   \n",
       "1         Tradition Ch창teauneuf-du-Pape  2015  54.99    4.2   \n",
       "2             Estate Cabernet Sauvignon  2013  73.95    4.3   \n",
       "3   Imperio LXXIV Primitivo di Manduria  2018  19.99    4.2   \n",
       "4  Corte di Cama Sforzato di Valtellina  2016  58.50    4.3   \n",
       "\n",
       "              winery              grapes        country  \\\n",
       "0        Piedrasassi        Shiraz/Syrah  United States   \n",
       "1     Domaine Giraud            Grenache         France   \n",
       "2           Brandlin  Cabernet Sauvignon  United States   \n",
       "3        Feudo Croce           Primitivo          Italy   \n",
       "4  Mamete Prevostini            Nebbiolo          Italy   \n",
       "\n",
       "                      region  alcohol  \\\n",
       "0       Arroyo Grande Valley     13.5   \n",
       "1        Ch창teauneuf-du-Pape      NaN   \n",
       "2               Mount Veeder      NaN   \n",
       "3      Primitivo di Manduria     14.5   \n",
       "4  Sforzato della Valtellina      NaN   \n",
       "\n",
       "                                               foods   wine_id  \\\n",
       "0  ['Beef', 'Lamb', 'Game (deer, venison)', 'Poul...  19603399   \n",
       "1                        ['Lamb', 'Pork', 'Poultry']  18191466   \n",
       "2  ['Beef', 'Lamb', 'Game (deer, venison)', 'Matu...  13886692   \n",
       "3               ['Beef', 'Pasta', 'Lamb', 'Poultry']  25311528   \n",
       "4  ['Beef', 'Lamb', 'Game (deer, venison)', 'Poul...  25588649   \n",
       "\n",
       "                                                  re  \n",
       "0  ['Dry tingly cool bottle pairs with seafood ho...  \n",
       "1  ['Black cherry, oak. Leather, earthy.  Great b...  \n",
       "2  ['Wine walk favorite!  This estate cab is fant...  \n",
       "3  ['Plum, fig, pepper, cherry. ', 'Lots of dark ...  \n",
       "4  ['A bit of a disappointment honestly. Have rea...  "
      ]
     },
     "execution_count": 45,
     "metadata": {},
     "output_type": "execute_result"
    }
   ],
   "source": [
    "aa.head()"
   ]
  },
  {
   "cell_type": "code",
   "execution_count": 48,
   "metadata": {},
   "outputs": [
    {
     "data": {
      "text/html": [
       "<div>\n",
       "<style scoped>\n",
       "    .dataframe tbody tr th:only-of-type {\n",
       "        vertical-align: middle;\n",
       "    }\n",
       "\n",
       "    .dataframe tbody tr th {\n",
       "        vertical-align: top;\n",
       "    }\n",
       "\n",
       "    .dataframe thead th {\n",
       "        text-align: right;\n",
       "    }\n",
       "</style>\n",
       "<table border=\"1\" class=\"dataframe\">\n",
       "  <thead>\n",
       "    <tr style=\"text-align: right;\">\n",
       "      <th></th>\n",
       "      <th>name</th>\n",
       "      <th>price</th>\n",
       "      <th>score</th>\n",
       "      <th>winery</th>\n",
       "      <th>grapes</th>\n",
       "      <th>country</th>\n",
       "      <th>region</th>\n",
       "      <th>alcohol</th>\n",
       "      <th>foods</th>\n",
       "      <th>wine_id</th>\n",
       "      <th>re</th>\n",
       "    </tr>\n",
       "  </thead>\n",
       "  <tbody>\n",
       "    <tr>\n",
       "      <th>11963</th>\n",
       "      <td>Panek Vineyard Cabernet Sauvignon  2014</td>\n",
       "      <td>224.99</td>\n",
       "      <td>4.6</td>\n",
       "      <td>Pulido-Walker</td>\n",
       "      <td>Cabernet Sauvignon</td>\n",
       "      <td>United States</td>\n",
       "      <td>Napa Valley</td>\n",
       "      <td>4.6</td>\n",
       "      <td>['Beef', 'Lamb', 'Game (deer, venison)', 'Matu...</td>\n",
       "      <td>24840468</td>\n",
       "      <td>['A real sexy, smooth stunner. The middle of a...</td>\n",
       "    </tr>\n",
       "    <tr>\n",
       "      <th>18084</th>\n",
       "      <td>Essencia  2008</td>\n",
       "      <td>1100.00</td>\n",
       "      <td>4.8</td>\n",
       "      <td>Royal Tokaji</td>\n",
       "      <td>H찼rslevel킥</td>\n",
       "      <td>Hungary</td>\n",
       "      <td>Tokaj</td>\n",
       "      <td>4.0</td>\n",
       "      <td>NaN</td>\n",
       "      <td>17314660</td>\n",
       "      <td>['Free run juice of hand selected rotten grape...</td>\n",
       "    </tr>\n",
       "  </tbody>\n",
       "</table>\n",
       "</div>"
      ],
      "text/plain": [
       "                                          name    price  score         winery  \\\n",
       "11963  Panek Vineyard Cabernet Sauvignon  2014   224.99    4.6  Pulido-Walker   \n",
       "18084                           Essencia  2008  1100.00    4.8   Royal Tokaji   \n",
       "\n",
       "                   grapes        country       region  alcohol  \\\n",
       "11963  Cabernet Sauvignon  United States  Napa Valley      4.6   \n",
       "18084          H찼rslevel킥        Hungary        Tokaj      4.0   \n",
       "\n",
       "                                                   foods   wine_id  \\\n",
       "11963  ['Beef', 'Lamb', 'Game (deer, venison)', 'Matu...  24840468   \n",
       "18084                                                NaN  17314660   \n",
       "\n",
       "                                                      re  \n",
       "11963  ['A real sexy, smooth stunner. The middle of a...  \n",
       "18084  ['Free run juice of hand selected rotten grape...  "
      ]
     },
     "execution_count": 48,
     "metadata": {},
     "output_type": "execute_result"
    }
   ],
   "source": [
    "aa[(aa['alcohol']<5) & (aa['alcohol']!=0)]"
   ]
  },
  {
   "cell_type": "code",
   "execution_count": 49,
   "metadata": {},
   "outputs": [
    {
     "data": {
      "text/html": [
       "<div>\n",
       "<style scoped>\n",
       "    .dataframe tbody tr th:only-of-type {\n",
       "        vertical-align: middle;\n",
       "    }\n",
       "\n",
       "    .dataframe tbody tr th {\n",
       "        vertical-align: top;\n",
       "    }\n",
       "\n",
       "    .dataframe thead th {\n",
       "        text-align: right;\n",
       "    }\n",
       "</style>\n",
       "<table border=\"1\" class=\"dataframe\">\n",
       "  <thead>\n",
       "    <tr style=\"text-align: right;\">\n",
       "      <th></th>\n",
       "      <th>price</th>\n",
       "      <th>score</th>\n",
       "      <th>alcohol</th>\n",
       "      <th>wine_id</th>\n",
       "    </tr>\n",
       "  </thead>\n",
       "  <tbody>\n",
       "    <tr>\n",
       "      <th>count</th>\n",
       "      <td>23687.000000</td>\n",
       "      <td>23756.000000</td>\n",
       "      <td>14517.000000</td>\n",
       "      <td>2.375600e+04</td>\n",
       "    </tr>\n",
       "    <tr>\n",
       "      <th>mean</th>\n",
       "      <td>200.200972</td>\n",
       "      <td>4.364527</td>\n",
       "      <td>13.491631</td>\n",
       "      <td>1.891318e+07</td>\n",
       "    </tr>\n",
       "    <tr>\n",
       "      <th>std</th>\n",
       "      <td>468.786519</td>\n",
       "      <td>0.156611</td>\n",
       "      <td>2.883494</td>\n",
       "      <td>7.099267e+06</td>\n",
       "    </tr>\n",
       "    <tr>\n",
       "      <th>min</th>\n",
       "      <td>5.490000</td>\n",
       "      <td>4.000000</td>\n",
       "      <td>0.000000</td>\n",
       "      <td>5.105000e+03</td>\n",
       "    </tr>\n",
       "    <tr>\n",
       "      <th>25%</th>\n",
       "      <td>54.990000</td>\n",
       "      <td>4.200000</td>\n",
       "      <td>13.000000</td>\n",
       "      <td>1.522891e+07</td>\n",
       "    </tr>\n",
       "    <tr>\n",
       "      <th>50%</th>\n",
       "      <td>89.990000</td>\n",
       "      <td>4.300000</td>\n",
       "      <td>14.000000</td>\n",
       "      <td>2.124184e+07</td>\n",
       "    </tr>\n",
       "    <tr>\n",
       "      <th>75%</th>\n",
       "      <td>175.000000</td>\n",
       "      <td>4.500000</td>\n",
       "      <td>14.500000</td>\n",
       "      <td>2.424613e+07</td>\n",
       "    </tr>\n",
       "    <tr>\n",
       "      <th>max</th>\n",
       "      <td>9900.000000</td>\n",
       "      <td>4.900000</td>\n",
       "      <td>42.000000</td>\n",
       "      <td>2.656582e+07</td>\n",
       "    </tr>\n",
       "  </tbody>\n",
       "</table>\n",
       "</div>"
      ],
      "text/plain": [
       "              price         score       alcohol       wine_id\n",
       "count  23687.000000  23756.000000  14517.000000  2.375600e+04\n",
       "mean     200.200972      4.364527     13.491631  1.891318e+07\n",
       "std      468.786519      0.156611      2.883494  7.099267e+06\n",
       "min        5.490000      4.000000      0.000000  5.105000e+03\n",
       "25%       54.990000      4.200000     13.000000  1.522891e+07\n",
       "50%       89.990000      4.300000     14.000000  2.124184e+07\n",
       "75%      175.000000      4.500000     14.500000  2.424613e+07\n",
       "max     9900.000000      4.900000     42.000000  2.656582e+07"
      ]
     },
     "execution_count": 49,
     "metadata": {},
     "output_type": "execute_result"
    }
   ],
   "source": [
    "aa.describe()"
   ]
  },
  {
   "cell_type": "code",
   "execution_count": null,
   "metadata": {},
   "outputs": [],
   "source": []
  }
 ],
 "metadata": {
  "kernelspec": {
   "display_name": "Python 3",
   "language": "python",
   "name": "python3"
  },
  "language_info": {
   "codemirror_mode": {
    "name": "ipython",
    "version": 3
   },
   "file_extension": ".py",
   "mimetype": "text/x-python",
   "name": "python",
   "nbconvert_exporter": "python",
   "pygments_lexer": "ipython3",
   "version": "3.7.3"
  }
 },
 "nbformat": 4,
 "nbformat_minor": 2
}
